{
 "cells": [
  {
   "cell_type": "markdown",
   "id": "d0dd68a5",
   "metadata": {},
   "source": [
    "# Projeto Integrador – Análise Exploratória de Dados\n",
    "\n",
    "Entregas: \n",
    "1) Faça um relatório respondendo cada pergunta separadamente. \n",
    "2) Link para a base utilizada. \n",
    "3) Código completo em Python.\n",
    "\n",
    "\n"
   ]
  },
  {
   "cell_type": "markdown",
   "id": "dbcc3300",
   "metadata": {},
   "source": [
    "## 1) Escolha do Tema\n"
   ]
  },
  {
   "cell_type": "markdown",
   "id": "a54a5447",
   "metadata": {},
   "source": [
    "A base de dados apresentada reúne variáveis acadêmicas, socioeconômicas e comportamentais relacionadas ao desempenho dos estudantes. Entre os fatores acadêmicos estão horas de estudo, frequência às aulas, sessões de tutoria, qualidade dos professores e tipo de escola; já no aspecto socioeconômico aparecem renda familiar, escolaridade dos pais, envolvimento dos pais na vida escolar e acesso a recursos e internet; no campo comportamental e pessoal, há atividades extracurriculares, nível de motivação, horas de sono, prática de atividade física, influência dos colegas e presença de dificuldades de aprendizagem. Além disso, o conjunto inclui informações contextuais como distância da escola e gênero, e utiliza a variável Exam_Score como medida principal de desempenho."
   ]
  },
  {
   "cell_type": "markdown",
   "id": "d0d27935",
   "metadata": {},
   "source": [
    "## 2) Escolha da Base"
   ]
  },
  {
   "cell_type": "markdown",
   "id": "0cfd486d",
   "metadata": {},
   "source": [
    "https://www.kaggle.com/datasets/fehu94/student-performance-dataset"
   ]
  },
  {
   "cell_type": "markdown",
   "id": "428bd21d",
   "metadata": {},
   "source": [
    "## 3) Compreensão dos dados"
   ]
  },
  {
   "cell_type": "code",
   "execution_count": 1,
   "id": "c62083a0",
   "metadata": {},
   "outputs": [],
   "source": [
    "import pandas as pd\n",
    "import plotly.express as px\n",
    "import plotly.figure_factory as ff"
   ]
  },
  {
   "cell_type": "code",
   "execution_count": 2,
   "id": "150ce4f9",
   "metadata": {},
   "outputs": [],
   "source": [
    "df = pd.read_csv(\"data/atividade_1/tb_2.csv\")"
   ]
  },
  {
   "cell_type": "code",
   "execution_count": 3,
   "id": "465ffa0f",
   "metadata": {},
   "outputs": [
    {
     "name": "stdout",
     "output_type": "stream",
     "text": [
      "O dataset possui 6607 linhas e 20 colunas (Index(['Hours_Studied', 'Attendance', 'Parental_Involvement',\n",
      "       'Access_to_Resources', 'Extracurricular_Activities', 'Sleep_Hours',\n",
      "       'Previous_Scores', 'Motivation_Level', 'Internet_Access',\n",
      "       'Tutoring_Sessions', 'Family_Income', 'Teacher_Quality', 'School_Type',\n",
      "       'Peer_Influence', 'Physical_Activity', 'Learning_Disabilities',\n",
      "       'Parental_Education_Level', 'Distance_from_Home', 'Gender',\n",
      "       'Exam_Score'],\n",
      "      dtype='object')).\n"
     ]
    }
   ],
   "source": [
    "# a) Qual é a estrutura do dataset? (Quantas linhas e colunas existem?)\n",
    "\n",
    "linhas = df.shape[0]\n",
    "colunas = df.shape[1]\n",
    "\n",
    "print(f\"O dataset possui {linhas} linhas e {colunas} colunas ({df.columns}).\")"
   ]
  },
  {
   "cell_type": "code",
   "execution_count": 4,
   "id": "065d8e0f",
   "metadata": {},
   "outputs": [
    {
     "name": "stdout",
     "output_type": "stream",
     "text": [
      "Tipos de variáveis presentes no dataset:\n",
      "object    13\n",
      "int64      7\n",
      "Name: count, dtype: int64\n"
     ]
    }
   ],
   "source": [
    "# b) Quais são os tipos de variáveis presentes? (Numéricas, categóricas, texto, etc.)\n",
    "\n",
    "tipos_variaveis = df.dtypes.value_counts()\n",
    "print(\"Tipos de variáveis presentes no dataset:\")\n",
    "print(tipos_variaveis)"
   ]
  },
  {
   "cell_type": "code",
   "execution_count": 5,
   "id": "4987f7ae",
   "metadata": {},
   "outputs": [
    {
     "name": "stdout",
     "output_type": "stream",
     "text": [
      "Valores ausentes por coluna:\n",
      "Hours_Studied                  0\n",
      "Attendance                     0\n",
      "Parental_Involvement           0\n",
      "Access_to_Resources            0\n",
      "Extracurricular_Activities     0\n",
      "Sleep_Hours                    0\n",
      "Previous_Scores                0\n",
      "Motivation_Level               0\n",
      "Internet_Access                0\n",
      "Tutoring_Sessions              0\n",
      "Family_Income                  0\n",
      "Teacher_Quality               78\n",
      "School_Type                    0\n",
      "Peer_Influence                 0\n",
      "Physical_Activity              0\n",
      "Learning_Disabilities          0\n",
      "Parental_Education_Level      90\n",
      "Distance_from_Home            67\n",
      "Gender                         0\n",
      "Exam_Score                     0\n",
      "dtype: int64\n"
     ]
    }
   ],
   "source": [
    "# c) Existe algum problema de valores ausentes no dataset? Como lidar com eles?\n",
    "\n",
    "valores_ausentes = df.isnull().sum()\n",
    "print(\"Valores ausentes por coluna:\")\n",
    "print(valores_ausentes)\n",
    "\n",
    "# Se houver valores ausentes, podemos optar por removê-los ou preenchê-los.        "
   ]
  },
  {
   "cell_type": "code",
   "execution_count": 6,
   "id": "2428a2c2",
   "metadata": {},
   "outputs": [
    {
     "name": "stdout",
     "output_type": "stream",
     "text": [
      "Número de valores duplicados no dataset: 0\n"
     ]
    }
   ],
   "source": [
    "# d) Existem valores duplicados ou inconsistências nos dados?\n",
    "\n",
    "valores_duplicados = df.duplicated().sum()\n",
    "print(f\"Número de valores duplicados no dataset: {valores_duplicados}\") "
   ]
  },
  {
   "cell_type": "markdown",
   "id": "95ac763b",
   "metadata": {},
   "source": [
    "## 4) Estatísticas Descritivas"
   ]
  },
  {
   "cell_type": "code",
   "execution_count": 7,
   "id": "6239142e",
   "metadata": {},
   "outputs": [
    {
     "name": "stdout",
     "output_type": "stream",
     "text": [
      "                       Média  Mediana  Mínimo  Máximo  Desvio Padrão\n",
      "Hours_Studied      19.975329     20.0     1.0    44.0       5.990594\n",
      "Attendance         79.977448     80.0    60.0   100.0      11.547475\n",
      "Sleep_Hours         7.029060      7.0     4.0    10.0       1.468120\n",
      "Previous_Scores    75.070531     75.0    50.0   100.0      14.399784\n",
      "Tutoring_Sessions   1.493719      1.0     0.0     8.0       1.230570\n",
      "Physical_Activity   2.967610      3.0     0.0     6.0       1.031231\n",
      "Exam_Score         67.235659     67.0    55.0   101.0       3.890456\n"
     ]
    }
   ],
   "source": [
    "# a) Quais são as estatísticas básicas das variáveis numéricas? (Média, mediana, mínimo, máximo, desvio padrão).\n",
    "\n",
    "df_calculado_estatistica = (\n",
    "    df[\n",
    "        [\n",
    "            \"Hours_Studied\",\n",
    "            \"Attendance\",\n",
    "            \"Sleep_Hours\",\n",
    "            \"Previous_Scores\",\n",
    "            \"Tutoring_Sessions\",\n",
    "            \"Physical_Activity\",\n",
    "            \"Exam_Score\",\n",
    "        ]\n",
    "    ]\n",
    "    .agg([\"mean\", \"median\", \"min\", \"max\", \"std\"])\n",
    "    .T\n",
    ")\n",
    "\n",
    "df_calculado_estatistica.rename(\n",
    "    columns={\n",
    "        \"mean\": \"Média\",\n",
    "        \"median\": \"Mediana\",\n",
    "        \"min\": \"Mínimo\",\n",
    "        \"max\": \"Máximo\",\n",
    "        \"std\": \"Desvio Padrão\",\n",
    "    },\n",
    "    inplace=True,\n",
    ")\n",
    "\n",
    "print(df_calculado_estatistica)"
   ]
  },
  {
   "cell_type": "markdown",
   "id": "15f6b2b1",
   "metadata": {},
   "source": [
    "## 5) Visualização e Padrões"
   ]
  },
  {
   "cell_type": "code",
   "execution_count": 8,
   "id": "30e62fd8",
   "metadata": {},
   "outputs": [
    {
     "name": "stdout",
     "output_type": "stream",
     "text": [
      "Matriz de correlação entre variáveis numéricas:\n",
      "                   Hours_Studied  Attendance  Sleep_Hours  Previous_Scores  \\\n",
      "Hours_Studied           1.000000   -0.009908     0.010977         0.024846   \n",
      "Attendance             -0.009908    1.000000    -0.015918        -0.020186   \n",
      "Sleep_Hours             0.010977   -0.015918     1.000000        -0.021750   \n",
      "Previous_Scores         0.024846   -0.020186    -0.021750         1.000000   \n",
      "Tutoring_Sessions      -0.014282    0.014324    -0.012216        -0.013122   \n",
      "Physical_Activity       0.004624   -0.022435    -0.000378        -0.011274   \n",
      "Exam_Score              0.445455    0.581072    -0.017022         0.175079   \n",
      "\n",
      "                   Tutoring_Sessions  Physical_Activity  Exam_Score  \n",
      "Hours_Studied              -0.014282           0.004624    0.445455  \n",
      "Attendance                  0.014324          -0.022435    0.581072  \n",
      "Sleep_Hours                -0.012216          -0.000378   -0.017022  \n",
      "Previous_Scores            -0.013122          -0.011274    0.175079  \n",
      "Tutoring_Sessions           1.000000           0.017733    0.156525  \n",
      "Physical_Activity           0.017733           1.000000    0.027824  \n",
      "Exam_Score                  0.156525           0.027824    1.000000  \n"
     ]
    }
   ],
   "source": [
    "# a) Existe uma relação entre variáveis numéricas? (Correlação entre idade e salário, por exemplo).\n",
    "\n",
    "df_num = df[\n",
    "    [\n",
    "        \"Hours_Studied\",\n",
    "        \"Attendance\",\n",
    "        \"Sleep_Hours\",\n",
    "        \"Previous_Scores\",\n",
    "        \"Tutoring_Sessions\",\n",
    "        \"Physical_Activity\",\n",
    "        \"Exam_Score\",\n",
    "    ]\n",
    "]\n",
    "\n",
    "# calcula a matriz de correlação\n",
    "corr_matrix = df_num.corr()\n",
    "\n",
    "print(\"Matriz de correlação entre variáveis numéricas:\")\n",
    "print(corr_matrix)"
   ]
  },
  {
   "cell_type": "code",
   "execution_count": 9,
   "id": "f99af48f",
   "metadata": {},
   "outputs": [
    {
     "data": {
      "application/vnd.plotly.v1+json": {
       "config": {
        "plotlyServerURL": "https://plot.ly"
       },
       "data": [
        {
         "bingroup": "x",
         "hovertemplate": "Exam_Score=%{x}<br>count=%{y}<extra></extra>",
         "legendgroup": "",
         "marker": {
          "color": "#636efa",
          "pattern": {
           "shape": ""
          }
         },
         "name": "",
         "nbinsx": 20,
         "orientation": "v",
         "showlegend": false,
         "type": "histogram",
         "x": {
          "bdata": "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",
          "dtype": "i1"
         },
         "xaxis": "x",
         "yaxis": "y"
        }
       ],
       "layout": {
        "barmode": "relative",
        "legend": {
         "tracegroupgap": 0
        },
        "template": {
         "data": {
          "bar": [
           {
            "error_x": {
             "color": "#2a3f5f"
            },
            "error_y": {
             "color": "#2a3f5f"
            },
            "marker": {
             "line": {
              "color": "#E5ECF6",
              "width": 0.5
             },
             "pattern": {
              "fillmode": "overlay",
              "size": 10,
              "solidity": 0.2
             }
            },
            "type": "bar"
           }
          ],
          "barpolar": [
           {
            "marker": {
             "line": {
              "color": "#E5ECF6",
              "width": 0.5
             },
             "pattern": {
              "fillmode": "overlay",
              "size": 10,
              "solidity": 0.2
             }
            },
            "type": "barpolar"
           }
          ],
          "carpet": [
           {
            "aaxis": {
             "endlinecolor": "#2a3f5f",
             "gridcolor": "white",
             "linecolor": "white",
             "minorgridcolor": "white",
             "startlinecolor": "#2a3f5f"
            },
            "baxis": {
             "endlinecolor": "#2a3f5f",
             "gridcolor": "white",
             "linecolor": "white",
             "minorgridcolor": "white",
             "startlinecolor": "#2a3f5f"
            },
            "type": "carpet"
           }
          ],
          "choropleth": [
           {
            "colorbar": {
             "outlinewidth": 0,
             "ticks": ""
            },
            "type": "choropleth"
           }
          ],
          "contour": [
           {
            "colorbar": {
             "outlinewidth": 0,
             "ticks": ""
            },
            "colorscale": [
             [
              0,
              "#0d0887"
             ],
             [
              0.1111111111111111,
              "#46039f"
             ],
             [
              0.2222222222222222,
              "#7201a8"
             ],
             [
              0.3333333333333333,
              "#9c179e"
             ],
             [
              0.4444444444444444,
              "#bd3786"
             ],
             [
              0.5555555555555556,
              "#d8576b"
             ],
             [
              0.6666666666666666,
              "#ed7953"
             ],
             [
              0.7777777777777778,
              "#fb9f3a"
             ],
             [
              0.8888888888888888,
              "#fdca26"
             ],
             [
              1,
              "#f0f921"
             ]
            ],
            "type": "contour"
           }
          ],
          "contourcarpet": [
           {
            "colorbar": {
             "outlinewidth": 0,
             "ticks": ""
            },
            "type": "contourcarpet"
           }
          ],
          "heatmap": [
           {
            "colorbar": {
             "outlinewidth": 0,
             "ticks": ""
            },
            "colorscale": [
             [
              0,
              "#0d0887"
             ],
             [
              0.1111111111111111,
              "#46039f"
             ],
             [
              0.2222222222222222,
              "#7201a8"
             ],
             [
              0.3333333333333333,
              "#9c179e"
             ],
             [
              0.4444444444444444,
              "#bd3786"
             ],
             [
              0.5555555555555556,
              "#d8576b"
             ],
             [
              0.6666666666666666,
              "#ed7953"
             ],
             [
              0.7777777777777778,
              "#fb9f3a"
             ],
             [
              0.8888888888888888,
              "#fdca26"
             ],
             [
              1,
              "#f0f921"
             ]
            ],
            "type": "heatmap"
           }
          ],
          "histogram": [
           {
            "marker": {
             "pattern": {
              "fillmode": "overlay",
              "size": 10,
              "solidity": 0.2
             }
            },
            "type": "histogram"
           }
          ],
          "histogram2d": [
           {
            "colorbar": {
             "outlinewidth": 0,
             "ticks": ""
            },
            "colorscale": [
             [
              0,
              "#0d0887"
             ],
             [
              0.1111111111111111,
              "#46039f"
             ],
             [
              0.2222222222222222,
              "#7201a8"
             ],
             [
              0.3333333333333333,
              "#9c179e"
             ],
             [
              0.4444444444444444,
              "#bd3786"
             ],
             [
              0.5555555555555556,
              "#d8576b"
             ],
             [
              0.6666666666666666,
              "#ed7953"
             ],
             [
              0.7777777777777778,
              "#fb9f3a"
             ],
             [
              0.8888888888888888,
              "#fdca26"
             ],
             [
              1,
              "#f0f921"
             ]
            ],
            "type": "histogram2d"
           }
          ],
          "histogram2dcontour": [
           {
            "colorbar": {
             "outlinewidth": 0,
             "ticks": ""
            },
            "colorscale": [
             [
              0,
              "#0d0887"
             ],
             [
              0.1111111111111111,
              "#46039f"
             ],
             [
              0.2222222222222222,
              "#7201a8"
             ],
             [
              0.3333333333333333,
              "#9c179e"
             ],
             [
              0.4444444444444444,
              "#bd3786"
             ],
             [
              0.5555555555555556,
              "#d8576b"
             ],
             [
              0.6666666666666666,
              "#ed7953"
             ],
             [
              0.7777777777777778,
              "#fb9f3a"
             ],
             [
              0.8888888888888888,
              "#fdca26"
             ],
             [
              1,
              "#f0f921"
             ]
            ],
            "type": "histogram2dcontour"
           }
          ],
          "mesh3d": [
           {
            "colorbar": {
             "outlinewidth": 0,
             "ticks": ""
            },
            "type": "mesh3d"
           }
          ],
          "parcoords": [
           {
            "line": {
             "colorbar": {
              "outlinewidth": 0,
              "ticks": ""
             }
            },
            "type": "parcoords"
           }
          ],
          "pie": [
           {
            "automargin": true,
            "type": "pie"
           }
          ],
          "scatter": [
           {
            "fillpattern": {
             "fillmode": "overlay",
             "size": 10,
             "solidity": 0.2
            },
            "type": "scatter"
           }
          ],
          "scatter3d": [
           {
            "line": {
             "colorbar": {
              "outlinewidth": 0,
              "ticks": ""
             }
            },
            "marker": {
             "colorbar": {
              "outlinewidth": 0,
              "ticks": ""
             }
            },
            "type": "scatter3d"
           }
          ],
          "scattercarpet": [
           {
            "marker": {
             "colorbar": {
              "outlinewidth": 0,
              "ticks": ""
             }
            },
            "type": "scattercarpet"
           }
          ],
          "scattergeo": [
           {
            "marker": {
             "colorbar": {
              "outlinewidth": 0,
              "ticks": ""
             }
            },
            "type": "scattergeo"
           }
          ],
          "scattergl": [
           {
            "marker": {
             "colorbar": {
              "outlinewidth": 0,
              "ticks": ""
             }
            },
            "type": "scattergl"
           }
          ],
          "scattermap": [
           {
            "marker": {
             "colorbar": {
              "outlinewidth": 0,
              "ticks": ""
             }
            },
            "type": "scattermap"
           }
          ],
          "scattermapbox": [
           {
            "marker": {
             "colorbar": {
              "outlinewidth": 0,
              "ticks": ""
             }
            },
            "type": "scattermapbox"
           }
          ],
          "scatterpolar": [
           {
            "marker": {
             "colorbar": {
              "outlinewidth": 0,
              "ticks": ""
             }
            },
            "type": "scatterpolar"
           }
          ],
          "scatterpolargl": [
           {
            "marker": {
             "colorbar": {
              "outlinewidth": 0,
              "ticks": ""
             }
            },
            "type": "scatterpolargl"
           }
          ],
          "scatterternary": [
           {
            "marker": {
             "colorbar": {
              "outlinewidth": 0,
              "ticks": ""
             }
            },
            "type": "scatterternary"
           }
          ],
          "surface": [
           {
            "colorbar": {
             "outlinewidth": 0,
             "ticks": ""
            },
            "colorscale": [
             [
              0,
              "#0d0887"
             ],
             [
              0.1111111111111111,
              "#46039f"
             ],
             [
              0.2222222222222222,
              "#7201a8"
             ],
             [
              0.3333333333333333,
              "#9c179e"
             ],
             [
              0.4444444444444444,
              "#bd3786"
             ],
             [
              0.5555555555555556,
              "#d8576b"
             ],
             [
              0.6666666666666666,
              "#ed7953"
             ],
             [
              0.7777777777777778,
              "#fb9f3a"
             ],
             [
              0.8888888888888888,
              "#fdca26"
             ],
             [
              1,
              "#f0f921"
             ]
            ],
            "type": "surface"
           }
          ],
          "table": [
           {
            "cells": {
             "fill": {
              "color": "#EBF0F8"
             },
             "line": {
              "color": "white"
             }
            },
            "header": {
             "fill": {
              "color": "#C8D4E3"
             },
             "line": {
              "color": "white"
             }
            },
            "type": "table"
           }
          ]
         },
         "layout": {
          "annotationdefaults": {
           "arrowcolor": "#2a3f5f",
           "arrowhead": 0,
           "arrowwidth": 1
          },
          "autotypenumbers": "strict",
          "coloraxis": {
           "colorbar": {
            "outlinewidth": 0,
            "ticks": ""
           }
          },
          "colorscale": {
           "diverging": [
            [
             0,
             "#8e0152"
            ],
            [
             0.1,
             "#c51b7d"
            ],
            [
             0.2,
             "#de77ae"
            ],
            [
             0.3,
             "#f1b6da"
            ],
            [
             0.4,
             "#fde0ef"
            ],
            [
             0.5,
             "#f7f7f7"
            ],
            [
             0.6,
             "#e6f5d0"
            ],
            [
             0.7,
             "#b8e186"
            ],
            [
             0.8,
             "#7fbc41"
            ],
            [
             0.9,
             "#4d9221"
            ],
            [
             1,
             "#276419"
            ]
           ],
           "sequential": [
            [
             0,
             "#0d0887"
            ],
            [
             0.1111111111111111,
             "#46039f"
            ],
            [
             0.2222222222222222,
             "#7201a8"
            ],
            [
             0.3333333333333333,
             "#9c179e"
            ],
            [
             0.4444444444444444,
             "#bd3786"
            ],
            [
             0.5555555555555556,
             "#d8576b"
            ],
            [
             0.6666666666666666,
             "#ed7953"
            ],
            [
             0.7777777777777778,
             "#fb9f3a"
            ],
            [
             0.8888888888888888,
             "#fdca26"
            ],
            [
             1,
             "#f0f921"
            ]
           ],
           "sequentialminus": [
            [
             0,
             "#0d0887"
            ],
            [
             0.1111111111111111,
             "#46039f"
            ],
            [
             0.2222222222222222,
             "#7201a8"
            ],
            [
             0.3333333333333333,
             "#9c179e"
            ],
            [
             0.4444444444444444,
             "#bd3786"
            ],
            [
             0.5555555555555556,
             "#d8576b"
            ],
            [
             0.6666666666666666,
             "#ed7953"
            ],
            [
             0.7777777777777778,
             "#fb9f3a"
            ],
            [
             0.8888888888888888,
             "#fdca26"
            ],
            [
             1,
             "#f0f921"
            ]
           ]
          },
          "colorway": [
           "#636efa",
           "#EF553B",
           "#00cc96",
           "#ab63fa",
           "#FFA15A",
           "#19d3f3",
           "#FF6692",
           "#B6E880",
           "#FF97FF",
           "#FECB52"
          ],
          "font": {
           "color": "#2a3f5f"
          },
          "geo": {
           "bgcolor": "white",
           "lakecolor": "white",
           "landcolor": "#E5ECF6",
           "showlakes": true,
           "showland": true,
           "subunitcolor": "white"
          },
          "hoverlabel": {
           "align": "left"
          },
          "hovermode": "closest",
          "mapbox": {
           "style": "light"
          },
          "paper_bgcolor": "white",
          "plot_bgcolor": "#E5ECF6",
          "polar": {
           "angularaxis": {
            "gridcolor": "white",
            "linecolor": "white",
            "ticks": ""
           },
           "bgcolor": "#E5ECF6",
           "radialaxis": {
            "gridcolor": "white",
            "linecolor": "white",
            "ticks": ""
           }
          },
          "scene": {
           "xaxis": {
            "backgroundcolor": "#E5ECF6",
            "gridcolor": "white",
            "gridwidth": 2,
            "linecolor": "white",
            "showbackground": true,
            "ticks": "",
            "zerolinecolor": "white"
           },
           "yaxis": {
            "backgroundcolor": "#E5ECF6",
            "gridcolor": "white",
            "gridwidth": 2,
            "linecolor": "white",
            "showbackground": true,
            "ticks": "",
            "zerolinecolor": "white"
           },
           "zaxis": {
            "backgroundcolor": "#E5ECF6",
            "gridcolor": "white",
            "gridwidth": 2,
            "linecolor": "white",
            "showbackground": true,
            "ticks": "",
            "zerolinecolor": "white"
           }
          },
          "shapedefaults": {
           "line": {
            "color": "#2a3f5f"
           }
          },
          "ternary": {
           "aaxis": {
            "gridcolor": "white",
            "linecolor": "white",
            "ticks": ""
           },
           "baxis": {
            "gridcolor": "white",
            "linecolor": "white",
            "ticks": ""
           },
           "bgcolor": "#E5ECF6",
           "caxis": {
            "gridcolor": "white",
            "linecolor": "white",
            "ticks": ""
           }
          },
          "title": {
           "x": 0.05
          },
          "xaxis": {
           "automargin": true,
           "gridcolor": "white",
           "linecolor": "white",
           "ticks": "",
           "title": {
            "standoff": 15
           },
           "zerolinecolor": "white",
           "zerolinewidth": 2
          },
          "yaxis": {
           "automargin": true,
           "gridcolor": "white",
           "linecolor": "white",
           "ticks": "",
           "title": {
            "standoff": 15
           },
           "zerolinecolor": "white",
           "zerolinewidth": 2
          }
         }
        },
        "title": {
         "text": "Distribuição das notas."
        },
        "xaxis": {
         "anchor": "y",
         "domain": [
          0,
          1
         ],
         "title": {
          "text": "Exam_Score"
         }
        },
        "yaxis": {
         "anchor": "x",
         "domain": [
          0,
          1
         ],
         "title": {
          "text": "count"
         }
        }
       }
      }
     },
     "metadata": {},
     "output_type": "display_data"
    }
   ],
   "source": [
    "# 1) Histograma\n",
    "fig = px.histogram(\n",
    "    df, x=\"Exam_Score\", nbins=20, title=\"Distribuição das notas.\"\n",
    ")\n",
    "fig.show()"
   ]
  },
  {
   "cell_type": "code",
   "execution_count": 10,
   "id": "c36d0eec",
   "metadata": {},
   "outputs": [
    {
     "data": {
      "application/vnd.plotly.v1+json": {
       "config": {
        "plotlyServerURL": "https://plot.ly"
       },
       "data": [
        {
         "alignmentgroup": "True",
         "hovertemplate": "Gender=%{x}<br>Exam_Score=%{y}<extra></extra>",
         "legendgroup": "",
         "marker": {
          "color": "#636efa"
         },
         "name": "",
         "notched": false,
         "offsetgroup": "",
         "orientation": "v",
         "showlegend": false,
         "type": "box",
         "x": [
          "Male",
          "Female",
          "Male",
          "Male",
          "Female",
          "Male",
          "Male",
          "Male",
          "Male",
          "Male",
          "Male",
          "Male",
          "Male",
          "Male",
          "Male",
          "Female",
          "Male",
          "Female",
          "Female",
          "Male",
          "Female",
          "Male",
          "Female",
          "Male",
          "Female",
          "Male",
          "Female",
          "Male",
          "Female",
          "Male",
          "Female",
          "Male",
          "Male",
          "Female",
          "Female",
          "Male",
          "Female",
          "Female",
          "Female",
          "Male",
          "Male",
          "Female",
          "Male",
          "Male",
          "Male",
          "Male",
          "Female",
          "Female",
          "Male",
          "Male",
          "Male",
          "Male",
          "Male",
          "Female",
          "Female",
          "Male",
          "Female",
          "Male",
          "Female",
          "Male",
          "Female",
          "Male",
          "Male",
          "Male",
          "Male",
          "Male",
          "Male",
          "Male",
          "Female",
          "Male",
          "Female",
          "Male",
          "Female",
          "Female",
          "Male",
          "Female",
          "Male",
          "Female",
          "Male",
          "Male",
          "Male",
          "Male",
          "Male",
          "Female",
          "Male",
          "Male",
          "Male",
          "Male",
          "Male",
          "Female",
          "Male",
          "Female",
          "Male",
          "Male",
          "Female",
          "Male",
          "Male",
          "Female",
          "Male",
          "Male",
          "Male",
          "Female",
          "Male",
          "Male",
          "Male",
          "Male",
          "Male",
          "Female",
          "Female",
          "Male",
          "Male",
          "Male",
          "Male",
          "Female",
          "Female",
          "Female",
          "Male",
          "Male",
          "Female",
          "Female",
          "Female",
          "Male",
          "Female",
          "Male",
          "Male",
          "Male",
          "Female",
          "Male",
          "Male",
          "Female",
          "Male",
          "Female",
          "Male",
          "Male",
          "Female",
          "Female",
          "Male",
          "Female",
          "Male",
          "Male",
          "Male",
          "Male",
          "Female",
          "Female",
          "Female",
          "Female",
          "Male",
          "Female",
          "Female",
          "Female",
          "Female",
          "Female",
          "Male",
          "Female",
          "Female",
          "Female",
          "Male",
          "Male",
          "Female",
          "Male",
          "Female",
          "Male",
          "Male",
          "Male",
          "Male",
          "Male",
          "Male",
          "Male",
          "Male",
          "Male",
          "Male",
          "Male",
          "Female",
          "Male",
          "Male",
          "Female",
          "Male",
          "Female",
          "Female",
          "Male",
          "Male",
          "Male",
          "Male",
          "Male",
          "Male",
          "Female",
          "Male",
          "Male",
          "Female",
          "Male",
          "Male",
          "Male",
          "Male",
          "Female",
          "Male",
          "Male",
          "Male",
          "Male",
          "Male",
          "Female",
          "Female",
          "Male",
          "Male",
          "Female",
          "Male",
          "Male",
          "Male",
          "Male",
          "Male",
          "Female",
          "Female",
          "Male",
          "Male",
          "Female",
          "Male",
          "Female",
          "Male",
          "Male",
          "Male",
          "Female",
          "Male",
          "Male",
          "Male",
          "Female",
          "Female",
          "Female",
          "Female",
          "Male",
          "Male",
          "Male",
          "Male",
          "Female",
          "Female",
          "Male",
          "Female",
          "Female",
          "Male",
          "Male",
          "Male",
          "Male",
          "Male",
          "Male",
          "Male",
          "Female",
          "Male",
          "Male",
          "Female",
          "Male",
          "Male",
          "Female",
          "Male",
          "Female",
          "Male",
          "Male",
          "Male",
          "Male",
          "Female",
          "Female",
          "Female",
          "Female",
          "Male",
          "Female",
          "Female",
          "Female",
          "Female",
          "Male",
          "Male",
          "Female",
          "Male",
          "Male",
          "Female",
          "Male",
          "Male",
          "Male",
          "Female",
          "Male",
          "Female",
          "Male",
          "Male",
          "Male",
          "Female",
          "Male",
          "Female",
          "Female",
          "Female",
          "Female",
          "Male",
          "Male",
          "Female",
          "Female",
          "Female",
          "Female",
          "Female",
          "Male",
          "Female",
          "Female",
          "Female",
          "Male",
          "Female",
          "Female",
          "Male",
          "Female",
          "Male",
          "Female",
          "Male",
          "Male",
          "Male",
          "Female",
          "Male",
          "Female",
          "Female",
          "Female",
          "Male",
          "Female",
          "Female",
          "Male",
          "Male",
          "Male",
          "Female",
          "Male",
          "Male",
          "Female",
          "Male",
          "Female",
          "Female",
          "Male",
          "Female",
          "Male",
          "Male",
          "Female",
          "Male",
          "Female",
          "Male",
          "Male",
          "Female",
          "Male",
          "Female",
          "Male",
          "Female",
          "Male",
          "Male",
          "Male",
          "Male",
          "Female",
          "Male",
          "Male",
          "Male",
          "Female",
          "Female",
          "Male",
          "Male",
          "Male",
          "Female",
          "Male",
          "Male",
          "Female",
          "Female",
          "Male",
          "Female",
          "Female",
          "Female",
          "Male",
          "Male",
          "Female",
          "Male",
          "Male",
          "Male",
          "Female",
          "Male",
          "Female",
          "Male",
          "Male",
          "Male",
          "Male",
          "Female",
          "Female",
          "Male",
          "Male",
          "Female",
          "Female",
          "Female",
          "Female",
          "Male",
          "Female",
          "Male",
          "Male",
          "Female",
          "Female",
          "Female",
          "Male",
          "Male",
          "Male",
          "Female",
          "Male",
          "Female",
          "Male",
          "Female",
          "Female",
          "Male",
          "Male",
          "Female",
          "Male",
          "Female",
          "Female",
          "Male",
          "Female",
          "Male",
          "Female",
          "Male",
          "Female",
          "Male",
          "Male",
          "Male",
          "Female",
          "Male",
          "Female",
          "Male",
          "Female",
          "Female",
          "Male",
          "Male",
          "Male",
          "Male",
          "Male",
          "Female",
          "Male",
          "Female",
          "Female",
          "Male",
          "Female",
          "Male",
          "Female",
          "Male",
          "Female",
          "Female",
          "Female",
          "Female",
          "Male",
          "Male",
          "Female",
          "Male",
          "Female",
          "Male",
          "Female",
          "Male",
          "Male",
          "Female",
          "Male",
          "Male",
          "Male",
          "Male",
          "Male",
          "Male",
          "Male",
          "Male",
          "Female",
          "Male",
          "Male",
          "Male",
          "Female",
          "Male",
          "Female",
          "Male",
          "Male",
          "Female",
          "Male",
          "Male",
          "Female",
          "Female",
          "Female",
          "Female",
          "Female",
          "Female",
          "Male",
          "Female",
          "Female",
          "Male",
          "Male",
          "Male",
          "Female",
          "Male",
          "Female",
          "Male",
          "Female",
          "Male",
          "Female",
          "Female",
          "Female",
          "Female",
          "Female",
          "Male",
          "Male",
          "Female",
          "Male",
          "Male",
          "Male",
          "Male",
          "Male",
          "Female",
          "Male",
          "Male",
          "Male",
          "Female",
          "Female",
          "Female",
          "Male",
          "Female",
          "Female",
          "Female",
          "Female",
          "Male",
          "Male",
          "Male",
          "Male",
          "Female",
          "Female",
          "Female",
          "Male",
          "Male",
          "Male",
          "Male",
          "Male",
          "Female",
          "Male",
          "Female",
          "Male",
          "Female",
          "Male",
          "Male",
          "Female",
          "Female",
          "Male",
          "Male",
          "Male",
          "Female",
          "Female",
          "Male",
          "Male",
          "Female",
          "Male",
          "Female",
          "Male",
          "Female",
          "Male",
          "Male",
          "Male",
          "Female",
          "Female",
          "Female",
          "Female",
          "Male",
          "Male",
          "Female",
          "Male",
          "Male",
          "Male",
          "Male",
          "Male",
          "Female",
          "Female",
          "Female",
          "Female",
          "Female",
          "Male",
          "Male",
          "Female",
          "Male",
          "Male",
          "Male",
          "Male",
          "Male",
          "Male",
          "Male",
          "Female",
          "Male",
          "Female",
          "Male",
          "Male",
          "Male",
          "Male",
          "Female",
          "Female",
          "Female",
          "Female",
          "Male",
          "Male",
          "Male",
          "Male",
          "Male",
          "Male",
          "Male",
          "Male",
          "Male",
          "Female",
          "Female",
          "Female",
          "Female",
          "Male",
          "Male",
          "Male",
          "Female",
          "Female",
          "Male",
          "Male",
          "Female",
          "Female",
          "Female",
          "Male",
          "Male",
          "Female",
          "Female",
          "Female",
          "Male",
          "Male",
          "Female",
          "Male",
          "Male",
          "Female",
          "Male",
          "Male",
          "Female",
          "Female",
          "Male",
          "Male",
          "Female",
          "Female",
          "Female",
          "Male",
          "Male",
          "Female",
          "Female",
          "Female",
          "Male",
          "Male",
          "Male",
          "Female",
          "Female",
          "Male",
          "Male",
          "Male",
          "Male",
          "Female",
          "Female",
          "Male",
          "Male",
          "Female",
          "Male",
          "Male",
          "Female",
          "Female",
          "Female",
          "Male",
          "Male",
          "Male",
          "Male",
          "Female",
          "Male",
          "Female",
          "Male",
          "Male",
          "Female",
          "Male",
          "Male",
          "Male",
          "Male",
          "Male",
          "Male",
          "Female",
          "Female",
          "Male",
          "Male",
          "Female",
          "Male",
          "Female",
          "Female",
          "Male",
          "Female",
          "Female",
          "Female",
          "Male",
          "Male",
          "Female",
          "Male",
          "Female",
          "Male",
          "Male",
          "Female",
          "Female",
          "Female",
          "Female",
          "Male",
          "Male",
          "Female",
          "Male",
          "Female",
          "Male",
          "Male",
          "Male",
          "Male",
          "Female",
          "Female",
          "Female",
          "Male",
          "Male",
          "Male",
          "Male",
          "Male",
          "Male",
          "Male",
          "Male",
          "Male",
          "Male",
          "Male",
          "Male",
          "Female",
          "Male",
          "Female",
          "Male",
          "Female",
          "Male",
          "Female",
          "Male",
          "Female",
          "Male",
          "Male",
          "Female",
          "Male",
          "Female",
          "Male",
          "Male",
          "Female",
          "Male",
          "Male",
          "Female",
          "Female",
          "Female",
          "Male",
          "Male",
          "Male",
          "Male",
          "Female",
          "Male",
          "Male",
          "Male",
          "Female",
          "Female",
          "Female",
          "Male",
          "Female",
          "Female",
          "Male",
          "Male",
          "Male",
          "Male",
          "Female",
          "Male",
          "Male",
          "Female",
          "Female",
          "Female",
          "Male",
          "Male",
          "Male",
          "Male",
          "Male",
          "Male",
          "Male",
          "Male",
          "Male",
          "Female",
          "Female",
          "Male",
          "Male",
          "Male",
          "Male",
          "Male",
          "Female",
          "Female",
          "Female",
          "Female",
          "Female",
          "Male",
          "Female",
          "Male",
          "Female",
          "Male",
          "Male",
          "Female",
          "Male",
          "Male",
          "Male",
          "Male",
          "Female",
          "Female",
          "Male",
          "Male",
          "Female",
          "Male",
          "Male",
          "Male",
          "Female",
          "Male",
          "Male",
          "Male",
          "Male",
          "Male",
          "Male",
          "Male",
          "Male",
          "Male",
          "Female",
          "Female",
          "Male",
          "Male",
          "Male",
          "Female",
          "Female",
          "Male",
          "Female",
          "Female",
          "Female",
          "Male",
          "Male",
          "Male",
          "Female",
          "Female",
          "Male",
          "Male",
          "Male",
          "Male",
          "Male",
          "Male",
          "Male",
          "Female",
          "Male",
          "Male",
          "Male",
          "Female",
          "Male",
          "Female",
          "Male",
          "Female",
          "Female",
          "Male",
          "Female",
          "Male",
          "Male",
          "Male",
          "Male",
          "Female",
          "Female",
          "Male",
          "Male",
          "Male",
          "Female",
          "Male",
          "Female",
          "Male",
          "Male",
          "Female",
          "Male",
          "Male",
          "Male",
          "Male",
          "Female",
          "Male",
          "Male",
          "Male",
          "Male",
          "Female",
          "Female",
          "Female",
          "Male",
          "Male",
          "Male",
          "Female",
          "Male",
          "Male",
          "Female",
          "Male",
          "Male",
          "Male",
          "Male",
          "Male",
          "Male",
          "Male",
          "Male",
          "Female",
          "Male",
          "Female",
          "Male",
          "Male",
          "Female",
          "Male",
          "Male",
          "Female",
          "Male",
          "Male",
          "Male",
          "Female",
          "Female",
          "Male",
          "Male",
          "Male",
          "Male",
          "Male",
          "Male",
          "Male",
          "Male",
          "Female",
          "Male",
          "Male",
          "Male",
          "Female",
          "Female",
          "Female",
          "Male",
          "Female",
          "Male",
          "Male",
          "Male",
          "Female",
          "Female",
          "Female",
          "Female",
          "Male",
          "Male",
          "Male",
          "Female",
          "Male",
          "Female",
          "Male",
          "Male",
          "Male",
          "Male",
          "Female",
          "Male",
          "Male",
          "Male",
          "Male",
          "Male",
          "Male",
          "Female",
          "Male",
          "Male",
          "Male",
          "Male",
          "Male",
          "Male",
          "Male",
          "Female",
          "Male",
          "Female",
          "Female",
          "Male",
          "Male",
          "Male",
          "Male",
          "Female",
          "Female",
          "Male",
          "Male",
          "Male",
          "Male",
          "Female",
          "Male",
          "Male",
          "Female",
          "Male",
          "Male",
          "Male",
          "Male",
          "Female",
          "Female",
          "Male",
          "Female",
          "Male",
          "Female",
          "Female",
          "Male",
          "Female",
          "Male",
          "Male",
          "Female",
          "Female",
          "Female",
          "Female",
          "Male",
          "Male",
          "Female",
          "Male",
          "Female",
          "Male",
          "Female",
          "Male",
          "Female",
          "Male",
          "Female",
          "Male",
          "Male",
          "Female",
          "Female",
          "Female",
          "Male",
          "Male",
          "Male",
          "Male",
          "Female",
          "Male",
          "Male",
          "Male",
          "Male",
          "Male",
          "Male",
          "Male",
          "Male",
          "Female",
          "Male",
          "Male",
          "Female",
          "Female",
          "Female",
          "Female",
          "Male",
          "Female",
          "Male",
          "Male",
          "Female",
          "Male",
          "Female",
          "Female",
          "Male",
          "Female",
          "Male",
          "Male",
          "Female",
          "Male",
          "Female",
          "Male",
          "Male",
          "Female",
          "Male",
          "Male",
          "Male",
          "Female",
          "Male",
          "Female",
          "Male",
          "Female",
          "Female",
          "Male",
          "Male",
          "Female",
          "Female",
          "Male",
          "Female",
          "Female",
          "Female",
          "Female",
          "Male",
          "Female",
          "Male",
          "Male",
          "Male",
          "Male",
          "Male",
          "Male",
          "Male",
          "Female",
          "Male",
          "Male",
          "Male",
          "Male",
          "Male",
          "Male",
          "Female",
          "Female",
          "Female",
          "Male",
          "Male",
          "Male",
          "Female",
          "Male",
          "Male",
          "Male",
          "Male",
          "Female",
          "Female",
          "Female",
          "Male",
          "Female",
          "Female",
          "Female",
          "Male",
          "Female",
          "Female",
          "Male",
          "Female",
          "Female",
          "Male",
          "Male",
          "Male",
          "Female",
          "Female",
          "Male",
          "Male",
          "Male",
          "Female",
          "Male",
          "Male",
          "Female",
          "Male",
          "Male",
          "Male",
          "Male",
          "Male",
          "Female",
          "Female",
          "Female",
          "Female",
          "Male",
          "Male",
          "Male",
          "Female",
          "Female",
          "Male",
          "Male",
          "Male",
          "Male",
          "Female",
          "Male",
          "Female",
          "Male",
          "Female",
          "Female",
          "Female",
          "Male",
          "Male",
          "Male",
          "Male",
          "Female",
          "Female",
          "Male",
          "Male",
          "Male",
          "Female",
          "Female",
          "Male",
          "Male",
          "Female",
          "Female",
          "Male",
          "Female",
          "Female",
          "Male",
          "Male",
          "Male",
          "Male",
          "Male",
          "Male",
          "Male",
          "Male",
          "Male",
          "Male",
          "Female",
          "Female",
          "Male",
          "Male",
          "Female",
          "Male",
          "Female",
          "Male",
          "Female",
          "Male",
          "Female",
          "Female",
          "Female",
          "Female",
          "Male",
          "Male",
          "Male",
          "Male",
          "Male",
          "Female",
          "Female",
          "Male",
          "Male",
          "Male",
          "Female",
          "Male",
          "Female",
          "Female",
          "Female",
          "Male",
          "Male",
          "Female",
          "Female",
          "Female",
          "Male",
          "Female",
          "Male",
          "Female",
          "Female",
          "Female",
          "Female",
          "Male",
          "Female",
          "Female",
          "Male",
          "Female",
          "Male",
          "Female",
          "Male",
          "Female",
          "Male",
          "Male",
          "Male",
          "Male",
          "Female",
          "Male",
          "Female",
          "Female",
          "Female",
          "Female",
          "Male",
          "Male",
          "Male",
          "Male",
          "Female",
          "Male",
          "Female",
          "Male",
          "Female",
          "Male",
          "Male",
          "Female",
          "Male",
          "Female",
          "Male",
          "Male",
          "Female",
          "Male",
          "Female",
          "Male",
          "Female",
          "Male",
          "Male",
          "Male",
          "Male",
          "Male",
          "Female",
          "Female",
          "Male",
          "Male",
          "Male",
          "Male",
          "Male",
          "Male",
          "Female",
          "Female",
          "Male",
          "Male",
          "Female",
          "Male",
          "Female",
          "Female",
          "Female",
          "Male",
          "Female",
          "Female",
          "Male",
          "Female",
          "Male",
          "Male",
          "Female",
          "Female",
          "Female",
          "Female",
          "Male",
          "Male",
          "Male",
          "Male",
          "Female",
          "Male",
          "Female",
          "Female",
          "Male",
          "Male",
          "Female",
          "Female",
          "Female",
          "Male",
          "Male",
          "Male",
          "Male",
          "Female",
          "Female",
          "Male",
          "Male",
          "Male",
          "Female",
          "Male",
          "Female",
          "Male",
          "Female",
          "Male",
          "Male",
          "Female",
          "Female",
          "Male",
          "Male",
          "Male",
          "Male",
          "Female",
          "Female",
          "Male",
          "Male",
          "Male",
          "Male",
          "Male",
          "Female",
          "Male",
          "Female",
          "Female",
          "Female",
          "Female",
          "Female",
          "Female",
          "Male",
          "Male",
          "Male",
          "Female",
          "Female",
          "Male",
          "Female",
          "Female",
          "Female",
          "Female",
          "Female",
          "Male",
          "Male",
          "Male",
          "Male",
          "Male",
          "Female",
          "Female",
          "Female",
          "Male",
          "Male",
          "Male",
          "Male",
          "Male",
          "Male",
          "Male",
          "Female",
          "Male",
          "Female",
          "Male",
          "Female",
          "Male",
          "Male",
          "Male",
          "Female",
          "Male",
          "Male",
          "Female",
          "Male",
          "Male",
          "Male",
          "Female",
          "Male",
          "Male",
          "Male",
          "Male",
          "Female",
          "Male",
          "Male",
          "Male",
          "Male",
          "Male",
          "Male",
          "Male",
          "Female",
          "Male",
          "Female",
          "Male",
          "Male",
          "Female",
          "Male",
          "Male",
          "Female",
          "Male",
          "Male",
          "Male",
          "Male",
          "Female",
          "Male",
          "Male",
          "Male",
          "Male",
          "Female",
          "Male",
          "Female",
          "Male",
          "Female",
          "Male",
          "Male",
          "Female",
          "Female",
          "Male",
          "Male",
          "Male",
          "Female",
          "Male",
          "Female",
          "Female",
          "Female",
          "Male",
          "Male",
          "Female",
          "Female",
          "Female",
          "Male",
          "Female",
          "Male",
          "Male",
          "Female",
          "Male",
          "Female",
          "Male",
          "Female",
          "Male",
          "Female",
          "Male",
          "Female",
          "Female",
          "Male",
          "Male",
          "Female",
          "Female",
          "Female",
          "Female",
          "Male",
          "Male",
          "Male",
          "Male",
          "Female",
          "Male",
          "Female",
          "Female",
          "Female",
          "Female",
          "Male",
          "Female",
          "Male",
          "Male",
          "Female",
          "Male",
          "Female",
          "Female",
          "Female",
          "Male",
          "Female",
          "Male",
          "Female",
          "Male",
          "Female",
          "Male",
          "Male",
          "Male",
          "Male",
          "Female",
          "Male",
          "Male",
          "Male",
          "Male",
          "Male",
          "Female",
          "Male",
          "Male",
          "Male",
          "Male",
          "Male",
          "Male",
          "Female",
          "Male",
          "Male",
          "Male",
          "Female",
          "Female",
          "Male",
          "Female",
          "Male",
          "Male",
          "Male",
          "Male",
          "Male",
          "Male",
          "Male",
          "Male",
          "Male",
          "Male",
          "Female",
          "Male",
          "Female",
          "Female",
          "Male",
          "Male",
          "Male",
          "Female",
          "Male",
          "Male",
          "Male",
          "Female",
          "Male",
          "Female",
          "Male",
          "Female",
          "Male",
          "Male",
          "Female",
          "Female",
          "Male",
          "Male",
          "Female",
          "Female",
          "Male",
          "Male",
          "Female",
          "Male",
          "Female",
          "Male",
          "Female",
          "Female",
          "Female",
          "Male",
          "Male",
          "Male",
          "Female",
          "Female",
          "Male",
          "Female",
          "Female",
          "Male",
          "Male",
          "Female",
          "Male",
          "Female",
          "Male",
          "Female",
          "Male",
          "Male",
          "Male",
          "Male",
          "Male",
          "Male",
          "Female",
          "Female",
          "Male",
          "Female",
          "Male",
          "Female",
          "Female",
          "Male",
          "Female",
          "Female",
          "Male",
          "Female",
          "Female",
          "Male",
          "Female",
          "Female",
          "Male",
          "Male",
          "Male",
          "Female",
          "Female",
          "Male",
          "Female",
          "Female",
          "Female",
          "Male",
          "Male",
          "Female",
          "Male",
          "Female",
          "Female",
          "Male",
          "Female",
          "Male",
          "Male",
          "Male",
          "Male",
          "Male",
          "Female",
          "Female",
          "Male",
          "Female",
          "Male",
          "Male",
          "Female",
          "Female",
          "Female",
          "Male",
          "Female",
          "Female",
          "Female",
          "Male",
          "Male",
          "Female",
          "Female",
          "Male",
          "Male",
          "Male",
          "Male",
          "Male",
          "Male",
          "Male",
          "Male",
          "Male",
          "Male",
          "Male",
          "Female",
          "Male",
          "Female",
          "Male",
          "Female",
          "Male",
          "Male",
          "Male",
          "Female",
          "Male",
          "Male",
          "Male",
          "Female",
          "Male",
          "Male",
          "Male",
          "Male",
          "Female",
          "Male",
          "Male",
          "Female",
          "Female",
          "Male",
          "Female",
          "Male",
          "Male",
          "Female",
          "Female",
          "Male",
          "Male",
          "Male",
          "Male",
          "Male",
          "Male",
          "Female",
          "Female",
          "Male",
          "Male",
          "Male",
          "Male",
          "Male",
          "Female",
          "Male",
          "Female",
          "Female",
          "Male",
          "Male",
          "Female",
          "Female",
          "Female",
          "Male",
          "Male",
          "Male",
          "Female",
          "Female",
          "Female",
          "Male",
          "Female",
          "Male",
          "Male",
          "Male",
          "Female",
          "Female",
          "Male",
          "Female",
          "Male",
          "Male",
          "Male",
          "Male",
          "Male",
          "Male",
          "Female",
          "Male",
          "Female",
          "Male",
          "Female",
          "Female",
          "Female",
          "Male",
          "Female",
          "Male",
          "Female",
          "Male",
          "Male",
          "Male",
          "Female",
          "Male",
          "Female",
          "Female",
          "Female",
          "Male",
          "Female",
          "Male",
          "Male",
          "Female",
          "Female",
          "Female",
          "Male",
          "Male",
          "Male",
          "Male",
          "Male",
          "Male",
          "Female",
          "Female",
          "Female",
          "Female",
          "Male",
          "Male",
          "Female",
          "Male",
          "Male",
          "Male",
          "Male",
          "Female",
          "Female",
          "Female",
          "Male",
          "Male",
          "Female",
          "Male",
          "Male",
          "Female",
          "Female",
          "Female",
          "Male",
          "Male",
          "Female",
          "Male",
          "Female",
          "Male",
          "Female",
          "Female",
          "Male",
          "Male",
          "Female",
          "Female",
          "Male",
          "Female",
          "Male",
          "Male",
          "Male",
          "Female",
          "Male",
          "Male",
          "Female",
          "Male",
          "Male",
          "Male",
          "Female",
          "Male",
          "Female",
          "Female",
          "Female",
          "Female",
          "Male",
          "Male",
          "Female",
          "Female",
          "Male",
          "Male",
          "Male",
          "Male",
          "Male",
          "Male",
          "Male",
          "Male",
          "Male",
          "Female",
          "Female",
          "Female",
          "Male",
          "Male",
          "Female",
          "Female",
          "Male",
          "Male",
          "Male",
          "Male",
          "Male",
          "Female",
          "Male",
          "Female",
          "Female",
          "Female",
          "Female",
          "Female",
          "Male",
          "Female",
          "Female",
          "Male",
          "Female",
          "Female",
          "Female",
          "Male",
          "Male",
          "Male",
          "Male",
          "Male",
          "Male",
          "Female",
          "Male",
          "Male",
          "Male",
          "Male",
          "Male",
          "Male",
          "Male",
          "Male",
          "Male",
          "Male",
          "Female",
          "Male",
          "Male",
          "Female",
          "Female",
          "Male",
          "Female",
          "Female",
          "Male",
          "Female",
          "Female",
          "Female",
          "Female",
          "Female",
          "Female",
          "Female",
          "Female",
          "Female",
          "Male",
          "Male",
          "Female",
          "Male",
          "Female",
          "Female",
          "Female",
          "Female",
          "Female",
          "Male",
          "Female",
          "Male",
          "Male",
          "Male",
          "Male",
          "Male",
          "Male",
          "Female",
          "Female",
          "Male",
          "Male",
          "Female",
          "Female",
          "Female",
          "Male",
          "Female",
          "Male",
          "Female",
          "Male",
          "Male",
          "Male",
          "Male",
          "Male",
          "Female",
          "Female",
          "Female",
          "Male",
          "Male",
          "Female",
          "Male",
          "Male",
          "Male",
          "Female",
          "Male",
          "Male",
          "Female",
          "Female",
          "Female",
          "Male",
          "Male",
          "Female",
          "Female",
          "Male",
          "Male",
          "Male",
          "Male",
          "Female",
          "Female",
          "Male",
          "Male",
          "Female",
          "Male",
          "Female",
          "Female",
          "Female",
          "Male",
          "Male",
          "Male",
          "Male",
          "Male",
          "Female",
          "Female",
          "Female",
          "Male",
          "Female",
          "Female",
          "Male",
          "Female",
          "Male",
          "Male",
          "Male",
          "Female",
          "Female",
          "Male",
          "Male",
          "Male",
          "Male",
          "Male",
          "Male",
          "Male",
          "Female",
          "Male",
          "Female",
          "Male",
          "Male",
          "Male",
          "Male",
          "Male",
          "Female",
          "Female",
          "Male",
          "Male",
          "Female",
          "Male",
          "Female",
          "Female",
          "Female",
          "Male",
          "Male",
          "Male",
          "Female",
          "Female",
          "Female",
          "Female",
          "Female",
          "Female",
          "Female",
          "Female",
          "Male",
          "Male",
          "Female",
          "Male",
          "Male",
          "Female",
          "Female",
          "Female",
          "Male",
          "Female",
          "Male",
          "Female",
          "Male",
          "Female",
          "Female",
          "Male",
          "Female",
          "Female",
          "Male",
          "Male",
          "Male",
          "Male",
          "Female",
          "Female",
          "Male",
          "Male",
          "Male",
          "Male",
          "Male",
          "Male",
          "Male",
          "Female",
          "Female",
          "Male",
          "Female",
          "Female",
          "Female",
          "Male",
          "Female",
          "Female",
          "Male",
          "Male",
          "Female",
          "Female",
          "Female",
          "Female",
          "Female",
          "Male",
          "Male",
          "Female",
          "Male",
          "Male",
          "Female",
          "Female",
          "Male",
          "Male",
          "Male",
          "Male",
          "Female",
          "Male",
          "Female",
          "Female",
          "Female",
          "Male",
          "Male",
          "Male",
          "Male",
          "Female",
          "Male",
          "Female",
          "Male",
          "Male",
          "Female",
          "Male",
          "Male",
          "Male",
          "Male",
          "Female",
          "Male",
          "Male",
          "Male",
          "Female",
          "Male",
          "Male",
          "Male",
          "Male",
          "Male",
          "Male",
          "Male",
          "Male",
          "Male",
          "Female",
          "Female",
          "Male",
          "Male",
          "Female",
          "Female",
          "Male",
          "Female",
          "Male",
          "Male",
          "Female",
          "Female",
          "Female",
          "Male",
          "Male",
          "Female",
          "Male",
          "Male",
          "Male",
          "Male",
          "Male",
          "Female",
          "Female",
          "Male",
          "Female",
          "Male",
          "Female",
          "Male",
          "Female",
          "Female",
          "Male",
          "Male",
          "Female",
          "Male",
          "Female",
          "Female",
          "Male",
          "Female",
          "Female",
          "Female",
          "Male",
          "Male",
          "Male",
          "Female",
          "Female",
          "Female",
          "Male",
          "Male",
          "Female",
          "Female",
          "Female",
          "Female",
          "Female",
          "Female",
          "Female",
          "Male",
          "Female",
          "Female",
          "Male",
          "Male",
          "Male",
          "Male",
          "Male",
          "Male",
          "Male",
          "Male",
          "Female",
          "Male",
          "Male",
          "Male",
          "Male",
          "Male",
          "Female",
          "Female",
          "Male",
          "Female",
          "Male",
          "Female",
          "Female",
          "Male",
          "Female",
          "Female",
          "Female",
          "Female",
          "Female",
          "Female",
          "Female",
          "Female",
          "Female",
          "Female",
          "Male",
          "Male",
          "Male",
          "Male",
          "Male",
          "Female",
          "Female",
          "Female",
          "Male",
          "Female",
          "Female",
          "Female",
          "Male",
          "Male",
          "Female",
          "Male",
          "Female",
          "Female",
          "Female",
          "Female",
          "Female",
          "Female",
          "Male",
          "Male",
          "Male",
          "Male",
          "Male",
          "Male",
          "Female",
          "Male",
          "Male",
          "Female",
          "Female",
          "Female",
          "Female",
          "Male",
          "Male",
          "Male",
          "Male",
          "Male",
          "Female",
          "Male",
          "Male",
          "Male",
          "Female",
          "Male",
          "Male",
          "Male",
          "Male",
          "Male",
          "Male",
          "Male",
          "Female",
          "Male",
          "Female",
          "Male",
          "Male",
          "Male",
          "Male",
          "Male",
          "Male",
          "Female",
          "Female",
          "Female",
          "Male",
          "Female",
          "Male",
          "Female",
          "Male",
          "Male",
          "Female",
          "Female",
          "Male",
          "Male",
          "Male",
          "Female",
          "Female",
          "Female",
          "Male",
          "Male",
          "Female",
          "Male",
          "Male",
          "Male",
          "Female",
          "Female",
          "Female",
          "Female",
          "Female",
          "Male",
          "Male",
          "Female",
          "Female",
          "Male",
          "Male",
          "Male",
          "Male",
          "Male",
          "Female",
          "Male",
          "Female",
          "Female",
          "Female",
          "Male",
          "Female",
          "Male",
          "Male",
          "Male",
          "Female",
          "Male",
          "Female",
          "Female",
          "Female",
          "Female",
          "Male",
          "Female",
          "Male",
          "Female",
          "Male",
          "Male",
          "Male",
          "Male",
          "Male",
          "Male",
          "Female",
          "Male",
          "Male",
          "Male",
          "Male",
          "Male",
          "Female",
          "Male",
          "Male",
          "Male",
          "Male",
          "Male",
          "Female",
          "Male",
          "Male",
          "Female",
          "Male",
          "Female",
          "Male",
          "Male",
          "Female",
          "Male",
          "Female",
          "Male",
          "Female",
          "Female",
          "Female",
          "Female",
          "Female",
          "Male",
          "Male",
          "Male",
          "Male",
          "Female",
          "Male",
          "Male",
          "Female",
          "Male",
          "Male",
          "Male",
          "Female",
          "Female",
          "Male",
          "Male",
          "Female",
          "Male",
          "Female",
          "Female",
          "Male",
          "Male",
          "Male",
          "Female",
          "Male",
          "Male",
          "Female",
          "Male",
          "Male",
          "Female",
          "Male",
          "Female",
          "Female",
          "Male",
          "Female",
          "Male",
          "Female",
          "Male",
          "Male",
          "Male",
          "Male",
          "Female",
          "Female",
          "Female",
          "Male",
          "Male",
          "Female",
          "Male",
          "Female",
          "Female",
          "Male",
          "Female",
          "Female",
          "Female",
          "Male",
          "Male",
          "Male",
          "Male",
          "Male",
          "Female",
          "Female",
          "Male",
          "Male",
          "Female",
          "Male",
          "Female",
          "Female",
          "Female",
          "Female",
          "Female",
          "Male",
          "Male",
          "Male",
          "Male",
          "Female",
          "Male",
          "Female",
          "Male",
          "Male",
          "Female",
          "Male",
          "Female",
          "Female",
          "Male",
          "Male",
          "Male",
          "Female",
          "Female",
          "Male",
          "Female",
          "Male",
          "Female",
          "Female",
          "Female",
          "Female",
          "Male",
          "Female",
          "Male",
          "Female",
          "Male",
          "Female",
          "Female",
          "Female",
          "Male",
          "Female",
          "Female",
          "Female",
          "Male",
          "Male",
          "Male",
          "Male",
          "Male",
          "Male",
          "Male",
          "Male",
          "Male",
          "Female",
          "Male",
          "Male",
          "Male",
          "Female",
          "Female",
          "Male",
          "Male",
          "Female",
          "Male",
          "Male",
          "Male",
          "Male",
          "Female",
          "Male",
          "Female",
          "Female",
          "Female",
          "Male",
          "Male",
          "Male",
          "Male",
          "Female",
          "Male",
          "Female",
          "Male",
          "Female",
          "Female",
          "Male",
          "Male",
          "Male",
          "Male",
          "Male",
          "Male",
          "Male",
          "Female",
          "Male",
          "Male",
          "Male",
          "Male",
          "Male",
          "Female",
          "Male",
          "Male",
          "Male",
          "Male",
          "Male",
          "Female",
          "Male",
          "Male",
          "Female",
          "Male",
          "Male",
          "Female",
          "Male",
          "Female",
          "Male",
          "Male",
          "Male",
          "Male",
          "Male",
          "Male",
          "Female",
          "Female",
          "Male",
          "Female",
          "Female",
          "Female",
          "Male",
          "Female",
          "Male",
          "Male",
          "Male",
          "Female",
          "Female",
          "Female",
          "Male",
          "Female",
          "Male",
          "Male",
          "Male",
          "Male",
          "Female",
          "Male",
          "Female",
          "Male",
          "Male",
          "Female",
          "Male",
          "Female",
          "Female",
          "Male",
          "Female",
          "Male",
          "Female",
          "Male",
          "Male",
          "Male",
          "Male",
          "Female",
          "Female",
          "Female",
          "Male",
          "Female",
          "Male",
          "Male",
          "Female",
          "Male",
          "Female",
          "Male",
          "Male",
          "Female",
          "Female",
          "Female",
          "Male",
          "Female",
          "Male",
          "Male",
          "Female",
          "Female",
          "Female",
          "Male",
          "Female",
          "Female",
          "Male",
          "Male",
          "Female",
          "Male",
          "Female",
          "Male",
          "Female",
          "Female",
          "Male",
          "Female",
          "Male",
          "Male",
          "Male",
          "Male",
          "Female",
          "Female",
          "Male",
          "Male",
          "Male",
          "Female",
          "Female",
          "Female",
          "Female",
          "Male",
          "Male",
          "Female",
          "Female",
          "Female",
          "Female",
          "Female",
          "Female",
          "Female",
          "Female",
          "Male",
          "Male",
          "Male",
          "Female",
          "Male",
          "Male",
          "Male",
          "Female",
          "Male",
          "Male",
          "Male",
          "Female",
          "Male",
          "Male",
          "Female",
          "Male",
          "Male",
          "Female",
          "Male",
          "Female",
          "Male",
          "Male",
          "Female",
          "Female",
          "Male",
          "Male",
          "Female",
          "Female",
          "Male",
          "Female",
          "Male",
          "Male",
          "Male",
          "Male",
          "Male",
          "Male",
          "Male",
          "Male",
          "Male",
          "Male",
          "Female",
          "Male",
          "Female",
          "Male",
          "Male",
          "Male",
          "Female",
          "Male",
          "Male",
          "Female",
          "Female",
          "Female",
          "Male",
          "Male",
          "Female",
          "Male",
          "Female",
          "Female",
          "Female",
          "Male",
          "Male",
          "Female",
          "Male",
          "Male",
          "Male",
          "Male",
          "Male",
          "Female",
          "Male",
          "Male",
          "Male",
          "Male",
          "Female",
          "Female",
          "Male",
          "Female",
          "Male",
          "Female",
          "Male",
          "Male",
          "Male",
          "Female",
          "Male",
          "Female",
          "Male",
          "Female",
          "Male",
          "Female",
          "Male",
          "Male",
          "Female",
          "Female",
          "Female",
          "Male",
          "Male",
          "Male",
          "Male",
          "Male",
          "Male",
          "Female",
          "Female",
          "Male",
          "Male",
          "Male",
          "Female",
          "Male",
          "Female",
          "Male",
          "Male",
          "Female",
          "Female",
          "Male",
          "Female",
          "Female",
          "Male",
          "Female",
          "Female",
          "Female",
          "Male",
          "Male",
          "Female",
          "Male",
          "Male",
          "Female",
          "Male",
          "Female",
          "Female",
          "Female",
          "Female",
          "Male",
          "Male",
          "Female",
          "Male",
          "Female",
          "Female",
          "Male",
          "Female",
          "Male",
          "Male",
          "Female",
          "Female",
          "Male",
          "Male",
          "Male",
          "Male",
          "Male",
          "Male",
          "Female",
          "Female",
          "Male",
          "Male",
          "Female",
          "Female",
          "Female",
          "Male",
          "Male",
          "Male",
          "Female",
          "Male",
          "Female",
          "Male",
          "Male",
          "Female",
          "Male",
          "Female",
          "Male",
          "Male",
          "Male",
          "Male",
          "Male",
          "Female",
          "Female",
          "Male",
          "Male",
          "Female",
          "Male",
          "Male",
          "Male",
          "Female",
          "Male",
          "Male",
          "Male",
          "Male",
          "Male",
          "Female",
          "Female",
          "Male",
          "Male",
          "Female",
          "Female",
          "Male",
          "Female",
          "Male",
          "Male",
          "Male",
          "Female",
          "Male",
          "Female",
          "Female",
          "Female",
          "Male",
          "Male",
          "Female",
          "Female",
          "Female",
          "Male",
          "Male",
          "Female",
          "Male",
          "Male",
          "Male",
          "Male",
          "Male",
          "Male",
          "Male",
          "Female",
          "Male",
          "Male",
          "Female",
          "Male",
          "Male",
          "Female",
          "Female",
          "Male",
          "Male",
          "Female",
          "Male",
          "Female",
          "Female",
          "Female",
          "Male",
          "Male",
          "Female",
          "Male",
          "Male",
          "Female",
          "Male",
          "Male",
          "Female",
          "Male",
          "Male",
          "Male",
          "Female",
          "Male",
          "Male",
          "Female",
          "Female",
          "Male",
          "Female",
          "Male",
          "Female",
          "Male",
          "Male",
          "Female",
          "Male",
          "Male",
          "Male",
          "Female",
          "Male",
          "Male",
          "Male",
          "Male",
          "Male",
          "Male",
          "Male",
          "Male",
          "Female",
          "Female",
          "Female",
          "Male",
          "Female",
          "Male",
          "Female",
          "Male",
          "Male",
          "Male",
          "Male",
          "Female",
          "Female",
          "Female",
          "Female",
          "Male",
          "Male",
          "Female",
          "Male",
          "Female",
          "Male",
          "Male",
          "Female",
          "Male",
          "Male",
          "Male",
          "Female",
          "Male",
          "Male",
          "Male",
          "Male",
          "Male",
          "Male",
          "Female",
          "Female",
          "Male",
          "Female",
          "Male",
          "Male",
          "Male",
          "Male",
          "Male",
          "Male",
          "Female",
          "Male",
          "Female",
          "Male",
          "Male",
          "Male",
          "Male",
          "Female",
          "Female",
          "Male",
          "Female",
          "Female",
          "Female",
          "Male",
          "Female",
          "Male",
          "Female",
          "Male",
          "Male",
          "Male",
          "Male",
          "Female",
          "Male",
          "Male",
          "Female",
          "Male",
          "Male",
          "Male",
          "Male",
          "Male",
          "Male",
          "Female",
          "Female",
          "Male",
          "Male",
          "Male",
          "Female",
          "Male",
          "Female",
          "Male",
          "Female",
          "Male",
          "Female",
          "Male",
          "Female",
          "Male",
          "Male",
          "Male",
          "Female",
          "Female",
          "Male",
          "Male",
          "Male",
          "Female",
          "Female",
          "Female",
          "Male",
          "Female",
          "Female",
          "Female",
          "Male",
          "Female",
          "Male",
          "Male",
          "Male",
          "Male",
          "Male",
          "Male",
          "Male",
          "Female",
          "Male",
          "Male",
          "Male",
          "Female",
          "Female",
          "Male",
          "Female",
          "Male",
          "Female",
          "Male",
          "Male",
          "Male",
          "Male",
          "Male",
          "Female",
          "Female",
          "Male",
          "Male",
          "Male",
          "Male",
          "Female",
          "Male",
          "Female",
          "Male",
          "Male",
          "Male",
          "Male",
          "Male",
          "Female",
          "Male",
          "Male",
          "Female",
          "Male",
          "Female",
          "Male",
          "Male",
          "Female",
          "Female",
          "Male",
          "Male",
          "Female",
          "Male",
          "Male",
          "Female",
          "Female",
          "Female",
          "Female",
          "Female",
          "Female",
          "Female",
          "Male",
          "Male",
          "Female",
          "Female",
          "Male",
          "Male",
          "Female",
          "Male",
          "Male",
          "Female",
          "Female",
          "Female",
          "Female",
          "Male",
          "Female",
          "Male",
          "Female",
          "Male",
          "Male",
          "Male",
          "Male",
          "Female",
          "Female",
          "Female",
          "Female",
          "Male",
          "Female",
          "Female",
          "Female",
          "Male",
          "Female",
          "Female",
          "Male",
          "Female",
          "Female",
          "Male",
          "Female",
          "Female",
          "Female",
          "Male",
          "Female",
          "Male",
          "Male",
          "Female",
          "Female",
          "Female",
          "Male",
          "Male",
          "Female",
          "Male",
          "Female",
          "Female",
          "Female",
          "Male",
          "Female",
          "Female",
          "Male",
          "Male",
          "Male",
          "Male",
          "Female",
          "Female",
          "Female",
          "Male",
          "Female",
          "Male",
          "Female",
          "Female",
          "Female",
          "Female",
          "Female",
          "Female",
          "Female",
          "Male",
          "Female",
          "Female",
          "Male",
          "Male",
          "Female",
          "Male",
          "Male",
          "Female",
          "Female",
          "Female",
          "Male",
          "Male",
          "Male",
          "Male",
          "Male",
          "Female",
          "Male",
          "Male",
          "Male",
          "Male",
          "Male",
          "Male",
          "Female",
          "Male",
          "Male",
          "Male",
          "Male",
          "Male",
          "Male",
          "Male",
          "Female",
          "Male",
          "Male",
          "Male",
          "Male",
          "Male",
          "Male",
          "Male",
          "Male",
          "Male",
          "Male",
          "Male",
          "Female",
          "Female",
          "Female",
          "Female",
          "Female",
          "Female",
          "Female",
          "Male",
          "Male",
          "Female",
          "Female",
          "Male",
          "Female",
          "Male",
          "Male",
          "Male",
          "Male",
          "Male",
          "Female",
          "Female",
          "Female",
          "Male",
          "Female",
          "Male",
          "Male",
          "Female",
          "Male",
          "Male",
          "Male",
          "Female",
          "Male",
          "Female",
          "Female",
          "Female",
          "Female",
          "Male",
          "Male",
          "Male",
          "Male",
          "Female",
          "Male",
          "Male",
          "Female",
          "Female",
          "Female",
          "Female",
          "Female",
          "Female",
          "Male",
          "Female",
          "Male",
          "Male",
          "Male",
          "Female",
          "Female",
          "Male",
          "Male",
          "Female",
          "Female",
          "Male",
          "Male",
          "Female",
          "Male",
          "Female",
          "Male",
          "Male",
          "Male",
          "Male",
          "Male",
          "Male",
          "Female",
          "Male",
          "Female",
          "Male",
          "Female",
          "Male",
          "Male",
          "Male",
          "Male",
          "Female",
          "Female",
          "Female",
          "Male",
          "Female",
          "Female",
          "Female",
          "Female",
          "Male",
          "Male",
          "Male",
          "Female",
          "Male",
          "Female",
          "Male",
          "Male",
          "Male",
          "Male",
          "Female",
          "Male",
          "Female",
          "Male",
          "Male",
          "Female",
          "Male",
          "Female",
          "Female",
          "Female",
          "Male",
          "Male",
          "Female",
          "Female",
          "Female",
          "Male",
          "Male",
          "Female",
          "Female",
          "Male",
          "Male",
          "Female",
          "Male",
          "Male",
          "Male",
          "Male",
          "Female",
          "Male",
          "Male",
          "Male",
          "Male",
          "Female",
          "Male",
          "Male",
          "Male",
          "Male",
          "Male",
          "Male",
          "Female",
          "Male",
          "Female",
          "Male",
          "Male",
          "Male",
          "Female",
          "Male",
          "Male",
          "Male",
          "Male",
          "Female",
          "Male",
          "Female",
          "Female",
          "Male",
          "Male",
          "Female",
          "Male",
          "Male",
          "Female",
          "Female",
          "Female",
          "Female",
          "Male",
          "Male",
          "Male",
          "Female",
          "Female",
          "Male",
          "Male",
          "Male",
          "Female",
          "Male",
          "Male",
          "Female",
          "Female",
          "Male",
          "Female",
          "Male",
          "Male",
          "Male",
          "Female",
          "Female",
          "Male",
          "Female",
          "Male",
          "Female",
          "Female",
          "Male",
          "Male",
          "Female",
          "Male",
          "Female",
          "Male",
          "Female",
          "Male",
          "Male",
          "Male",
          "Female",
          "Male",
          "Male",
          "Female",
          "Female",
          "Male",
          "Female",
          "Female",
          "Male",
          "Male",
          "Female",
          "Female",
          "Male",
          "Male",
          "Male",
          "Female",
          "Male",
          "Male",
          "Female",
          "Female",
          "Male",
          "Male",
          "Male",
          "Male",
          "Female",
          "Female",
          "Male",
          "Male",
          "Male",
          "Female",
          "Male",
          "Female",
          "Female",
          "Male",
          "Female",
          "Female",
          "Female",
          "Female",
          "Male",
          "Male",
          "Female",
          "Female",
          "Female",
          "Male",
          "Female",
          "Male",
          "Male",
          "Male",
          "Male",
          "Male",
          "Female",
          "Male",
          "Male",
          "Male",
          "Male",
          "Female",
          "Male",
          "Male",
          "Female",
          "Female",
          "Female",
          "Female",
          "Female",
          "Male",
          "Female",
          "Female",
          "Male",
          "Female",
          "Female",
          "Male",
          "Male",
          "Female",
          "Male",
          "Male",
          "Female",
          "Male",
          "Male",
          "Female",
          "Female",
          "Male",
          "Female",
          "Male",
          "Male",
          "Male",
          "Female",
          "Male",
          "Male",
          "Female",
          "Male",
          "Female",
          "Male",
          "Female",
          "Male",
          "Male",
          "Male",
          "Female",
          "Female",
          "Male",
          "Female",
          "Male",
          "Female",
          "Female",
          "Female",
          "Female",
          "Female",
          "Male",
          "Female",
          "Female",
          "Female",
          "Male",
          "Male",
          "Female",
          "Female",
          "Male",
          "Male",
          "Female",
          "Male",
          "Male",
          "Male",
          "Female",
          "Female",
          "Male",
          "Female",
          "Female",
          "Male",
          "Male",
          "Female",
          "Male",
          "Female",
          "Male",
          "Male",
          "Female",
          "Male",
          "Female",
          "Male",
          "Male",
          "Male",
          "Male",
          "Male",
          "Male",
          "Male",
          "Female",
          "Male",
          "Female",
          "Male",
          "Male",
          "Female",
          "Male",
          "Male",
          "Male",
          "Female",
          "Female",
          "Male",
          "Male",
          "Female",
          "Male",
          "Male",
          "Male",
          "Male",
          "Male",
          "Female",
          "Male",
          "Male",
          "Female",
          "Male",
          "Male",
          "Male",
          "Female",
          "Male",
          "Male",
          "Female",
          "Female",
          "Female",
          "Male",
          "Male",
          "Male",
          "Male",
          "Female",
          "Male",
          "Female",
          "Male",
          "Male",
          "Female",
          "Male",
          "Female",
          "Female",
          "Male",
          "Male",
          "Male",
          "Female",
          "Male",
          "Female",
          "Male",
          "Female",
          "Female",
          "Male",
          "Male",
          "Male",
          "Male",
          "Male",
          "Male",
          "Female",
          "Female",
          "Female",
          "Male",
          "Female",
          "Male",
          "Male",
          "Male",
          "Male",
          "Male",
          "Male",
          "Female",
          "Male",
          "Female",
          "Male",
          "Male",
          "Male",
          "Female",
          "Male",
          "Male",
          "Male",
          "Male",
          "Female",
          "Male",
          "Male",
          "Female",
          "Male",
          "Female",
          "Female",
          "Female",
          "Male",
          "Female",
          "Male",
          "Female",
          "Male",
          "Male",
          "Female",
          "Male",
          "Female",
          "Female",
          "Male",
          "Male",
          "Male",
          "Female",
          "Male",
          "Female",
          "Female",
          "Female",
          "Female",
          "Female",
          "Male",
          "Male",
          "Male",
          "Female",
          "Female",
          "Female",
          "Female",
          "Male",
          "Male",
          "Male",
          "Male",
          "Female",
          "Male",
          "Female",
          "Female",
          "Male",
          "Male",
          "Male",
          "Male",
          "Female",
          "Male",
          "Female",
          "Female",
          "Male",
          "Female",
          "Female",
          "Female",
          "Male",
          "Male",
          "Male",
          "Male",
          "Female",
          "Female",
          "Female",
          "Male",
          "Male",
          "Female",
          "Male",
          "Male",
          "Male",
          "Male",
          "Female",
          "Male",
          "Female",
          "Female",
          "Male",
          "Female",
          "Male",
          "Female",
          "Male",
          "Female",
          "Male",
          "Female",
          "Female",
          "Male",
          "Female",
          "Male",
          "Male",
          "Female",
          "Female",
          "Male",
          "Male",
          "Female",
          "Female",
          "Male",
          "Male",
          "Female",
          "Female",
          "Female",
          "Male",
          "Female",
          "Female",
          "Male",
          "Male",
          "Female",
          "Male",
          "Female",
          "Female",
          "Female",
          "Female",
          "Male",
          "Male",
          "Female",
          "Male",
          "Male",
          "Male",
          "Male",
          "Female",
          "Male",
          "Male",
          "Female",
          "Female",
          "Female",
          "Female",
          "Female",
          "Female",
          "Female",
          "Female",
          "Male",
          "Female",
          "Male",
          "Male",
          "Male",
          "Male",
          "Female",
          "Female",
          "Female",
          "Female",
          "Male",
          "Female",
          "Male",
          "Female",
          "Male",
          "Male",
          "Female",
          "Female",
          "Female",
          "Female",
          "Male",
          "Female",
          "Female",
          "Male",
          "Male",
          "Male",
          "Female",
          "Male",
          "Male",
          "Male",
          "Male",
          "Female",
          "Female",
          "Male",
          "Male",
          "Male",
          "Female",
          "Male",
          "Male",
          "Female",
          "Male",
          "Female",
          "Male",
          "Female",
          "Male",
          "Male",
          "Male",
          "Female",
          "Female",
          "Male",
          "Female",
          "Female",
          "Female",
          "Female",
          "Male",
          "Female",
          "Male",
          "Male",
          "Male",
          "Female",
          "Female",
          "Female",
          "Female",
          "Female",
          "Male",
          "Male",
          "Male",
          "Male",
          "Male",
          "Male",
          "Female",
          "Female",
          "Female",
          "Female",
          "Male",
          "Female",
          "Male",
          "Male",
          "Female",
          "Male",
          "Male",
          "Male",
          "Female",
          "Female",
          "Male",
          "Female",
          "Male",
          "Male",
          "Male",
          "Female",
          "Male",
          "Male",
          "Male",
          "Male",
          "Female",
          "Male",
          "Male",
          "Male",
          "Male",
          "Female",
          "Male",
          "Male",
          "Male",
          "Male",
          "Female",
          "Female",
          "Female",
          "Male",
          "Female",
          "Female",
          "Female",
          "Female",
          "Female",
          "Male",
          "Male",
          "Female",
          "Male",
          "Female",
          "Female",
          "Female",
          "Male",
          "Male",
          "Male",
          "Female",
          "Female",
          "Female",
          "Male",
          "Female",
          "Female",
          "Male",
          "Female",
          "Female",
          "Female",
          "Female",
          "Male",
          "Male",
          "Female",
          "Female",
          "Female",
          "Female",
          "Male",
          "Female",
          "Male",
          "Male",
          "Male",
          "Female",
          "Female",
          "Male",
          "Male",
          "Female",
          "Female",
          "Female",
          "Male",
          "Male",
          "Male",
          "Male",
          "Male",
          "Male",
          "Male",
          "Male",
          "Female",
          "Male",
          "Male",
          "Female",
          "Female",
          "Female",
          "Female",
          "Female",
          "Female",
          "Female",
          "Female",
          "Male",
          "Male",
          "Female",
          "Male",
          "Female",
          "Male",
          "Male",
          "Female",
          "Male",
          "Female",
          "Female",
          "Female",
          "Male",
          "Female",
          "Female",
          "Female",
          "Female",
          "Female",
          "Female",
          "Female",
          "Male",
          "Male",
          "Male",
          "Male",
          "Female",
          "Male",
          "Female",
          "Male",
          "Male",
          "Male",
          "Male",
          "Male",
          "Male",
          "Female",
          "Male",
          "Male",
          "Female",
          "Male",
          "Male",
          "Male",
          "Male",
          "Female",
          "Male",
          "Female",
          "Female",
          "Male",
          "Female",
          "Male",
          "Male",
          "Male",
          "Male",
          "Female",
          "Male",
          "Female",
          "Female",
          "Male",
          "Female",
          "Female",
          "Male",
          "Male",
          "Male",
          "Male",
          "Male",
          "Male",
          "Female",
          "Female",
          "Male",
          "Male",
          "Male",
          "Male",
          "Male",
          "Female",
          "Male",
          "Male",
          "Male",
          "Female",
          "Female",
          "Male",
          "Male",
          "Male",
          "Male",
          "Female",
          "Female",
          "Female",
          "Male",
          "Male",
          "Female",
          "Male",
          "Female",
          "Male",
          "Male",
          "Female",
          "Male",
          "Male",
          "Male",
          "Female",
          "Male",
          "Male",
          "Female",
          "Male",
          "Female",
          "Male",
          "Female",
          "Male",
          "Female",
          "Female",
          "Female",
          "Male",
          "Male",
          "Female",
          "Male",
          "Male",
          "Female",
          "Male",
          "Female",
          "Male",
          "Female",
          "Male",
          "Male",
          "Female",
          "Male",
          "Female",
          "Female",
          "Male",
          "Female",
          "Male",
          "Female",
          "Male",
          "Female",
          "Female",
          "Male",
          "Female",
          "Male",
          "Male",
          "Male",
          "Male",
          "Male",
          "Male",
          "Male",
          "Male",
          "Male",
          "Female",
          "Female",
          "Male",
          "Female",
          "Female",
          "Female",
          "Male",
          "Male",
          "Female",
          "Female",
          "Male",
          "Male",
          "Female",
          "Female",
          "Female",
          "Male",
          "Male",
          "Male",
          "Male",
          "Male",
          "Female",
          "Male",
          "Female",
          "Male",
          "Male",
          "Male",
          "Male",
          "Female",
          "Male",
          "Male",
          "Male",
          "Male",
          "Female",
          "Male",
          "Female",
          "Female",
          "Male",
          "Male",
          "Female",
          "Female",
          "Male",
          "Male",
          "Male",
          "Male",
          "Male",
          "Male",
          "Male",
          "Male",
          "Male",
          "Female",
          "Male",
          "Female",
          "Male",
          "Female",
          "Male",
          "Female",
          "Male",
          "Male",
          "Female",
          "Male",
          "Female",
          "Male",
          "Male",
          "Male",
          "Female",
          "Male",
          "Female",
          "Male",
          "Female",
          "Male",
          "Male",
          "Male",
          "Male",
          "Male",
          "Male",
          "Male",
          "Male",
          "Male",
          "Male",
          "Male",
          "Female",
          "Female",
          "Male",
          "Female",
          "Female",
          "Male",
          "Male",
          "Female",
          "Female",
          "Female",
          "Female",
          "Male",
          "Male",
          "Male",
          "Male",
          "Male",
          "Male",
          "Male",
          "Male",
          "Male",
          "Male",
          "Male",
          "Male",
          "Female",
          "Female",
          "Male",
          "Male",
          "Female",
          "Male",
          "Female",
          "Male",
          "Female",
          "Female",
          "Female",
          "Male",
          "Female",
          "Female",
          "Female",
          "Male",
          "Female",
          "Male",
          "Male",
          "Male",
          "Male",
          "Female",
          "Female",
          "Male",
          "Female",
          "Female",
          "Male",
          "Female",
          "Male",
          "Male",
          "Male",
          "Male",
          "Male",
          "Female",
          "Female",
          "Male",
          "Male",
          "Male",
          "Male",
          "Male",
          "Male",
          "Male",
          "Male",
          "Male",
          "Female",
          "Male",
          "Male",
          "Male",
          "Female",
          "Female",
          "Female",
          "Female",
          "Male",
          "Female",
          "Male",
          "Male",
          "Female",
          "Male",
          "Female",
          "Male",
          "Female",
          "Male",
          "Male",
          "Female",
          "Female",
          "Female",
          "Female",
          "Female",
          "Male",
          "Male",
          "Male",
          "Male",
          "Female",
          "Male",
          "Female",
          "Male",
          "Female",
          "Male",
          "Male",
          "Female",
          "Male",
          "Male",
          "Male",
          "Male",
          "Male",
          "Female",
          "Male",
          "Male",
          "Male",
          "Female",
          "Female",
          "Male",
          "Male",
          "Male",
          "Female",
          "Female",
          "Female",
          "Male",
          "Male",
          "Male",
          "Male",
          "Male",
          "Male",
          "Female",
          "Male",
          "Female",
          "Male",
          "Female",
          "Female",
          "Female",
          "Female",
          "Female",
          "Male",
          "Male",
          "Female",
          "Female",
          "Female",
          "Male",
          "Male",
          "Female",
          "Female",
          "Male",
          "Male",
          "Male",
          "Male",
          "Male",
          "Male",
          "Female",
          "Male",
          "Male",
          "Female",
          "Female",
          "Female",
          "Male",
          "Female",
          "Male",
          "Female",
          "Female",
          "Male",
          "Male",
          "Male",
          "Female",
          "Male",
          "Female",
          "Male",
          "Male",
          "Female",
          "Female",
          "Female",
          "Male",
          "Male",
          "Male",
          "Male",
          "Male",
          "Female",
          "Male",
          "Male",
          "Male",
          "Male",
          "Female",
          "Male",
          "Male",
          "Male",
          "Female",
          "Female",
          "Female",
          "Male",
          "Male",
          "Female",
          "Female",
          "Female",
          "Female",
          "Male",
          "Female",
          "Female",
          "Female",
          "Male",
          "Male",
          "Male",
          "Male",
          "Male",
          "Female",
          "Male",
          "Male",
          "Male",
          "Male",
          "Female",
          "Male",
          "Male",
          "Female",
          "Female",
          "Male",
          "Female",
          "Female",
          "Female",
          "Male",
          "Female",
          "Male",
          "Male",
          "Male",
          "Male",
          "Female",
          "Male",
          "Male",
          "Male",
          "Male",
          "Female",
          "Female",
          "Female",
          "Female",
          "Female",
          "Female",
          "Male",
          "Female",
          "Female",
          "Female",
          "Female",
          "Female",
          "Female",
          "Female",
          "Male",
          "Male",
          "Male",
          "Male",
          "Female",
          "Female",
          "Female",
          "Female",
          "Male",
          "Female",
          "Male",
          "Male",
          "Male",
          "Female",
          "Female",
          "Female",
          "Male",
          "Male",
          "Male",
          "Male",
          "Female",
          "Male",
          "Female",
          "Female",
          "Female",
          "Male",
          "Female",
          "Male",
          "Male",
          "Male",
          "Female",
          "Male",
          "Male",
          "Male",
          "Male",
          "Male",
          "Female",
          "Female",
          "Female",
          "Female",
          "Female",
          "Male",
          "Female",
          "Male",
          "Male",
          "Female",
          "Female",
          "Female",
          "Female",
          "Male",
          "Female",
          "Male",
          "Male",
          "Female",
          "Female",
          "Male",
          "Male",
          "Male",
          "Male",
          "Female",
          "Female",
          "Female",
          "Female",
          "Male",
          "Male",
          "Male",
          "Female",
          "Female",
          "Female",
          "Male",
          "Male",
          "Female",
          "Male",
          "Female",
          "Male",
          "Male",
          "Female",
          "Male",
          "Female",
          "Female",
          "Male",
          "Female",
          "Male",
          "Male",
          "Female",
          "Male",
          "Male",
          "Female",
          "Male",
          "Female",
          "Female",
          "Male",
          "Male",
          "Male",
          "Male",
          "Female",
          "Female",
          "Male",
          "Female",
          "Female",
          "Female",
          "Female",
          "Female",
          "Male",
          "Male",
          "Female",
          "Male",
          "Male",
          "Female",
          "Female",
          "Male",
          "Male",
          "Male",
          "Male",
          "Male",
          "Male",
          "Male",
          "Male",
          "Male",
          "Male",
          "Male",
          "Male",
          "Female",
          "Male",
          "Female",
          "Female",
          "Male",
          "Female",
          "Male",
          "Male",
          "Male",
          "Male",
          "Male",
          "Male",
          "Female",
          "Female",
          "Male",
          "Male",
          "Male",
          "Male",
          "Female",
          "Male",
          "Male",
          "Female",
          "Female",
          "Male",
          "Male",
          "Male",
          "Male",
          "Male",
          "Male",
          "Female",
          "Male",
          "Male",
          "Male",
          "Male",
          "Female",
          "Male",
          "Male",
          "Male",
          "Male",
          "Male",
          "Male",
          "Male",
          "Male",
          "Male",
          "Female",
          "Female",
          "Female",
          "Female",
          "Male",
          "Female",
          "Male",
          "Male",
          "Male",
          "Male",
          "Female",
          "Male",
          "Male",
          "Male",
          "Male",
          "Male",
          "Male",
          "Male",
          "Female",
          "Male",
          "Male",
          "Female",
          "Female",
          "Male",
          "Male",
          "Female",
          "Male",
          "Male",
          "Male",
          "Female",
          "Female",
          "Female",
          "Male",
          "Male",
          "Male",
          "Female",
          "Female",
          "Male",
          "Female",
          "Male",
          "Male",
          "Female",
          "Male",
          "Male",
          "Male",
          "Female",
          "Female",
          "Female",
          "Female",
          "Male",
          "Male",
          "Female",
          "Male",
          "Female",
          "Female",
          "Female",
          "Male",
          "Male",
          "Female",
          "Female",
          "Female",
          "Male",
          "Male",
          "Female",
          "Female",
          "Female",
          "Male",
          "Female",
          "Male",
          "Female",
          "Male",
          "Male",
          "Female",
          "Male",
          "Male",
          "Male",
          "Female",
          "Male",
          "Male",
          "Female",
          "Male",
          "Male",
          "Male",
          "Female",
          "Male",
          "Female",
          "Male",
          "Female",
          "Female",
          "Female",
          "Male",
          "Female",
          "Male",
          "Female",
          "Male",
          "Female",
          "Male",
          "Female",
          "Male",
          "Male",
          "Male",
          "Male",
          "Male",
          "Male",
          "Female",
          "Male",
          "Female",
          "Male",
          "Female",
          "Male",
          "Female",
          "Female",
          "Male",
          "Female",
          "Male",
          "Male",
          "Male",
          "Male",
          "Male",
          "Female",
          "Male",
          "Female",
          "Male",
          "Male",
          "Female",
          "Female",
          "Female",
          "Male",
          "Female",
          "Female",
          "Male",
          "Male",
          "Male",
          "Male",
          "Male",
          "Female",
          "Male",
          "Female",
          "Female",
          "Male",
          "Male",
          "Male",
          "Female",
          "Female",
          "Male",
          "Female",
          "Male",
          "Female",
          "Female",
          "Male",
          "Male",
          "Male",
          "Male",
          "Female",
          "Male",
          "Female",
          "Male",
          "Female",
          "Female",
          "Female",
          "Male",
          "Male",
          "Female",
          "Male",
          "Male",
          "Male",
          "Female",
          "Female",
          "Female",
          "Male",
          "Male",
          "Female",
          "Male",
          "Male",
          "Male",
          "Male",
          "Male",
          "Male",
          "Male",
          "Male",
          "Female",
          "Male",
          "Male",
          "Female",
          "Female",
          "Male",
          "Female",
          "Male",
          "Male",
          "Male",
          "Male",
          "Female",
          "Male",
          "Male",
          "Female",
          "Male",
          "Female",
          "Female",
          "Male",
          "Female",
          "Male",
          "Male",
          "Male",
          "Female",
          "Female",
          "Male",
          "Male",
          "Male",
          "Female",
          "Female",
          "Female",
          "Female",
          "Female",
          "Male",
          "Male",
          "Female",
          "Male",
          "Male",
          "Female",
          "Female",
          "Male",
          "Female",
          "Female",
          "Male",
          "Male",
          "Male",
          "Male",
          "Female",
          "Male",
          "Male",
          "Male",
          "Male",
          "Male",
          "Female",
          "Male",
          "Female",
          "Female",
          "Male",
          "Female",
          "Female",
          "Male",
          "Male",
          "Female",
          "Female",
          "Male",
          "Male",
          "Male",
          "Male",
          "Male",
          "Male",
          "Male",
          "Male",
          "Male",
          "Male",
          "Male",
          "Male",
          "Female",
          "Female",
          "Male",
          "Male",
          "Male",
          "Male",
          "Male",
          "Male",
          "Female",
          "Male",
          "Male",
          "Female",
          "Female",
          "Male",
          "Male",
          "Male",
          "Male",
          "Male",
          "Male",
          "Male",
          "Female",
          "Female",
          "Male",
          "Male",
          "Male",
          "Male",
          "Male",
          "Female",
          "Female",
          "Female",
          "Female",
          "Female",
          "Female",
          "Female",
          "Male",
          "Male",
          "Male",
          "Female",
          "Male",
          "Male",
          "Male",
          "Female",
          "Male",
          "Female",
          "Female",
          "Female",
          "Male",
          "Male",
          "Male",
          "Male",
          "Male",
          "Female",
          "Male",
          "Female",
          "Female",
          "Male",
          "Female",
          "Female",
          "Male",
          "Male",
          "Male",
          "Male",
          "Female",
          "Male",
          "Female",
          "Male",
          "Male",
          "Male",
          "Male",
          "Male",
          "Male",
          "Female",
          "Female",
          "Male",
          "Male",
          "Male",
          "Male",
          "Female",
          "Female",
          "Female",
          "Male",
          "Female",
          "Male",
          "Female",
          "Male",
          "Male",
          "Female",
          "Male",
          "Female",
          "Female",
          "Male",
          "Female",
          "Male",
          "Male",
          "Female",
          "Female",
          "Male",
          "Male",
          "Male",
          "Female",
          "Female",
          "Male",
          "Female",
          "Male",
          "Male",
          "Female",
          "Male",
          "Male",
          "Female",
          "Male",
          "Male",
          "Female",
          "Female",
          "Female",
          "Male",
          "Male",
          "Female",
          "Male",
          "Male",
          "Male",
          "Male",
          "Male",
          "Female",
          "Female",
          "Male",
          "Female",
          "Female",
          "Female",
          "Male",
          "Male",
          "Male",
          "Male",
          "Male",
          "Male",
          "Male",
          "Male",
          "Male",
          "Male",
          "Female",
          "Male",
          "Female",
          "Female",
          "Female",
          "Female",
          "Female",
          "Male",
          "Female",
          "Female",
          "Female",
          "Male",
          "Male",
          "Female",
          "Female",
          "Female",
          "Male",
          "Male",
          "Male",
          "Male",
          "Male",
          "Male",
          "Male",
          "Male",
          "Male",
          "Female",
          "Female",
          "Female",
          "Male",
          "Female",
          "Male",
          "Female",
          "Female",
          "Male",
          "Female",
          "Male",
          "Male",
          "Female",
          "Male",
          "Male",
          "Female",
          "Male",
          "Female",
          "Female",
          "Male",
          "Male",
          "Male",
          "Male",
          "Male",
          "Male",
          "Male",
          "Male",
          "Female",
          "Female",
          "Female",
          "Male",
          "Male",
          "Female",
          "Male",
          "Male",
          "Female",
          "Male",
          "Male",
          "Female",
          "Female",
          "Male",
          "Male",
          "Male",
          "Female",
          "Male",
          "Female",
          "Female",
          "Male",
          "Female",
          "Female",
          "Male",
          "Female",
          "Male",
          "Female",
          "Female",
          "Male",
          "Female",
          "Female",
          "Male",
          "Male",
          "Male",
          "Male",
          "Female",
          "Female",
          "Male",
          "Male",
          "Male",
          "Male",
          "Male",
          "Male",
          "Male",
          "Female",
          "Female",
          "Female",
          "Male",
          "Female",
          "Female",
          "Female",
          "Male",
          "Male",
          "Male",
          "Male",
          "Female",
          "Female",
          "Male",
          "Male",
          "Female",
          "Male",
          "Female",
          "Female",
          "Male",
          "Female",
          "Male",
          "Female",
          "Female",
          "Female",
          "Male",
          "Male",
          "Male",
          "Male",
          "Female",
          "Male",
          "Female",
          "Male",
          "Male",
          "Female",
          "Male",
          "Female",
          "Male",
          "Female",
          "Male",
          "Female",
          "Male",
          "Male",
          "Female",
          "Female",
          "Male",
          "Male",
          "Male",
          "Male",
          "Female",
          "Male",
          "Male",
          "Female",
          "Male",
          "Female",
          "Female",
          "Male",
          "Female",
          "Male",
          "Male",
          "Male",
          "Male",
          "Male",
          "Male",
          "Female",
          "Female",
          "Female",
          "Female",
          "Male",
          "Male",
          "Male",
          "Male",
          "Female",
          "Male",
          "Male",
          "Male",
          "Male",
          "Male",
          "Male",
          "Female",
          "Male",
          "Female",
          "Male",
          "Male",
          "Female",
          "Male",
          "Male",
          "Female",
          "Male",
          "Male",
          "Female",
          "Female",
          "Male",
          "Male",
          "Female",
          "Male",
          "Male",
          "Male",
          "Female",
          "Male",
          "Female",
          "Male",
          "Male",
          "Female",
          "Female",
          "Male",
          "Male",
          "Female",
          "Female",
          "Male",
          "Male",
          "Female",
          "Female",
          "Female",
          "Male",
          "Male",
          "Female",
          "Male",
          "Female",
          "Male",
          "Male",
          "Male",
          "Female",
          "Female",
          "Male",
          "Male",
          "Male",
          "Female",
          "Male",
          "Female",
          "Male",
          "Male",
          "Female",
          "Male",
          "Male",
          "Male",
          "Male",
          "Male",
          "Male",
          "Female",
          "Female",
          "Female",
          "Male",
          "Female",
          "Male",
          "Male",
          "Female",
          "Female",
          "Male",
          "Female",
          "Male",
          "Male",
          "Male",
          "Female",
          "Male",
          "Female",
          "Female",
          "Female",
          "Male",
          "Female",
          "Female",
          "Male",
          "Female",
          "Male",
          "Male",
          "Male",
          "Male",
          "Male",
          "Male",
          "Female",
          "Female",
          "Female",
          "Male",
          "Female",
          "Male",
          "Female",
          "Male",
          "Male",
          "Female",
          "Male",
          "Male",
          "Female",
          "Male",
          "Male",
          "Male",
          "Male",
          "Male",
          "Female",
          "Male",
          "Female",
          "Male",
          "Male",
          "Female",
          "Female",
          "Female",
          "Female",
          "Male",
          "Male",
          "Female",
          "Male",
          "Male",
          "Male",
          "Female",
          "Male",
          "Male",
          "Male",
          "Female",
          "Male",
          "Male",
          "Female",
          "Female",
          "Female",
          "Female",
          "Male",
          "Male",
          "Male",
          "Female",
          "Male",
          "Female",
          "Female",
          "Male",
          "Male",
          "Male",
          "Male",
          "Male",
          "Female",
          "Male",
          "Male",
          "Male",
          "Female",
          "Female",
          "Female",
          "Female",
          "Male",
          "Male",
          "Male",
          "Male",
          "Female",
          "Male",
          "Male",
          "Female",
          "Female",
          "Female",
          "Male",
          "Female",
          "Male",
          "Male",
          "Female",
          "Female",
          "Male",
          "Male",
          "Male",
          "Male",
          "Female",
          "Male",
          "Female",
          "Female",
          "Female",
          "Male",
          "Male",
          "Male",
          "Male",
          "Male",
          "Female",
          "Male",
          "Female",
          "Male",
          "Female",
          "Female",
          "Male",
          "Female",
          "Female",
          "Female",
          "Female",
          "Male",
          "Male",
          "Male",
          "Male",
          "Female",
          "Female",
          "Male",
          "Female",
          "Female",
          "Male",
          "Male",
          "Male",
          "Female",
          "Female",
          "Male",
          "Male",
          "Female",
          "Female",
          "Female",
          "Female",
          "Male",
          "Male",
          "Male",
          "Female",
          "Male",
          "Female",
          "Male",
          "Female",
          "Male",
          "Male",
          "Female",
          "Male",
          "Female",
          "Male",
          "Male",
          "Female",
          "Female",
          "Male",
          "Female",
          "Male",
          "Male",
          "Female",
          "Male",
          "Male",
          "Male",
          "Male",
          "Female",
          "Female",
          "Female",
          "Female",
          "Male",
          "Male",
          "Male",
          "Female",
          "Male",
          "Male",
          "Female",
          "Female",
          "Male",
          "Male",
          "Female",
          "Female",
          "Male",
          "Male",
          "Female",
          "Female",
          "Female",
          "Male",
          "Female",
          "Male",
          "Male",
          "Female",
          "Male",
          "Female",
          "Male",
          "Female",
          "Male",
          "Female",
          "Male",
          "Female",
          "Female",
          "Male",
          "Male",
          "Male",
          "Female",
          "Male",
          "Male",
          "Male",
          "Female",
          "Male",
          "Male",
          "Female",
          "Female",
          "Male",
          "Female",
          "Female",
          "Male",
          "Male",
          "Female",
          "Male",
          "Male",
          "Male",
          "Female",
          "Female",
          "Female",
          "Male",
          "Female",
          "Female",
          "Male",
          "Female",
          "Male",
          "Female",
          "Male",
          "Male",
          "Female",
          "Female",
          "Male",
          "Male",
          "Male",
          "Female",
          "Male",
          "Male",
          "Male",
          "Female",
          "Male",
          "Male",
          "Male",
          "Male",
          "Female",
          "Female",
          "Female",
          "Male",
          "Female",
          "Male",
          "Male",
          "Female",
          "Male",
          "Male",
          "Female",
          "Male",
          "Female",
          "Female",
          "Male",
          "Male",
          "Male",
          "Male",
          "Male",
          "Female",
          "Male",
          "Male",
          "Male",
          "Male",
          "Female",
          "Male",
          "Female",
          "Male",
          "Male",
          "Male",
          "Male",
          "Female",
          "Male",
          "Female",
          "Male",
          "Female",
          "Male",
          "Male",
          "Male",
          "Male",
          "Female",
          "Male",
          "Male",
          "Male",
          "Male",
          "Female",
          "Female",
          "Female",
          "Male",
          "Female",
          "Female",
          "Male",
          "Male",
          "Female",
          "Male",
          "Female",
          "Male",
          "Male",
          "Female",
          "Female",
          "Male",
          "Female",
          "Male",
          "Female",
          "Female",
          "Female",
          "Male",
          "Male",
          "Female",
          "Female",
          "Male",
          "Female",
          "Male",
          "Male",
          "Male",
          "Male",
          "Male",
          "Female",
          "Male",
          "Male",
          "Female",
          "Female",
          "Female",
          "Male",
          "Female",
          "Male",
          "Male",
          "Male",
          "Male",
          "Male",
          "Female",
          "Male",
          "Female",
          "Male",
          "Male",
          "Male",
          "Female",
          "Female",
          "Female",
          "Female",
          "Female",
          "Female",
          "Female",
          "Male",
          "Male",
          "Male",
          "Male",
          "Male",
          "Male",
          "Male",
          "Male",
          "Female",
          "Male",
          "Male",
          "Female",
          "Male",
          "Male",
          "Male",
          "Male",
          "Male",
          "Male",
          "Male",
          "Female",
          "Male",
          "Female",
          "Male",
          "Male",
          "Female",
          "Male",
          "Female",
          "Male",
          "Female",
          "Male",
          "Male",
          "Female",
          "Female",
          "Male",
          "Female",
          "Male",
          "Male",
          "Female",
          "Female",
          "Female",
          "Male",
          "Male",
          "Female",
          "Male",
          "Male",
          "Male",
          "Male",
          "Male",
          "Male",
          "Female",
          "Female",
          "Male",
          "Male",
          "Male",
          "Male",
          "Female",
          "Female",
          "Female",
          "Female",
          "Male",
          "Male",
          "Female",
          "Female",
          "Male",
          "Male",
          "Female",
          "Male",
          "Female",
          "Female",
          "Male",
          "Female",
          "Female",
          "Female",
          "Male",
          "Male",
          "Male",
          "Male",
          "Male",
          "Male",
          "Female",
          "Male",
          "Male",
          "Male",
          "Female",
          "Female",
          "Male",
          "Female",
          "Male",
          "Male",
          "Female",
          "Female",
          "Male",
          "Female",
          "Female",
          "Male",
          "Male",
          "Male",
          "Male",
          "Male",
          "Female",
          "Male",
          "Female",
          "Male",
          "Male",
          "Male",
          "Male",
          "Male",
          "Female",
          "Female",
          "Male",
          "Female",
          "Male",
          "Male",
          "Male",
          "Female",
          "Male",
          "Male",
          "Female",
          "Female",
          "Female",
          "Female",
          "Female",
          "Male",
          "Female",
          "Female",
          "Male",
          "Male",
          "Male",
          "Male",
          "Female",
          "Male",
          "Male",
          "Female",
          "Male",
          "Male",
          "Female",
          "Male",
          "Female",
          "Male",
          "Male",
          "Male",
          "Male",
          "Female",
          "Female",
          "Female",
          "Male",
          "Female",
          "Female",
          "Male",
          "Female",
          "Male",
          "Male",
          "Female",
          "Female",
          "Male",
          "Male",
          "Female",
          "Female",
          "Male",
          "Male",
          "Male",
          "Female",
          "Male",
          "Male",
          "Male",
          "Female",
          "Female",
          "Female",
          "Male",
          "Male",
          "Female",
          "Female",
          "Female",
          "Female",
          "Female",
          "Female",
          "Female",
          "Female",
          "Male",
          "Male",
          "Female",
          "Male",
          "Female",
          "Male",
          "Male",
          "Male",
          "Male",
          "Male",
          "Male",
          "Female",
          "Male",
          "Male",
          "Male",
          "Female",
          "Female",
          "Female",
          "Male",
          "Male",
          "Female",
          "Female",
          "Male",
          "Male",
          "Male",
          "Male",
          "Female",
          "Male",
          "Male",
          "Male",
          "Female",
          "Female",
          "Female",
          "Male",
          "Female",
          "Male",
          "Male",
          "Male",
          "Female",
          "Male",
          "Female",
          "Male",
          "Male",
          "Male",
          "Male",
          "Male",
          "Male",
          "Male",
          "Male",
          "Male",
          "Male",
          "Male",
          "Male",
          "Male",
          "Female",
          "Male",
          "Male",
          "Female",
          "Female",
          "Female",
          "Female",
          "Male",
          "Male",
          "Female",
          "Female",
          "Female",
          "Female",
          "Male",
          "Male",
          "Female",
          "Female",
          "Female",
          "Female",
          "Male",
          "Male",
          "Female",
          "Male",
          "Male",
          "Male",
          "Male",
          "Male",
          "Female",
          "Male",
          "Male",
          "Female",
          "Male",
          "Female",
          "Male",
          "Female",
          "Male",
          "Male",
          "Female",
          "Female",
          "Male",
          "Female",
          "Male",
          "Female",
          "Male",
          "Male",
          "Male",
          "Male",
          "Male",
          "Male",
          "Male",
          "Male",
          "Male",
          "Female",
          "Female",
          "Female",
          "Female",
          "Female",
          "Female",
          "Male",
          "Male",
          "Male",
          "Male",
          "Female",
          "Male",
          "Male",
          "Female",
          "Male",
          "Male",
          "Male",
          "Female",
          "Female",
          "Male",
          "Male",
          "Male",
          "Male",
          "Female",
          "Male",
          "Male",
          "Female",
          "Female",
          "Female",
          "Male",
          "Male",
          "Male",
          "Female",
          "Male",
          "Female",
          "Female",
          "Male",
          "Male",
          "Female",
          "Female",
          "Female",
          "Male",
          "Male",
          "Female",
          "Female",
          "Male",
          "Male",
          "Female",
          "Male",
          "Female",
          "Male",
          "Female",
          "Female",
          "Male",
          "Female",
          "Female",
          "Female",
          "Male",
          "Female",
          "Female",
          "Male",
          "Female",
          "Male",
          "Male",
          "Male",
          "Male",
          "Female",
          "Female",
          "Male",
          "Female",
          "Male",
          "Male",
          "Male",
          "Male",
          "Male",
          "Female",
          "Male",
          "Male",
          "Male",
          "Male",
          "Female",
          "Male",
          "Female",
          "Male",
          "Female",
          "Male",
          "Female",
          "Male",
          "Male",
          "Female",
          "Female",
          "Male",
          "Female",
          "Female",
          "Male",
          "Male",
          "Male",
          "Male",
          "Female",
          "Male",
          "Male",
          "Female",
          "Male",
          "Female",
          "Female",
          "Female",
          "Female",
          "Male",
          "Male",
          "Male",
          "Male",
          "Female",
          "Male",
          "Female",
          "Female",
          "Male",
          "Male",
          "Male",
          "Female",
          "Female",
          "Male",
          "Male",
          "Male",
          "Female",
          "Male",
          "Male",
          "Female",
          "Female",
          "Female",
          "Male",
          "Female",
          "Male",
          "Male",
          "Female",
          "Male",
          "Male",
          "Female",
          "Male",
          "Female",
          "Male",
          "Male",
          "Female",
          "Female",
          "Male",
          "Female",
          "Male",
          "Female",
          "Male",
          "Female",
          "Male",
          "Female",
          "Female",
          "Male",
          "Female",
          "Male",
          "Male",
          "Female",
          "Male",
          "Male",
          "Male",
          "Female",
          "Male",
          "Male",
          "Female",
          "Female",
          "Female",
          "Female",
          "Female",
          "Male",
          "Male",
          "Female",
          "Female",
          "Female",
          "Male",
          "Male",
          "Female",
          "Female",
          "Female",
          "Male",
          "Male",
          "Female",
          "Female",
          "Male",
          "Male",
          "Female",
          "Female",
          "Male",
          "Male",
          "Male",
          "Male",
          "Female",
          "Male",
          "Female",
          "Female",
          "Male",
          "Male",
          "Male",
          "Male",
          "Male",
          "Female",
          "Female",
          "Female",
          "Female",
          "Female",
          "Female",
          "Male",
          "Female",
          "Male",
          "Male",
          "Male",
          "Female",
          "Female",
          "Female",
          "Female",
          "Male",
          "Female",
          "Female",
          "Female",
          "Male",
          "Male",
          "Female",
          "Male",
          "Female",
          "Male",
          "Female",
          "Male",
          "Female",
          "Male",
          "Female",
          "Male",
          "Female",
          "Female",
          "Male",
          "Female",
          "Male",
          "Male",
          "Male",
          "Female",
          "Male",
          "Male",
          "Female",
          "Female",
          "Male",
          "Female",
          "Female",
          "Male",
          "Female",
          "Male",
          "Female",
          "Male",
          "Female",
          "Male",
          "Female",
          "Male",
          "Male",
          "Male",
          "Female",
          "Male",
          "Male",
          "Male",
          "Female",
          "Male",
          "Female",
          "Male",
          "Male",
          "Male",
          "Female",
          "Male",
          "Male",
          "Male",
          "Female",
          "Male",
          "Female",
          "Male",
          "Male",
          "Male",
          "Female",
          "Female",
          "Male",
          "Female",
          "Male",
          "Female",
          "Male",
          "Male",
          "Female",
          "Female",
          "Male",
          "Male",
          "Male",
          "Female",
          "Male",
          "Female",
          "Male",
          "Male",
          "Male",
          "Male",
          "Male",
          "Male",
          "Female",
          "Male",
          "Female",
          "Male",
          "Female",
          "Female",
          "Female",
          "Female",
          "Male",
          "Female",
          "Female",
          "Male",
          "Male",
          "Male",
          "Male",
          "Male",
          "Male",
          "Male",
          "Female",
          "Male",
          "Female",
          "Male",
          "Male",
          "Male",
          "Male",
          "Male",
          "Female",
          "Male",
          "Female",
          "Male",
          "Male",
          "Female",
          "Male",
          "Male",
          "Male",
          "Male",
          "Male",
          "Male",
          "Male",
          "Female",
          "Male",
          "Male",
          "Female",
          "Female",
          "Male",
          "Female",
          "Male",
          "Male",
          "Female",
          "Female",
          "Male",
          "Female",
          "Female",
          "Male",
          "Male",
          "Male",
          "Female",
          "Male",
          "Female",
          "Male",
          "Male",
          "Female",
          "Female",
          "Male",
          "Male",
          "Male",
          "Male",
          "Male",
          "Female",
          "Male",
          "Male",
          "Male",
          "Female",
          "Male",
          "Female",
          "Male",
          "Male",
          "Male",
          "Male",
          "Female",
          "Male",
          "Female",
          "Male",
          "Male",
          "Male",
          "Female",
          "Female",
          "Female",
          "Male",
          "Female",
          "Male",
          "Female",
          "Female",
          "Male",
          "Male",
          "Female",
          "Female",
          "Male",
          "Female",
          "Female",
          "Male",
          "Male",
          "Female",
          "Male",
          "Male",
          "Male",
          "Female",
          "Female",
          "Male",
          "Female",
          "Female",
          "Male",
          "Female",
          "Female",
          "Female",
          "Female",
          "Male",
          "Male",
          "Male",
          "Female",
          "Female",
          "Male",
          "Male",
          "Male",
          "Female",
          "Male",
          "Female",
          "Male",
          "Male",
          "Male",
          "Female",
          "Male",
          "Female",
          "Male",
          "Male",
          "Male",
          "Female",
          "Female",
          "Male",
          "Female",
          "Male",
          "Male",
          "Male",
          "Female",
          "Male",
          "Male",
          "Male",
          "Male",
          "Male",
          "Male",
          "Male",
          "Female",
          "Male",
          "Male",
          "Male",
          "Male",
          "Female",
          "Male",
          "Female",
          "Female",
          "Female",
          "Male",
          "Male",
          "Female",
          "Female",
          "Male",
          "Male",
          "Male",
          "Female",
          "Female",
          "Male",
          "Male",
          "Male",
          "Male",
          "Female",
          "Female",
          "Female",
          "Male",
          "Female",
          "Female",
          "Female",
          "Female",
          "Male",
          "Female",
          "Female",
          "Female",
          "Male",
          "Female",
          "Male",
          "Male",
          "Male",
          "Female",
          "Male",
          "Male",
          "Female",
          "Female",
          "Female",
          "Male",
          "Female",
          "Male",
          "Male",
          "Male",
          "Female",
          "Male",
          "Male",
          "Male",
          "Male",
          "Female",
          "Female",
          "Male",
          "Male",
          "Male",
          "Female",
          "Male",
          "Male",
          "Male",
          "Male",
          "Male",
          "Male",
          "Male",
          "Male",
          "Female",
          "Male",
          "Male",
          "Female",
          "Female",
          "Male",
          "Female",
          "Male",
          "Female",
          "Female",
          "Male",
          "Male",
          "Male",
          "Female",
          "Female",
          "Female",
          "Male",
          "Male",
          "Female",
          "Male",
          "Male",
          "Male",
          "Female",
          "Female",
          "Female",
          "Male",
          "Female",
          "Female",
          "Male",
          "Male",
          "Male",
          "Female",
          "Male",
          "Male",
          "Male",
          "Female",
          "Male",
          "Male",
          "Male",
          "Male",
          "Male",
          "Male",
          "Female",
          "Female",
          "Female",
          "Male",
          "Female",
          "Male",
          "Male",
          "Female",
          "Female",
          "Male",
          "Female",
          "Female",
          "Female",
          "Female",
          "Female",
          "Male",
          "Male",
          "Female",
          "Male",
          "Male",
          "Male",
          "Male",
          "Female",
          "Female",
          "Male",
          "Female",
          "Female",
          "Male",
          "Female",
          "Male",
          "Male",
          "Male",
          "Female",
          "Male",
          "Female",
          "Female",
          "Male",
          "Male",
          "Male",
          "Male",
          "Female",
          "Male",
          "Male",
          "Male",
          "Female",
          "Female",
          "Female",
          "Female",
          "Male",
          "Male",
          "Female",
          "Female",
          "Male",
          "Male",
          "Male",
          "Female",
          "Male",
          "Male",
          "Female",
          "Male",
          "Male",
          "Male",
          "Male",
          "Male",
          "Male",
          "Male",
          "Female",
          "Female",
          "Male",
          "Male",
          "Female",
          "Male",
          "Male",
          "Male",
          "Female",
          "Male",
          "Female",
          "Female",
          "Female",
          "Male",
          "Female",
          "Male",
          "Male",
          "Male",
          "Male",
          "Female",
          "Male",
          "Male",
          "Male",
          "Female",
          "Male",
          "Female",
          "Female",
          "Female",
          "Male",
          "Female",
          "Male",
          "Female",
          "Female",
          "Male",
          "Female",
          "Male",
          "Male",
          "Male",
          "Female",
          "Female",
          "Female",
          "Female",
          "Male",
          "Female",
          "Male",
          "Female",
          "Female",
          "Male",
          "Male",
          "Male",
          "Female",
          "Male",
          "Male",
          "Female",
          "Male",
          "Male",
          "Female",
          "Male",
          "Female",
          "Male",
          "Male",
          "Male",
          "Male",
          "Female",
          "Female",
          "Male",
          "Male",
          "Male",
          "Male",
          "Male",
          "Female",
          "Male",
          "Male",
          "Male",
          "Male",
          "Female",
          "Male",
          "Male",
          "Male",
          "Female",
          "Male",
          "Female",
          "Male",
          "Female",
          "Female",
          "Male",
          "Female",
          "Female",
          "Male",
          "Male",
          "Female",
          "Female",
          "Female",
          "Female",
          "Female",
          "Female",
          "Male",
          "Male",
          "Female",
          "Male",
          "Male",
          "Female",
          "Male",
          "Male",
          "Male",
          "Female",
          "Female",
          "Male",
          "Male",
          "Male",
          "Male",
          "Male",
          "Male",
          "Male",
          "Male",
          "Male",
          "Female",
          "Female",
          "Female",
          "Female",
          "Male",
          "Female",
          "Male",
          "Female",
          "Female",
          "Female",
          "Female",
          "Female",
          "Female",
          "Male",
          "Female",
          "Male",
          "Female",
          "Male",
          "Male",
          "Female",
          "Male",
          "Female",
          "Male",
          "Female",
          "Female",
          "Female",
          "Male",
          "Male",
          "Female",
          "Male",
          "Male",
          "Female",
          "Male",
          "Male",
          "Male",
          "Male",
          "Female",
          "Male",
          "Female",
          "Male",
          "Male",
          "Male",
          "Male",
          "Female",
          "Female",
          "Male",
          "Female",
          "Male",
          "Male",
          "Male",
          "Female",
          "Male",
          "Female",
          "Male",
          "Male",
          "Male",
          "Female",
          "Female",
          "Male",
          "Female",
          "Male",
          "Female",
          "Female",
          "Female",
          "Female",
          "Male",
          "Female",
          "Male",
          "Male",
          "Male",
          "Male",
          "Male",
          "Male",
          "Male",
          "Male",
          "Female",
          "Male",
          "Female",
          "Male",
          "Male",
          "Male",
          "Male",
          "Female",
          "Female",
          "Male",
          "Male",
          "Female",
          "Male",
          "Male",
          "Female",
          "Male",
          "Female",
          "Female",
          "Male",
          "Male",
          "Male",
          "Male",
          "Female",
          "Female",
          "Male",
          "Male",
          "Male",
          "Male",
          "Female",
          "Female",
          "Male",
          "Male",
          "Female",
          "Male",
          "Female",
          "Male",
          "Female",
          "Female",
          "Female",
          "Female",
          "Female",
          "Female",
          "Female",
          "Female",
          "Female",
          "Male"
         ],
         "x0": " ",
         "xaxis": "x",
         "y": {
          "bdata": "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",
          "dtype": "i1"
         },
         "y0": " ",
         "yaxis": "y"
        }
       ],
       "layout": {
        "boxmode": "group",
        "legend": {
         "tracegroupgap": 0
        },
        "template": {
         "data": {
          "bar": [
           {
            "error_x": {
             "color": "#2a3f5f"
            },
            "error_y": {
             "color": "#2a3f5f"
            },
            "marker": {
             "line": {
              "color": "#E5ECF6",
              "width": 0.5
             },
             "pattern": {
              "fillmode": "overlay",
              "size": 10,
              "solidity": 0.2
             }
            },
            "type": "bar"
           }
          ],
          "barpolar": [
           {
            "marker": {
             "line": {
              "color": "#E5ECF6",
              "width": 0.5
             },
             "pattern": {
              "fillmode": "overlay",
              "size": 10,
              "solidity": 0.2
             }
            },
            "type": "barpolar"
           }
          ],
          "carpet": [
           {
            "aaxis": {
             "endlinecolor": "#2a3f5f",
             "gridcolor": "white",
             "linecolor": "white",
             "minorgridcolor": "white",
             "startlinecolor": "#2a3f5f"
            },
            "baxis": {
             "endlinecolor": "#2a3f5f",
             "gridcolor": "white",
             "linecolor": "white",
             "minorgridcolor": "white",
             "startlinecolor": "#2a3f5f"
            },
            "type": "carpet"
           }
          ],
          "choropleth": [
           {
            "colorbar": {
             "outlinewidth": 0,
             "ticks": ""
            },
            "type": "choropleth"
           }
          ],
          "contour": [
           {
            "colorbar": {
             "outlinewidth": 0,
             "ticks": ""
            },
            "colorscale": [
             [
              0,
              "#0d0887"
             ],
             [
              0.1111111111111111,
              "#46039f"
             ],
             [
              0.2222222222222222,
              "#7201a8"
             ],
             [
              0.3333333333333333,
              "#9c179e"
             ],
             [
              0.4444444444444444,
              "#bd3786"
             ],
             [
              0.5555555555555556,
              "#d8576b"
             ],
             [
              0.6666666666666666,
              "#ed7953"
             ],
             [
              0.7777777777777778,
              "#fb9f3a"
             ],
             [
              0.8888888888888888,
              "#fdca26"
             ],
             [
              1,
              "#f0f921"
             ]
            ],
            "type": "contour"
           }
          ],
          "contourcarpet": [
           {
            "colorbar": {
             "outlinewidth": 0,
             "ticks": ""
            },
            "type": "contourcarpet"
           }
          ],
          "heatmap": [
           {
            "colorbar": {
             "outlinewidth": 0,
             "ticks": ""
            },
            "colorscale": [
             [
              0,
              "#0d0887"
             ],
             [
              0.1111111111111111,
              "#46039f"
             ],
             [
              0.2222222222222222,
              "#7201a8"
             ],
             [
              0.3333333333333333,
              "#9c179e"
             ],
             [
              0.4444444444444444,
              "#bd3786"
             ],
             [
              0.5555555555555556,
              "#d8576b"
             ],
             [
              0.6666666666666666,
              "#ed7953"
             ],
             [
              0.7777777777777778,
              "#fb9f3a"
             ],
             [
              0.8888888888888888,
              "#fdca26"
             ],
             [
              1,
              "#f0f921"
             ]
            ],
            "type": "heatmap"
           }
          ],
          "histogram": [
           {
            "marker": {
             "pattern": {
              "fillmode": "overlay",
              "size": 10,
              "solidity": 0.2
             }
            },
            "type": "histogram"
           }
          ],
          "histogram2d": [
           {
            "colorbar": {
             "outlinewidth": 0,
             "ticks": ""
            },
            "colorscale": [
             [
              0,
              "#0d0887"
             ],
             [
              0.1111111111111111,
              "#46039f"
             ],
             [
              0.2222222222222222,
              "#7201a8"
             ],
             [
              0.3333333333333333,
              "#9c179e"
             ],
             [
              0.4444444444444444,
              "#bd3786"
             ],
             [
              0.5555555555555556,
              "#d8576b"
             ],
             [
              0.6666666666666666,
              "#ed7953"
             ],
             [
              0.7777777777777778,
              "#fb9f3a"
             ],
             [
              0.8888888888888888,
              "#fdca26"
             ],
             [
              1,
              "#f0f921"
             ]
            ],
            "type": "histogram2d"
           }
          ],
          "histogram2dcontour": [
           {
            "colorbar": {
             "outlinewidth": 0,
             "ticks": ""
            },
            "colorscale": [
             [
              0,
              "#0d0887"
             ],
             [
              0.1111111111111111,
              "#46039f"
             ],
             [
              0.2222222222222222,
              "#7201a8"
             ],
             [
              0.3333333333333333,
              "#9c179e"
             ],
             [
              0.4444444444444444,
              "#bd3786"
             ],
             [
              0.5555555555555556,
              "#d8576b"
             ],
             [
              0.6666666666666666,
              "#ed7953"
             ],
             [
              0.7777777777777778,
              "#fb9f3a"
             ],
             [
              0.8888888888888888,
              "#fdca26"
             ],
             [
              1,
              "#f0f921"
             ]
            ],
            "type": "histogram2dcontour"
           }
          ],
          "mesh3d": [
           {
            "colorbar": {
             "outlinewidth": 0,
             "ticks": ""
            },
            "type": "mesh3d"
           }
          ],
          "parcoords": [
           {
            "line": {
             "colorbar": {
              "outlinewidth": 0,
              "ticks": ""
             }
            },
            "type": "parcoords"
           }
          ],
          "pie": [
           {
            "automargin": true,
            "type": "pie"
           }
          ],
          "scatter": [
           {
            "fillpattern": {
             "fillmode": "overlay",
             "size": 10,
             "solidity": 0.2
            },
            "type": "scatter"
           }
          ],
          "scatter3d": [
           {
            "line": {
             "colorbar": {
              "outlinewidth": 0,
              "ticks": ""
             }
            },
            "marker": {
             "colorbar": {
              "outlinewidth": 0,
              "ticks": ""
             }
            },
            "type": "scatter3d"
           }
          ],
          "scattercarpet": [
           {
            "marker": {
             "colorbar": {
              "outlinewidth": 0,
              "ticks": ""
             }
            },
            "type": "scattercarpet"
           }
          ],
          "scattergeo": [
           {
            "marker": {
             "colorbar": {
              "outlinewidth": 0,
              "ticks": ""
             }
            },
            "type": "scattergeo"
           }
          ],
          "scattergl": [
           {
            "marker": {
             "colorbar": {
              "outlinewidth": 0,
              "ticks": ""
             }
            },
            "type": "scattergl"
           }
          ],
          "scattermap": [
           {
            "marker": {
             "colorbar": {
              "outlinewidth": 0,
              "ticks": ""
             }
            },
            "type": "scattermap"
           }
          ],
          "scattermapbox": [
           {
            "marker": {
             "colorbar": {
              "outlinewidth": 0,
              "ticks": ""
             }
            },
            "type": "scattermapbox"
           }
          ],
          "scatterpolar": [
           {
            "marker": {
             "colorbar": {
              "outlinewidth": 0,
              "ticks": ""
             }
            },
            "type": "scatterpolar"
           }
          ],
          "scatterpolargl": [
           {
            "marker": {
             "colorbar": {
              "outlinewidth": 0,
              "ticks": ""
             }
            },
            "type": "scatterpolargl"
           }
          ],
          "scatterternary": [
           {
            "marker": {
             "colorbar": {
              "outlinewidth": 0,
              "ticks": ""
             }
            },
            "type": "scatterternary"
           }
          ],
          "surface": [
           {
            "colorbar": {
             "outlinewidth": 0,
             "ticks": ""
            },
            "colorscale": [
             [
              0,
              "#0d0887"
             ],
             [
              0.1111111111111111,
              "#46039f"
             ],
             [
              0.2222222222222222,
              "#7201a8"
             ],
             [
              0.3333333333333333,
              "#9c179e"
             ],
             [
              0.4444444444444444,
              "#bd3786"
             ],
             [
              0.5555555555555556,
              "#d8576b"
             ],
             [
              0.6666666666666666,
              "#ed7953"
             ],
             [
              0.7777777777777778,
              "#fb9f3a"
             ],
             [
              0.8888888888888888,
              "#fdca26"
             ],
             [
              1,
              "#f0f921"
             ]
            ],
            "type": "surface"
           }
          ],
          "table": [
           {
            "cells": {
             "fill": {
              "color": "#EBF0F8"
             },
             "line": {
              "color": "white"
             }
            },
            "header": {
             "fill": {
              "color": "#C8D4E3"
             },
             "line": {
              "color": "white"
             }
            },
            "type": "table"
           }
          ]
         },
         "layout": {
          "annotationdefaults": {
           "arrowcolor": "#2a3f5f",
           "arrowhead": 0,
           "arrowwidth": 1
          },
          "autotypenumbers": "strict",
          "coloraxis": {
           "colorbar": {
            "outlinewidth": 0,
            "ticks": ""
           }
          },
          "colorscale": {
           "diverging": [
            [
             0,
             "#8e0152"
            ],
            [
             0.1,
             "#c51b7d"
            ],
            [
             0.2,
             "#de77ae"
            ],
            [
             0.3,
             "#f1b6da"
            ],
            [
             0.4,
             "#fde0ef"
            ],
            [
             0.5,
             "#f7f7f7"
            ],
            [
             0.6,
             "#e6f5d0"
            ],
            [
             0.7,
             "#b8e186"
            ],
            [
             0.8,
             "#7fbc41"
            ],
            [
             0.9,
             "#4d9221"
            ],
            [
             1,
             "#276419"
            ]
           ],
           "sequential": [
            [
             0,
             "#0d0887"
            ],
            [
             0.1111111111111111,
             "#46039f"
            ],
            [
             0.2222222222222222,
             "#7201a8"
            ],
            [
             0.3333333333333333,
             "#9c179e"
            ],
            [
             0.4444444444444444,
             "#bd3786"
            ],
            [
             0.5555555555555556,
             "#d8576b"
            ],
            [
             0.6666666666666666,
             "#ed7953"
            ],
            [
             0.7777777777777778,
             "#fb9f3a"
            ],
            [
             0.8888888888888888,
             "#fdca26"
            ],
            [
             1,
             "#f0f921"
            ]
           ],
           "sequentialminus": [
            [
             0,
             "#0d0887"
            ],
            [
             0.1111111111111111,
             "#46039f"
            ],
            [
             0.2222222222222222,
             "#7201a8"
            ],
            [
             0.3333333333333333,
             "#9c179e"
            ],
            [
             0.4444444444444444,
             "#bd3786"
            ],
            [
             0.5555555555555556,
             "#d8576b"
            ],
            [
             0.6666666666666666,
             "#ed7953"
            ],
            [
             0.7777777777777778,
             "#fb9f3a"
            ],
            [
             0.8888888888888888,
             "#fdca26"
            ],
            [
             1,
             "#f0f921"
            ]
           ]
          },
          "colorway": [
           "#636efa",
           "#EF553B",
           "#00cc96",
           "#ab63fa",
           "#FFA15A",
           "#19d3f3",
           "#FF6692",
           "#B6E880",
           "#FF97FF",
           "#FECB52"
          ],
          "font": {
           "color": "#2a3f5f"
          },
          "geo": {
           "bgcolor": "white",
           "lakecolor": "white",
           "landcolor": "#E5ECF6",
           "showlakes": true,
           "showland": true,
           "subunitcolor": "white"
          },
          "hoverlabel": {
           "align": "left"
          },
          "hovermode": "closest",
          "mapbox": {
           "style": "light"
          },
          "paper_bgcolor": "white",
          "plot_bgcolor": "#E5ECF6",
          "polar": {
           "angularaxis": {
            "gridcolor": "white",
            "linecolor": "white",
            "ticks": ""
           },
           "bgcolor": "#E5ECF6",
           "radialaxis": {
            "gridcolor": "white",
            "linecolor": "white",
            "ticks": ""
           }
          },
          "scene": {
           "xaxis": {
            "backgroundcolor": "#E5ECF6",
            "gridcolor": "white",
            "gridwidth": 2,
            "linecolor": "white",
            "showbackground": true,
            "ticks": "",
            "zerolinecolor": "white"
           },
           "yaxis": {
            "backgroundcolor": "#E5ECF6",
            "gridcolor": "white",
            "gridwidth": 2,
            "linecolor": "white",
            "showbackground": true,
            "ticks": "",
            "zerolinecolor": "white"
           },
           "zaxis": {
            "backgroundcolor": "#E5ECF6",
            "gridcolor": "white",
            "gridwidth": 2,
            "linecolor": "white",
            "showbackground": true,
            "ticks": "",
            "zerolinecolor": "white"
           }
          },
          "shapedefaults": {
           "line": {
            "color": "#2a3f5f"
           }
          },
          "ternary": {
           "aaxis": {
            "gridcolor": "white",
            "linecolor": "white",
            "ticks": ""
           },
           "baxis": {
            "gridcolor": "white",
            "linecolor": "white",
            "ticks": ""
           },
           "bgcolor": "#E5ECF6",
           "caxis": {
            "gridcolor": "white",
            "linecolor": "white",
            "ticks": ""
           }
          },
          "title": {
           "x": 0.05
          },
          "xaxis": {
           "automargin": true,
           "gridcolor": "white",
           "linecolor": "white",
           "ticks": "",
           "title": {
            "standoff": 15
           },
           "zerolinecolor": "white",
           "zerolinewidth": 2
          },
          "yaxis": {
           "automargin": true,
           "gridcolor": "white",
           "linecolor": "white",
           "ticks": "",
           "title": {
            "standoff": 15
           },
           "zerolinecolor": "white",
           "zerolinewidth": 2
          }
         }
        },
        "title": {
         "text": "Notas de Matemática por Gênero"
        },
        "xaxis": {
         "anchor": "y",
         "domain": [
          0,
          1
         ],
         "title": {
          "text": "Gender"
         }
        },
        "yaxis": {
         "anchor": "x",
         "domain": [
          0,
          1
         ],
         "title": {
          "text": "Exam_Score"
         }
        }
       }
      }
     },
     "metadata": {},
     "output_type": "display_data"
    }
   ],
   "source": [
    "# 2) Boxplot por categoria\n",
    "fig = px.box(df, x=\"Gender\", y=\"Exam_Score\", title=\"Notas de Matemática por Gênero\")\n",
    "fig.show()"
   ]
  },
  {
   "cell_type": "code",
   "execution_count": 11,
   "id": "f094a151",
   "metadata": {},
   "outputs": [
    {
     "data": {
      "application/vnd.plotly.v1+json": {
       "config": {
        "plotlyServerURL": "https://plot.ly"
       },
       "data": [
        {
         "hovertemplate": "Gender=Male<br>Attendance=%{x}<br>Exam_Score=%{y}<extra></extra>",
         "legendgroup": "Male",
         "marker": {
          "color": "#636efa",
          "symbol": "circle"
         },
         "mode": "markers",
         "name": "Male",
         "showlegend": true,
         "type": "scattergl",
         "x": {
          "bdata": "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",
          "dtype": "i1"
         },
         "xaxis": "x",
         "y": {
          "bdata": "Q0pHR0NCRUhER0ZCQTxCSEJAR0BFQz1AQ0BGREFEP0BAQ0hHRD5EQ0dERUZBR0VEQDxBQkpGRUNAR0BHRUQ+QkBDQUU/SExFP0NCP0FBQERFRUNAP0JBREFHQT1ESEFBQkVCRUNCR0ZHQkNIREdFQUFAP0VIP0BDR0ZDSEJGQ0JEQEFCQkRKSkJEWUJFQ0s+PkFFRj1FP0NBQj9BQ0BHQ0RDQ0I/QkVBQ0FBQUJCQUVAPkNGP0JCQkNHRUNFRD9GQkNERkpCQD5EQUI9Q0FBST5DRkVAREFCP0pGRD8+R0hIRkI+RD9DPUVLQUBGP1Y/QUVCQEJGPkRIRUJHQT5CPkBCQ0RAQEc9RElASEFHQUJKP0hDQkhDRUlEP0RCRj1HQ0ZFPURKQEFFREVDQ0s/RkA/REQ9RkFAPUQ+SERHQUFIQEVFRkVHQUZCSkJEREdFR0JAQUFDQkVARkRESEVFRkZEPUhBPkFCR0RGRUJBQz9QRD9AQkI7RERGPkhESUVBP0JCRkVDSUZBRkZAQEhAQkZBRkZDQUFBRT9CQ0VDRkNGP0VFP0JGRUNEREVDRklJQ0VBQUFAQ0ZHREJERkNDPkNGSEJFREdFRT5GQ0M+Q0RCSEJIRTxFREU+R0ZERElCR0ZIRT9GRURBO0JASENeQkBBQEBCRERCR0RDQD5ARkRBQ0FHQUREQUJGSENDQkJFPkBHSUJLRERFQkJIR0hFR0U9REhBQWFCPkRDRUtBP0JCQkJHREdERD5BRz9ERT5GRklCQUdER0NHPkNDPj9EQD5CRUBCQktCR0FDPz5GP0c/Rz9EQUJCREBDQ0FCR0FESD1BP0I/P0FCQD5EPUVBQUhBRUFFQUhFRkFKQkhDQUNBUEU3REBFQ1xGREZDRUJERT5DQ0NDRkg8R0dAREJBRT9DQD1BQ0Y7S0NARUFFQERCRUNAQ0RCQj9BRUFFQD86QURFR0FLSEVERkM9SUNFP0NCRDtIP0Q9PT9DQktEQ0A/PkRAP0NFREZCQz9EQ0hDQ0FGRUJDQ0ZFQUg+PENDQ0c+REdHPz9CREpDPkQ+UkZIQkBFREBDQUNDQEVCRUJCRUZHRkU/Q0RFREFBRUdCO0FIPEVDQERGS0FHR00+R0JAP0dBQkhCRUE+QUZBP0NHQUFGP0BHSEdAQEJEQUNARkFEPT9AQ0pCSElJP0VHP0hER0M8RDtHRj5EPUNBQ0BDPkJIQz8+QUlEPz5FQkRGQUJFPUJCRURJRUZGREI+Q0dAPUNCWENAQEFETT9FRUZJQkJCRkJCPkU/QEVHRz9IQUNESEFBR0pAQ0lIQUNGRERGP0FDR0hEQ0BBRURFRj9EQEVFQ0I/SEFCPURAQ0Q9SD5GRUBCRURGRUNCOkRJQkJDRD1BR0ZGRUNBQT9CQEE+Rz9GRkRERURDSEREREJCPz5BREFESEVCREA9Q0RKQEVBPkM/QkNBUEo7RUJDRUNCQUNFQ0JFP0BART4+QkVDQUVDR0hCRj5CQUZJQUZDREZBQkNFRUM/QERBQUFEPkhJRERESEVGRUdES0VDSUdGR0U/R0VHQkBFPURDQEc/QkZGRUhESExEQj9CRUhCQ0NCQUdHPkVBRkJGR0U+QUFHPlRERkRDOz8/P0JCQkA7PEFFQEFBQ0NCREFCRUZHRkRCQj0+SEVIRENESEJCRD5GRkBDRUlHRkFJSUZCQERGSEJKQzxFSkc/QkFDRklGQUVBPUNFPkdERUFDSEVFQ0dFRUZGQz0/Q0I+RUM/QEBDQj5EPz5IQ0FIW0FBQ0RLS0hHRkhBR0dEPEdKRkBCRUdBREFCQkdER0FCRkZGQkBCSEI9R0JHSD5FQEU/QEVDQz9EQkhAQUw7Q0lAQ0VDSFZEY0RDQkJIREtDQUNDQ0dDRERCRERKQUVGREFEREJCQERKPUBJPkdEQ0hEQUJFQUA+RT5CQkBFQEdYQkFCPkBIQUNJQ0c/RE5EQUA8RkJARkBIPEFAPURGQkJGSEg/RENDPkNXPkVBRERFQkFHQj1FQT9ESEREREZIQ0RGSEZFQENBREREREVHR0FEREI9RUpCSEVBSEU/P0RBQEFDSEZHSD9IQ0ZHP0dARURDR0Y/R0VDSkRFQkVIREJBRz1FR0hJQUFDRT9EQERCQkVFQENBRkZFRkVBQkY/SkZEQ0JFRT1GQ0VCSUpGREFCRkREQ0E8QUVAQ0lKQ0JFQUNBQkFHRD9FRkRDRUBHRT5CQEJBRkQ5O0BDQ0dDRUQ7RURDRERYQz9BQ0NDQD1DREFISUZER0ZDSENBRj5COkY/RkFDUkdJQz1ARD5CRkFBRkhHSEBIR0JDRUc+Q0VGQUJHO0NBR0Y/QkE/QT5ERD1DQ0BDPkNAQUNEPkFER0NCQD5DP0VCRUQ/RkREQ0NEQ0ZGQj1EQkFJQkFERUg/QUVEQjxCQ0NAQlY9REdHREZAREVGQkRBRENCQjxIRD5FQD9KSEdBRTxFQUNFQUFFQUhDSkJCQkFFQEk9R0pBQkhMQ0FEREM8RklFRkBBQEhAQD1IRkdGSUdAQkFCPEI9REFDRkBER0FBR0Y+RkE+REZJQkNFSD9ARENAP0hEQEFCSEFHOj1BQ0M+R0ZHR0M8PURDSkBDRT5ERElGREdHRENDP0NIPz8/REZFRkNEQD9GSkZAP0I+QUlGPkpCRUlFR0VBQUhDREQ+QUZESD9DQ0VBQUFGQj5EPkBAQUFDRElAR0RKPkBMRkVKRkdEQ0dKQUVBRkNEQ0JBRz9DQUZDR0BCQENAQ0hCREVJRzpERUU/TENGPERFQERARkBCQT4/QkJDQkRCQkRBRkJARUNGSEdAR0JGSEhDRENBRkBCQ0RHRUNEQEhFQkdJQkJKSEhBR0A9RT9CQkM+REJBSD9BQUJAQkRAQ0NBO0RCRURERUZAQkZBREREPz9FOkdFRD1DREhDRERFQkFDQkQ/QDw+RUJIREVBQUNJQkQ9RkNBP0VEQkJGPT1AR0hCQUJIREZJQ0FGQkFEQUZHQFJCQT1GR0hIPkpEQUJDPz9CQkdASEJGQEdIRz9EP0JGRUlEQT1FP0NBQ0hEQ0hJR0FBRD5CPT9DRklIRT1HPUFEPj9ERENBR0JCR0RIQkJDR0hAPEhESEJBQUNBQ0JHQD1BPUdGPkJBPz9DP0I+QENHRUZGQ0ZDREVBRENGRUZDPkRIQEJGQ0NKP0BGP0FGREhDQUJBRERAQUBGRkBHP0g9Q0dGPUNJRUM/Q0JEPUM/RUNFPUNCQUBEQEdEPz1CR0U+QkBEUENAQERBQkNAP0dIP0NDQUBFPEZCR0BARENBRD5DPUY8RkJCQT1JP0M+R0ZBQkU/RENBSlVAP0A+RD8+QkFGQkZEQUQ+RUNKPUJAREJeRkRBQEU7RkhAP0M+Qj5DRENDPkJFQ0U+P0FGRENHQUBEQ0dAREVDOkJFRkZGRUVKR0REP0RDR0JFP0VERURDQUBCQUBIQ0VGR0VHQERKRD1FRERAQkRISUFERkFCRT9ERT9DQ0RHSURFPkI/Q0NDR0VIP0FDQEZJP0RFRT5CQkRCQUJJQUVIR0NHRElFQT87OkJDQ0NHQkdIRUZCPkI/R0BCUkRFP0ZJQUhFREFGQUVDQT9DRkFKSEFFPUNCRkhFREpGQ0JCRDxFQj9CREFBQEQ+Q0FCSUhIQkhHQ0c/QEFASkNCREFCXEVEQENEQkJEQEJBQkJJPUNCRT9CQkZEQj5HQUFHQUJAQEJDQD5CSEVKPURDRkVIQkNEPkBKRUY+R0VFREFBREI9QEBGQUFCPj8/RkNCP0NCRUhERENFQEVIREFEQEJFRj9EQ0VBRUdDPUNGO0pEQz5EPkREQ0ZGRUhARkJIPj5AQUM9REpCQ0FCQ0w/O0o+R0lEREJFSkdHQUFDQz5GQEJFREdBPUc9Q0Y/PkBFR0JFPEFCRElCQ0I8Q0Q/RkBGQURBQElEPkM+SENCQUNDSEFGQ0Q/REJFPkZDRD5ESEE/PkVGOz8/Q0lAQUhCPkRBR0ZEREVAQkBHR0NHPkFFP0BCQkhAQD9IQkZDSEhCREVFQkdDQ0RHQT9DQ0BHRkBFRkZAQkJDSUtJP0hDQ0hESkFGR0VDQENGQUM/RkM8Q0ZFP0NFRUg/RUVFSD5CQ0I9QEFFPUI8RUhHQEdAQ0lJRkZESUJAPz5BQEY+RUZHRURCQ0FFQEREPUVASkRBQz9DRkRCSEI+QT5AREc/PkU+RUJBREVER0JBSENDQERCRURBQUlIQ0JERkI4QUZGR0M6SEJFRkNBREc9P0VGRUNKRj5AP0U/Q0dFR0RGR0dCQ0dDQkNKQkE8RUA/QUFCQ0JFSUNHQENGR0BGQz5FQkU+QEZCQkRDQUZEPUE9Qz5DQEQ/RkNIQElCRkdARz9ER0FCSEE8Q0FIPj5FRkBDQ0BEQkVBOUU/QEA+SEdEREVDQkE/PkM9QkJDQENAP0RAO0dDQklEQUNDREBHRz1BPkFGQ0pAPUdISkVAR0FHQkBGPUE/P0ZIRkA7QUI+QUZGR0RAQUJFREBCRkVBQkQ/PUZBQz5BQkU/R0VFSDw+RUVGQz8/QURCQz49P0JIQEZEPURBRT4+RkVAQmFHSEVBRkZFSUpDQ0ZAREhBQDpFPUJGPkdAQT9EQkVFRz1CRj5FRUBGRT1GQExDSEI+SEFFRUVFRkVLQj9ASEZDQUlCPkdCQUpBQUNCQT9BPUFFSEVDRkNCR0VBQkpCSEVHQUc7PUM/P0JGQUZCRUFDQ0RDQkNFREVAQ0NEQUZDREBLQ0dEQUNCPEVAQkhFTUdGRUA/PT1BQUhEP0ZBQURGR0RBRUJCQ0FGSkRASUJBQkNDRUVGREFFP0JBRUBKR0NARkVBQkRBRD9HR0RCRUZDQ0JCQDxDP0FIRkJHQEJFPz5iRURHRTxCREZFS0FBQkA/QkRERzxCRkQ8RERIRURBQ0RKQUFDPUlGRkVIRENERUI6PD5BRUZGRUBFRkFGPD09RkJBQUNDQUFDQkFBQEA9QURGSkRDSD9DQ0g9Pj9ERztAQ0RGQUZDRUdGQkNHQUA+QERCQUBDQUVFRURERUlMRUZAQEE+Q0VDQUZGQ0FCSEZCQA==",
          "dtype": "i1"
         },
         "yaxis": "y"
        },
        {
         "hovertemplate": "Gender=Female<br>Attendance=%{x}<br>Exam_Score=%{y}<extra></extra>",
         "legendgroup": "Female",
         "marker": {
          "color": "#EF553B",
          "symbol": "circle"
         },
         "mode": "markers",
         "name": "Female",
         "showlegend": true,
         "type": "scattergl",
         "x": {
          "bdata": "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",
          "dtype": "i1"
         },
         "xaxis": "x",
         "y": {
          "bdata": "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",
          "dtype": "i1"
         },
         "yaxis": "y"
        }
       ],
       "layout": {
        "legend": {
         "title": {
          "text": "Gender"
         },
         "tracegroupgap": 0
        },
        "template": {
         "data": {
          "bar": [
           {
            "error_x": {
             "color": "#2a3f5f"
            },
            "error_y": {
             "color": "#2a3f5f"
            },
            "marker": {
             "line": {
              "color": "#E5ECF6",
              "width": 0.5
             },
             "pattern": {
              "fillmode": "overlay",
              "size": 10,
              "solidity": 0.2
             }
            },
            "type": "bar"
           }
          ],
          "barpolar": [
           {
            "marker": {
             "line": {
              "color": "#E5ECF6",
              "width": 0.5
             },
             "pattern": {
              "fillmode": "overlay",
              "size": 10,
              "solidity": 0.2
             }
            },
            "type": "barpolar"
           }
          ],
          "carpet": [
           {
            "aaxis": {
             "endlinecolor": "#2a3f5f",
             "gridcolor": "white",
             "linecolor": "white",
             "minorgridcolor": "white",
             "startlinecolor": "#2a3f5f"
            },
            "baxis": {
             "endlinecolor": "#2a3f5f",
             "gridcolor": "white",
             "linecolor": "white",
             "minorgridcolor": "white",
             "startlinecolor": "#2a3f5f"
            },
            "type": "carpet"
           }
          ],
          "choropleth": [
           {
            "colorbar": {
             "outlinewidth": 0,
             "ticks": ""
            },
            "type": "choropleth"
           }
          ],
          "contour": [
           {
            "colorbar": {
             "outlinewidth": 0,
             "ticks": ""
            },
            "colorscale": [
             [
              0,
              "#0d0887"
             ],
             [
              0.1111111111111111,
              "#46039f"
             ],
             [
              0.2222222222222222,
              "#7201a8"
             ],
             [
              0.3333333333333333,
              "#9c179e"
             ],
             [
              0.4444444444444444,
              "#bd3786"
             ],
             [
              0.5555555555555556,
              "#d8576b"
             ],
             [
              0.6666666666666666,
              "#ed7953"
             ],
             [
              0.7777777777777778,
              "#fb9f3a"
             ],
             [
              0.8888888888888888,
              "#fdca26"
             ],
             [
              1,
              "#f0f921"
             ]
            ],
            "type": "contour"
           }
          ],
          "contourcarpet": [
           {
            "colorbar": {
             "outlinewidth": 0,
             "ticks": ""
            },
            "type": "contourcarpet"
           }
          ],
          "heatmap": [
           {
            "colorbar": {
             "outlinewidth": 0,
             "ticks": ""
            },
            "colorscale": [
             [
              0,
              "#0d0887"
             ],
             [
              0.1111111111111111,
              "#46039f"
             ],
             [
              0.2222222222222222,
              "#7201a8"
             ],
             [
              0.3333333333333333,
              "#9c179e"
             ],
             [
              0.4444444444444444,
              "#bd3786"
             ],
             [
              0.5555555555555556,
              "#d8576b"
             ],
             [
              0.6666666666666666,
              "#ed7953"
             ],
             [
              0.7777777777777778,
              "#fb9f3a"
             ],
             [
              0.8888888888888888,
              "#fdca26"
             ],
             [
              1,
              "#f0f921"
             ]
            ],
            "type": "heatmap"
           }
          ],
          "histogram": [
           {
            "marker": {
             "pattern": {
              "fillmode": "overlay",
              "size": 10,
              "solidity": 0.2
             }
            },
            "type": "histogram"
           }
          ],
          "histogram2d": [
           {
            "colorbar": {
             "outlinewidth": 0,
             "ticks": ""
            },
            "colorscale": [
             [
              0,
              "#0d0887"
             ],
             [
              0.1111111111111111,
              "#46039f"
             ],
             [
              0.2222222222222222,
              "#7201a8"
             ],
             [
              0.3333333333333333,
              "#9c179e"
             ],
             [
              0.4444444444444444,
              "#bd3786"
             ],
             [
              0.5555555555555556,
              "#d8576b"
             ],
             [
              0.6666666666666666,
              "#ed7953"
             ],
             [
              0.7777777777777778,
              "#fb9f3a"
             ],
             [
              0.8888888888888888,
              "#fdca26"
             ],
             [
              1,
              "#f0f921"
             ]
            ],
            "type": "histogram2d"
           }
          ],
          "histogram2dcontour": [
           {
            "colorbar": {
             "outlinewidth": 0,
             "ticks": ""
            },
            "colorscale": [
             [
              0,
              "#0d0887"
             ],
             [
              0.1111111111111111,
              "#46039f"
             ],
             [
              0.2222222222222222,
              "#7201a8"
             ],
             [
              0.3333333333333333,
              "#9c179e"
             ],
             [
              0.4444444444444444,
              "#bd3786"
             ],
             [
              0.5555555555555556,
              "#d8576b"
             ],
             [
              0.6666666666666666,
              "#ed7953"
             ],
             [
              0.7777777777777778,
              "#fb9f3a"
             ],
             [
              0.8888888888888888,
              "#fdca26"
             ],
             [
              1,
              "#f0f921"
             ]
            ],
            "type": "histogram2dcontour"
           }
          ],
          "mesh3d": [
           {
            "colorbar": {
             "outlinewidth": 0,
             "ticks": ""
            },
            "type": "mesh3d"
           }
          ],
          "parcoords": [
           {
            "line": {
             "colorbar": {
              "outlinewidth": 0,
              "ticks": ""
             }
            },
            "type": "parcoords"
           }
          ],
          "pie": [
           {
            "automargin": true,
            "type": "pie"
           }
          ],
          "scatter": [
           {
            "fillpattern": {
             "fillmode": "overlay",
             "size": 10,
             "solidity": 0.2
            },
            "type": "scatter"
           }
          ],
          "scatter3d": [
           {
            "line": {
             "colorbar": {
              "outlinewidth": 0,
              "ticks": ""
             }
            },
            "marker": {
             "colorbar": {
              "outlinewidth": 0,
              "ticks": ""
             }
            },
            "type": "scatter3d"
           }
          ],
          "scattercarpet": [
           {
            "marker": {
             "colorbar": {
              "outlinewidth": 0,
              "ticks": ""
             }
            },
            "type": "scattercarpet"
           }
          ],
          "scattergeo": [
           {
            "marker": {
             "colorbar": {
              "outlinewidth": 0,
              "ticks": ""
             }
            },
            "type": "scattergeo"
           }
          ],
          "scattergl": [
           {
            "marker": {
             "colorbar": {
              "outlinewidth": 0,
              "ticks": ""
             }
            },
            "type": "scattergl"
           }
          ],
          "scattermap": [
           {
            "marker": {
             "colorbar": {
              "outlinewidth": 0,
              "ticks": ""
             }
            },
            "type": "scattermap"
           }
          ],
          "scattermapbox": [
           {
            "marker": {
             "colorbar": {
              "outlinewidth": 0,
              "ticks": ""
             }
            },
            "type": "scattermapbox"
           }
          ],
          "scatterpolar": [
           {
            "marker": {
             "colorbar": {
              "outlinewidth": 0,
              "ticks": ""
             }
            },
            "type": "scatterpolar"
           }
          ],
          "scatterpolargl": [
           {
            "marker": {
             "colorbar": {
              "outlinewidth": 0,
              "ticks": ""
             }
            },
            "type": "scatterpolargl"
           }
          ],
          "scatterternary": [
           {
            "marker": {
             "colorbar": {
              "outlinewidth": 0,
              "ticks": ""
             }
            },
            "type": "scatterternary"
           }
          ],
          "surface": [
           {
            "colorbar": {
             "outlinewidth": 0,
             "ticks": ""
            },
            "colorscale": [
             [
              0,
              "#0d0887"
             ],
             [
              0.1111111111111111,
              "#46039f"
             ],
             [
              0.2222222222222222,
              "#7201a8"
             ],
             [
              0.3333333333333333,
              "#9c179e"
             ],
             [
              0.4444444444444444,
              "#bd3786"
             ],
             [
              0.5555555555555556,
              "#d8576b"
             ],
             [
              0.6666666666666666,
              "#ed7953"
             ],
             [
              0.7777777777777778,
              "#fb9f3a"
             ],
             [
              0.8888888888888888,
              "#fdca26"
             ],
             [
              1,
              "#f0f921"
             ]
            ],
            "type": "surface"
           }
          ],
          "table": [
           {
            "cells": {
             "fill": {
              "color": "#EBF0F8"
             },
             "line": {
              "color": "white"
             }
            },
            "header": {
             "fill": {
              "color": "#C8D4E3"
             },
             "line": {
              "color": "white"
             }
            },
            "type": "table"
           }
          ]
         },
         "layout": {
          "annotationdefaults": {
           "arrowcolor": "#2a3f5f",
           "arrowhead": 0,
           "arrowwidth": 1
          },
          "autotypenumbers": "strict",
          "coloraxis": {
           "colorbar": {
            "outlinewidth": 0,
            "ticks": ""
           }
          },
          "colorscale": {
           "diverging": [
            [
             0,
             "#8e0152"
            ],
            [
             0.1,
             "#c51b7d"
            ],
            [
             0.2,
             "#de77ae"
            ],
            [
             0.3,
             "#f1b6da"
            ],
            [
             0.4,
             "#fde0ef"
            ],
            [
             0.5,
             "#f7f7f7"
            ],
            [
             0.6,
             "#e6f5d0"
            ],
            [
             0.7,
             "#b8e186"
            ],
            [
             0.8,
             "#7fbc41"
            ],
            [
             0.9,
             "#4d9221"
            ],
            [
             1,
             "#276419"
            ]
           ],
           "sequential": [
            [
             0,
             "#0d0887"
            ],
            [
             0.1111111111111111,
             "#46039f"
            ],
            [
             0.2222222222222222,
             "#7201a8"
            ],
            [
             0.3333333333333333,
             "#9c179e"
            ],
            [
             0.4444444444444444,
             "#bd3786"
            ],
            [
             0.5555555555555556,
             "#d8576b"
            ],
            [
             0.6666666666666666,
             "#ed7953"
            ],
            [
             0.7777777777777778,
             "#fb9f3a"
            ],
            [
             0.8888888888888888,
             "#fdca26"
            ],
            [
             1,
             "#f0f921"
            ]
           ],
           "sequentialminus": [
            [
             0,
             "#0d0887"
            ],
            [
             0.1111111111111111,
             "#46039f"
            ],
            [
             0.2222222222222222,
             "#7201a8"
            ],
            [
             0.3333333333333333,
             "#9c179e"
            ],
            [
             0.4444444444444444,
             "#bd3786"
            ],
            [
             0.5555555555555556,
             "#d8576b"
            ],
            [
             0.6666666666666666,
             "#ed7953"
            ],
            [
             0.7777777777777778,
             "#fb9f3a"
            ],
            [
             0.8888888888888888,
             "#fdca26"
            ],
            [
             1,
             "#f0f921"
            ]
           ]
          },
          "colorway": [
           "#636efa",
           "#EF553B",
           "#00cc96",
           "#ab63fa",
           "#FFA15A",
           "#19d3f3",
           "#FF6692",
           "#B6E880",
           "#FF97FF",
           "#FECB52"
          ],
          "font": {
           "color": "#2a3f5f"
          },
          "geo": {
           "bgcolor": "white",
           "lakecolor": "white",
           "landcolor": "#E5ECF6",
           "showlakes": true,
           "showland": true,
           "subunitcolor": "white"
          },
          "hoverlabel": {
           "align": "left"
          },
          "hovermode": "closest",
          "mapbox": {
           "style": "light"
          },
          "paper_bgcolor": "white",
          "plot_bgcolor": "#E5ECF6",
          "polar": {
           "angularaxis": {
            "gridcolor": "white",
            "linecolor": "white",
            "ticks": ""
           },
           "bgcolor": "#E5ECF6",
           "radialaxis": {
            "gridcolor": "white",
            "linecolor": "white",
            "ticks": ""
           }
          },
          "scene": {
           "xaxis": {
            "backgroundcolor": "#E5ECF6",
            "gridcolor": "white",
            "gridwidth": 2,
            "linecolor": "white",
            "showbackground": true,
            "ticks": "",
            "zerolinecolor": "white"
           },
           "yaxis": {
            "backgroundcolor": "#E5ECF6",
            "gridcolor": "white",
            "gridwidth": 2,
            "linecolor": "white",
            "showbackground": true,
            "ticks": "",
            "zerolinecolor": "white"
           },
           "zaxis": {
            "backgroundcolor": "#E5ECF6",
            "gridcolor": "white",
            "gridwidth": 2,
            "linecolor": "white",
            "showbackground": true,
            "ticks": "",
            "zerolinecolor": "white"
           }
          },
          "shapedefaults": {
           "line": {
            "color": "#2a3f5f"
           }
          },
          "ternary": {
           "aaxis": {
            "gridcolor": "white",
            "linecolor": "white",
            "ticks": ""
           },
           "baxis": {
            "gridcolor": "white",
            "linecolor": "white",
            "ticks": ""
           },
           "bgcolor": "#E5ECF6",
           "caxis": {
            "gridcolor": "white",
            "linecolor": "white",
            "ticks": ""
           }
          },
          "title": {
           "x": 0.05
          },
          "xaxis": {
           "automargin": true,
           "gridcolor": "white",
           "linecolor": "white",
           "ticks": "",
           "title": {
            "standoff": 15
           },
           "zerolinecolor": "white",
           "zerolinewidth": 2
          },
          "yaxis": {
           "automargin": true,
           "gridcolor": "white",
           "linecolor": "white",
           "ticks": "",
           "title": {
            "standoff": 15
           },
           "zerolinecolor": "white",
           "zerolinewidth": 2
          }
         }
        },
        "title": {
         "text": "Relação entre Leitura e Escrita (por gênero)"
        },
        "xaxis": {
         "anchor": "y",
         "domain": [
          0,
          1
         ],
         "title": {
          "text": "Attendance"
         }
        },
        "yaxis": {
         "anchor": "x",
         "domain": [
          0,
          1
         ],
         "title": {
          "text": "Exam_Score"
         }
        }
       }
      }
     },
     "metadata": {},
     "output_type": "display_data"
    }
   ],
   "source": [
    "# 3) Scatterplot (relação entre leitura e escrita)\n",
    "fig = px.scatter(\n",
    "    df,\n",
    "    x=\"Attendance\",\n",
    "    y=\"Exam_Score\",\n",
    "    color=\"Gender\",\n",
    "    title=\"Relação entre Leitura e Escrita (por gênero)\",\n",
    ")\n",
    "fig.show()"
   ]
  },
  {
   "cell_type": "code",
   "execution_count": 12,
   "id": "9e826ce3",
   "metadata": {},
   "outputs": [
    {
     "data": {
      "application/vnd.plotly.v1+json": {
       "config": {
        "plotlyServerURL": "https://plot.ly"
       },
       "data": [
        {
         "colorscale": [
          [
           0,
           "rgb(103,0,31)"
          ],
          [
           0.1,
           "rgb(178,24,43)"
          ],
          [
           0.2,
           "rgb(214,96,77)"
          ],
          [
           0.3,
           "rgb(244,165,130)"
          ],
          [
           0.4,
           "rgb(253,219,199)"
          ],
          [
           0.5,
           "rgb(247,247,247)"
          ],
          [
           0.6,
           "rgb(209,229,240)"
          ],
          [
           0.7,
           "rgb(146,197,222)"
          ],
          [
           0.8,
           "rgb(67,147,195)"
          ],
          [
           0.9,
           "rgb(33,102,172)"
          ],
          [
           1,
           "rgb(5,48,97)"
          ]
         ],
         "reversescale": true,
         "showscale": true,
         "type": "heatmap",
         "x": [
          "Hours_Studied",
          "Attendance",
          "Sleep_Hours",
          "Previous_Scores",
          "Tutoring_Sessions",
          "Physical_Activity",
          "Exam_Score"
         ],
         "y": [
          "Hours_Studied",
          "Attendance",
          "Sleep_Hours",
          "Previous_Scores",
          "Tutoring_Sessions",
          "Physical_Activity",
          "Exam_Score"
         ],
         "z": {
          "bdata": "AAAAAAAA8D9zUOdZkkqEv71+XEzyeoY/zqWzNSxxmT+XktkRBUCNv4ZSwU8G8XI/kQzmflWC3D9zUOdZkkqEvwAAAAAAAPA/Dh1ZNMNMkL9S9S9wqquUv5T+5+akVY0/X8CgaR/5lr+RojEFJJjiP71+XEzyeoY/Dh1ZNMNMkL8AAAAAAADwP2hYI9G4RZa/pJtTzcIEib/o1q2u4cY4vz80KCgebpG/zqWzNSxxmT9S9S9wqquUv2hYI9G4RZa/AAAAAAAA8D/UZqa94N+Kv8nwlPOuFoe/ZQx91P1oxj+XktkRBUCNv5T+5+akVY0/pJtTzcIEib/UZqa94N+KvwAAAAAAAPA/6GQz0ZUokj+uSSFsBAnEP4ZSwU8G8XI/X8CgaR/5lr/o1q2u4cY4v8nwlPOuFoe/6GQz0ZUokj8AAAAAAADwP1gEsk0Cfpw/kQzmflWC3D+RojEFJJjiPz80KCgebpG/ZQx91P1oxj+uSSFsBAnEP1gEsk0Cfpw/AAAAAAAA8D8=",
          "dtype": "f8",
          "shape": "7, 7"
         }
        }
       ],
       "layout": {
        "annotations": [
         {
          "font": {
           "color": "#FFFFFF"
          },
          "showarrow": false,
          "text": "1.0",
          "x": "Hours_Studied",
          "xref": "x",
          "y": "Hours_Studied",
          "yref": "y"
         },
         {
          "font": {
           "color": "#FFFFFF"
          },
          "showarrow": false,
          "text": "-0.01",
          "x": "Attendance",
          "xref": "x",
          "y": "Hours_Studied",
          "yref": "y"
         },
         {
          "font": {
           "color": "#FFFFFF"
          },
          "showarrow": false,
          "text": "0.01",
          "x": "Sleep_Hours",
          "xref": "x",
          "y": "Hours_Studied",
          "yref": "y"
         },
         {
          "font": {
           "color": "#FFFFFF"
          },
          "showarrow": false,
          "text": "0.02",
          "x": "Previous_Scores",
          "xref": "x",
          "y": "Hours_Studied",
          "yref": "y"
         },
         {
          "font": {
           "color": "#FFFFFF"
          },
          "showarrow": false,
          "text": "-0.01",
          "x": "Tutoring_Sessions",
          "xref": "x",
          "y": "Hours_Studied",
          "yref": "y"
         },
         {
          "font": {
           "color": "#FFFFFF"
          },
          "showarrow": false,
          "text": "0.0",
          "x": "Physical_Activity",
          "xref": "x",
          "y": "Hours_Studied",
          "yref": "y"
         },
         {
          "font": {
           "color": "#FFFFFF"
          },
          "showarrow": false,
          "text": "0.45",
          "x": "Exam_Score",
          "xref": "x",
          "y": "Hours_Studied",
          "yref": "y"
         },
         {
          "font": {
           "color": "#FFFFFF"
          },
          "showarrow": false,
          "text": "-0.01",
          "x": "Hours_Studied",
          "xref": "x",
          "y": "Attendance",
          "yref": "y"
         },
         {
          "font": {
           "color": "#FFFFFF"
          },
          "showarrow": false,
          "text": "1.0",
          "x": "Attendance",
          "xref": "x",
          "y": "Attendance",
          "yref": "y"
         },
         {
          "font": {
           "color": "#FFFFFF"
          },
          "showarrow": false,
          "text": "-0.02",
          "x": "Sleep_Hours",
          "xref": "x",
          "y": "Attendance",
          "yref": "y"
         },
         {
          "font": {
           "color": "#FFFFFF"
          },
          "showarrow": false,
          "text": "-0.02",
          "x": "Previous_Scores",
          "xref": "x",
          "y": "Attendance",
          "yref": "y"
         },
         {
          "font": {
           "color": "#FFFFFF"
          },
          "showarrow": false,
          "text": "0.01",
          "x": "Tutoring_Sessions",
          "xref": "x",
          "y": "Attendance",
          "yref": "y"
         },
         {
          "font": {
           "color": "#FFFFFF"
          },
          "showarrow": false,
          "text": "-0.02",
          "x": "Physical_Activity",
          "xref": "x",
          "y": "Attendance",
          "yref": "y"
         },
         {
          "font": {
           "color": "#FFFFFF"
          },
          "showarrow": false,
          "text": "0.58",
          "x": "Exam_Score",
          "xref": "x",
          "y": "Attendance",
          "yref": "y"
         },
         {
          "font": {
           "color": "#FFFFFF"
          },
          "showarrow": false,
          "text": "0.01",
          "x": "Hours_Studied",
          "xref": "x",
          "y": "Sleep_Hours",
          "yref": "y"
         },
         {
          "font": {
           "color": "#FFFFFF"
          },
          "showarrow": false,
          "text": "-0.02",
          "x": "Attendance",
          "xref": "x",
          "y": "Sleep_Hours",
          "yref": "y"
         },
         {
          "font": {
           "color": "#FFFFFF"
          },
          "showarrow": false,
          "text": "1.0",
          "x": "Sleep_Hours",
          "xref": "x",
          "y": "Sleep_Hours",
          "yref": "y"
         },
         {
          "font": {
           "color": "#FFFFFF"
          },
          "showarrow": false,
          "text": "-0.02",
          "x": "Previous_Scores",
          "xref": "x",
          "y": "Sleep_Hours",
          "yref": "y"
         },
         {
          "font": {
           "color": "#FFFFFF"
          },
          "showarrow": false,
          "text": "-0.01",
          "x": "Tutoring_Sessions",
          "xref": "x",
          "y": "Sleep_Hours",
          "yref": "y"
         },
         {
          "font": {
           "color": "#FFFFFF"
          },
          "showarrow": false,
          "text": "-0.0",
          "x": "Physical_Activity",
          "xref": "x",
          "y": "Sleep_Hours",
          "yref": "y"
         },
         {
          "font": {
           "color": "#FFFFFF"
          },
          "showarrow": false,
          "text": "-0.02",
          "x": "Exam_Score",
          "xref": "x",
          "y": "Sleep_Hours",
          "yref": "y"
         },
         {
          "font": {
           "color": "#FFFFFF"
          },
          "showarrow": false,
          "text": "0.02",
          "x": "Hours_Studied",
          "xref": "x",
          "y": "Previous_Scores",
          "yref": "y"
         },
         {
          "font": {
           "color": "#FFFFFF"
          },
          "showarrow": false,
          "text": "-0.02",
          "x": "Attendance",
          "xref": "x",
          "y": "Previous_Scores",
          "yref": "y"
         },
         {
          "font": {
           "color": "#FFFFFF"
          },
          "showarrow": false,
          "text": "-0.02",
          "x": "Sleep_Hours",
          "xref": "x",
          "y": "Previous_Scores",
          "yref": "y"
         },
         {
          "font": {
           "color": "#FFFFFF"
          },
          "showarrow": false,
          "text": "1.0",
          "x": "Previous_Scores",
          "xref": "x",
          "y": "Previous_Scores",
          "yref": "y"
         },
         {
          "font": {
           "color": "#FFFFFF"
          },
          "showarrow": false,
          "text": "-0.01",
          "x": "Tutoring_Sessions",
          "xref": "x",
          "y": "Previous_Scores",
          "yref": "y"
         },
         {
          "font": {
           "color": "#FFFFFF"
          },
          "showarrow": false,
          "text": "-0.01",
          "x": "Physical_Activity",
          "xref": "x",
          "y": "Previous_Scores",
          "yref": "y"
         },
         {
          "font": {
           "color": "#FFFFFF"
          },
          "showarrow": false,
          "text": "0.18",
          "x": "Exam_Score",
          "xref": "x",
          "y": "Previous_Scores",
          "yref": "y"
         },
         {
          "font": {
           "color": "#FFFFFF"
          },
          "showarrow": false,
          "text": "-0.01",
          "x": "Hours_Studied",
          "xref": "x",
          "y": "Tutoring_Sessions",
          "yref": "y"
         },
         {
          "font": {
           "color": "#FFFFFF"
          },
          "showarrow": false,
          "text": "0.01",
          "x": "Attendance",
          "xref": "x",
          "y": "Tutoring_Sessions",
          "yref": "y"
         },
         {
          "font": {
           "color": "#FFFFFF"
          },
          "showarrow": false,
          "text": "-0.01",
          "x": "Sleep_Hours",
          "xref": "x",
          "y": "Tutoring_Sessions",
          "yref": "y"
         },
         {
          "font": {
           "color": "#FFFFFF"
          },
          "showarrow": false,
          "text": "-0.01",
          "x": "Previous_Scores",
          "xref": "x",
          "y": "Tutoring_Sessions",
          "yref": "y"
         },
         {
          "font": {
           "color": "#FFFFFF"
          },
          "showarrow": false,
          "text": "1.0",
          "x": "Tutoring_Sessions",
          "xref": "x",
          "y": "Tutoring_Sessions",
          "yref": "y"
         },
         {
          "font": {
           "color": "#FFFFFF"
          },
          "showarrow": false,
          "text": "0.02",
          "x": "Physical_Activity",
          "xref": "x",
          "y": "Tutoring_Sessions",
          "yref": "y"
         },
         {
          "font": {
           "color": "#FFFFFF"
          },
          "showarrow": false,
          "text": "0.16",
          "x": "Exam_Score",
          "xref": "x",
          "y": "Tutoring_Sessions",
          "yref": "y"
         },
         {
          "font": {
           "color": "#FFFFFF"
          },
          "showarrow": false,
          "text": "0.0",
          "x": "Hours_Studied",
          "xref": "x",
          "y": "Physical_Activity",
          "yref": "y"
         },
         {
          "font": {
           "color": "#FFFFFF"
          },
          "showarrow": false,
          "text": "-0.02",
          "x": "Attendance",
          "xref": "x",
          "y": "Physical_Activity",
          "yref": "y"
         },
         {
          "font": {
           "color": "#FFFFFF"
          },
          "showarrow": false,
          "text": "-0.0",
          "x": "Sleep_Hours",
          "xref": "x",
          "y": "Physical_Activity",
          "yref": "y"
         },
         {
          "font": {
           "color": "#FFFFFF"
          },
          "showarrow": false,
          "text": "-0.01",
          "x": "Previous_Scores",
          "xref": "x",
          "y": "Physical_Activity",
          "yref": "y"
         },
         {
          "font": {
           "color": "#FFFFFF"
          },
          "showarrow": false,
          "text": "0.02",
          "x": "Tutoring_Sessions",
          "xref": "x",
          "y": "Physical_Activity",
          "yref": "y"
         },
         {
          "font": {
           "color": "#FFFFFF"
          },
          "showarrow": false,
          "text": "1.0",
          "x": "Physical_Activity",
          "xref": "x",
          "y": "Physical_Activity",
          "yref": "y"
         },
         {
          "font": {
           "color": "#FFFFFF"
          },
          "showarrow": false,
          "text": "0.03",
          "x": "Exam_Score",
          "xref": "x",
          "y": "Physical_Activity",
          "yref": "y"
         },
         {
          "font": {
           "color": "#FFFFFF"
          },
          "showarrow": false,
          "text": "0.45",
          "x": "Hours_Studied",
          "xref": "x",
          "y": "Exam_Score",
          "yref": "y"
         },
         {
          "font": {
           "color": "#FFFFFF"
          },
          "showarrow": false,
          "text": "0.58",
          "x": "Attendance",
          "xref": "x",
          "y": "Exam_Score",
          "yref": "y"
         },
         {
          "font": {
           "color": "#FFFFFF"
          },
          "showarrow": false,
          "text": "-0.02",
          "x": "Sleep_Hours",
          "xref": "x",
          "y": "Exam_Score",
          "yref": "y"
         },
         {
          "font": {
           "color": "#FFFFFF"
          },
          "showarrow": false,
          "text": "0.18",
          "x": "Previous_Scores",
          "xref": "x",
          "y": "Exam_Score",
          "yref": "y"
         },
         {
          "font": {
           "color": "#FFFFFF"
          },
          "showarrow": false,
          "text": "0.16",
          "x": "Tutoring_Sessions",
          "xref": "x",
          "y": "Exam_Score",
          "yref": "y"
         },
         {
          "font": {
           "color": "#FFFFFF"
          },
          "showarrow": false,
          "text": "0.03",
          "x": "Physical_Activity",
          "xref": "x",
          "y": "Exam_Score",
          "yref": "y"
         },
         {
          "font": {
           "color": "#FFFFFF"
          },
          "showarrow": false,
          "text": "1.0",
          "x": "Exam_Score",
          "xref": "x",
          "y": "Exam_Score",
          "yref": "y"
         }
        ],
        "template": {
         "data": {
          "bar": [
           {
            "error_x": {
             "color": "#2a3f5f"
            },
            "error_y": {
             "color": "#2a3f5f"
            },
            "marker": {
             "line": {
              "color": "#E5ECF6",
              "width": 0.5
             },
             "pattern": {
              "fillmode": "overlay",
              "size": 10,
              "solidity": 0.2
             }
            },
            "type": "bar"
           }
          ],
          "barpolar": [
           {
            "marker": {
             "line": {
              "color": "#E5ECF6",
              "width": 0.5
             },
             "pattern": {
              "fillmode": "overlay",
              "size": 10,
              "solidity": 0.2
             }
            },
            "type": "barpolar"
           }
          ],
          "carpet": [
           {
            "aaxis": {
             "endlinecolor": "#2a3f5f",
             "gridcolor": "white",
             "linecolor": "white",
             "minorgridcolor": "white",
             "startlinecolor": "#2a3f5f"
            },
            "baxis": {
             "endlinecolor": "#2a3f5f",
             "gridcolor": "white",
             "linecolor": "white",
             "minorgridcolor": "white",
             "startlinecolor": "#2a3f5f"
            },
            "type": "carpet"
           }
          ],
          "choropleth": [
           {
            "colorbar": {
             "outlinewidth": 0,
             "ticks": ""
            },
            "type": "choropleth"
           }
          ],
          "contour": [
           {
            "colorbar": {
             "outlinewidth": 0,
             "ticks": ""
            },
            "colorscale": [
             [
              0,
              "#0d0887"
             ],
             [
              0.1111111111111111,
              "#46039f"
             ],
             [
              0.2222222222222222,
              "#7201a8"
             ],
             [
              0.3333333333333333,
              "#9c179e"
             ],
             [
              0.4444444444444444,
              "#bd3786"
             ],
             [
              0.5555555555555556,
              "#d8576b"
             ],
             [
              0.6666666666666666,
              "#ed7953"
             ],
             [
              0.7777777777777778,
              "#fb9f3a"
             ],
             [
              0.8888888888888888,
              "#fdca26"
             ],
             [
              1,
              "#f0f921"
             ]
            ],
            "type": "contour"
           }
          ],
          "contourcarpet": [
           {
            "colorbar": {
             "outlinewidth": 0,
             "ticks": ""
            },
            "type": "contourcarpet"
           }
          ],
          "heatmap": [
           {
            "colorbar": {
             "outlinewidth": 0,
             "ticks": ""
            },
            "colorscale": [
             [
              0,
              "#0d0887"
             ],
             [
              0.1111111111111111,
              "#46039f"
             ],
             [
              0.2222222222222222,
              "#7201a8"
             ],
             [
              0.3333333333333333,
              "#9c179e"
             ],
             [
              0.4444444444444444,
              "#bd3786"
             ],
             [
              0.5555555555555556,
              "#d8576b"
             ],
             [
              0.6666666666666666,
              "#ed7953"
             ],
             [
              0.7777777777777778,
              "#fb9f3a"
             ],
             [
              0.8888888888888888,
              "#fdca26"
             ],
             [
              1,
              "#f0f921"
             ]
            ],
            "type": "heatmap"
           }
          ],
          "histogram": [
           {
            "marker": {
             "pattern": {
              "fillmode": "overlay",
              "size": 10,
              "solidity": 0.2
             }
            },
            "type": "histogram"
           }
          ],
          "histogram2d": [
           {
            "colorbar": {
             "outlinewidth": 0,
             "ticks": ""
            },
            "colorscale": [
             [
              0,
              "#0d0887"
             ],
             [
              0.1111111111111111,
              "#46039f"
             ],
             [
              0.2222222222222222,
              "#7201a8"
             ],
             [
              0.3333333333333333,
              "#9c179e"
             ],
             [
              0.4444444444444444,
              "#bd3786"
             ],
             [
              0.5555555555555556,
              "#d8576b"
             ],
             [
              0.6666666666666666,
              "#ed7953"
             ],
             [
              0.7777777777777778,
              "#fb9f3a"
             ],
             [
              0.8888888888888888,
              "#fdca26"
             ],
             [
              1,
              "#f0f921"
             ]
            ],
            "type": "histogram2d"
           }
          ],
          "histogram2dcontour": [
           {
            "colorbar": {
             "outlinewidth": 0,
             "ticks": ""
            },
            "colorscale": [
             [
              0,
              "#0d0887"
             ],
             [
              0.1111111111111111,
              "#46039f"
             ],
             [
              0.2222222222222222,
              "#7201a8"
             ],
             [
              0.3333333333333333,
              "#9c179e"
             ],
             [
              0.4444444444444444,
              "#bd3786"
             ],
             [
              0.5555555555555556,
              "#d8576b"
             ],
             [
              0.6666666666666666,
              "#ed7953"
             ],
             [
              0.7777777777777778,
              "#fb9f3a"
             ],
             [
              0.8888888888888888,
              "#fdca26"
             ],
             [
              1,
              "#f0f921"
             ]
            ],
            "type": "histogram2dcontour"
           }
          ],
          "mesh3d": [
           {
            "colorbar": {
             "outlinewidth": 0,
             "ticks": ""
            },
            "type": "mesh3d"
           }
          ],
          "parcoords": [
           {
            "line": {
             "colorbar": {
              "outlinewidth": 0,
              "ticks": ""
             }
            },
            "type": "parcoords"
           }
          ],
          "pie": [
           {
            "automargin": true,
            "type": "pie"
           }
          ],
          "scatter": [
           {
            "fillpattern": {
             "fillmode": "overlay",
             "size": 10,
             "solidity": 0.2
            },
            "type": "scatter"
           }
          ],
          "scatter3d": [
           {
            "line": {
             "colorbar": {
              "outlinewidth": 0,
              "ticks": ""
             }
            },
            "marker": {
             "colorbar": {
              "outlinewidth": 0,
              "ticks": ""
             }
            },
            "type": "scatter3d"
           }
          ],
          "scattercarpet": [
           {
            "marker": {
             "colorbar": {
              "outlinewidth": 0,
              "ticks": ""
             }
            },
            "type": "scattercarpet"
           }
          ],
          "scattergeo": [
           {
            "marker": {
             "colorbar": {
              "outlinewidth": 0,
              "ticks": ""
             }
            },
            "type": "scattergeo"
           }
          ],
          "scattergl": [
           {
            "marker": {
             "colorbar": {
              "outlinewidth": 0,
              "ticks": ""
             }
            },
            "type": "scattergl"
           }
          ],
          "scattermap": [
           {
            "marker": {
             "colorbar": {
              "outlinewidth": 0,
              "ticks": ""
             }
            },
            "type": "scattermap"
           }
          ],
          "scattermapbox": [
           {
            "marker": {
             "colorbar": {
              "outlinewidth": 0,
              "ticks": ""
             }
            },
            "type": "scattermapbox"
           }
          ],
          "scatterpolar": [
           {
            "marker": {
             "colorbar": {
              "outlinewidth": 0,
              "ticks": ""
             }
            },
            "type": "scatterpolar"
           }
          ],
          "scatterpolargl": [
           {
            "marker": {
             "colorbar": {
              "outlinewidth": 0,
              "ticks": ""
             }
            },
            "type": "scatterpolargl"
           }
          ],
          "scatterternary": [
           {
            "marker": {
             "colorbar": {
              "outlinewidth": 0,
              "ticks": ""
             }
            },
            "type": "scatterternary"
           }
          ],
          "surface": [
           {
            "colorbar": {
             "outlinewidth": 0,
             "ticks": ""
            },
            "colorscale": [
             [
              0,
              "#0d0887"
             ],
             [
              0.1111111111111111,
              "#46039f"
             ],
             [
              0.2222222222222222,
              "#7201a8"
             ],
             [
              0.3333333333333333,
              "#9c179e"
             ],
             [
              0.4444444444444444,
              "#bd3786"
             ],
             [
              0.5555555555555556,
              "#d8576b"
             ],
             [
              0.6666666666666666,
              "#ed7953"
             ],
             [
              0.7777777777777778,
              "#fb9f3a"
             ],
             [
              0.8888888888888888,
              "#fdca26"
             ],
             [
              1,
              "#f0f921"
             ]
            ],
            "type": "surface"
           }
          ],
          "table": [
           {
            "cells": {
             "fill": {
              "color": "#EBF0F8"
             },
             "line": {
              "color": "white"
             }
            },
            "header": {
             "fill": {
              "color": "#C8D4E3"
             },
             "line": {
              "color": "white"
             }
            },
            "type": "table"
           }
          ]
         },
         "layout": {
          "annotationdefaults": {
           "arrowcolor": "#2a3f5f",
           "arrowhead": 0,
           "arrowwidth": 1
          },
          "autotypenumbers": "strict",
          "coloraxis": {
           "colorbar": {
            "outlinewidth": 0,
            "ticks": ""
           }
          },
          "colorscale": {
           "diverging": [
            [
             0,
             "#8e0152"
            ],
            [
             0.1,
             "#c51b7d"
            ],
            [
             0.2,
             "#de77ae"
            ],
            [
             0.3,
             "#f1b6da"
            ],
            [
             0.4,
             "#fde0ef"
            ],
            [
             0.5,
             "#f7f7f7"
            ],
            [
             0.6,
             "#e6f5d0"
            ],
            [
             0.7,
             "#b8e186"
            ],
            [
             0.8,
             "#7fbc41"
            ],
            [
             0.9,
             "#4d9221"
            ],
            [
             1,
             "#276419"
            ]
           ],
           "sequential": [
            [
             0,
             "#0d0887"
            ],
            [
             0.1111111111111111,
             "#46039f"
            ],
            [
             0.2222222222222222,
             "#7201a8"
            ],
            [
             0.3333333333333333,
             "#9c179e"
            ],
            [
             0.4444444444444444,
             "#bd3786"
            ],
            [
             0.5555555555555556,
             "#d8576b"
            ],
            [
             0.6666666666666666,
             "#ed7953"
            ],
            [
             0.7777777777777778,
             "#fb9f3a"
            ],
            [
             0.8888888888888888,
             "#fdca26"
            ],
            [
             1,
             "#f0f921"
            ]
           ],
           "sequentialminus": [
            [
             0,
             "#0d0887"
            ],
            [
             0.1111111111111111,
             "#46039f"
            ],
            [
             0.2222222222222222,
             "#7201a8"
            ],
            [
             0.3333333333333333,
             "#9c179e"
            ],
            [
             0.4444444444444444,
             "#bd3786"
            ],
            [
             0.5555555555555556,
             "#d8576b"
            ],
            [
             0.6666666666666666,
             "#ed7953"
            ],
            [
             0.7777777777777778,
             "#fb9f3a"
            ],
            [
             0.8888888888888888,
             "#fdca26"
            ],
            [
             1,
             "#f0f921"
            ]
           ]
          },
          "colorway": [
           "#636efa",
           "#EF553B",
           "#00cc96",
           "#ab63fa",
           "#FFA15A",
           "#19d3f3",
           "#FF6692",
           "#B6E880",
           "#FF97FF",
           "#FECB52"
          ],
          "font": {
           "color": "#2a3f5f"
          },
          "geo": {
           "bgcolor": "white",
           "lakecolor": "white",
           "landcolor": "#E5ECF6",
           "showlakes": true,
           "showland": true,
           "subunitcolor": "white"
          },
          "hoverlabel": {
           "align": "left"
          },
          "hovermode": "closest",
          "mapbox": {
           "style": "light"
          },
          "paper_bgcolor": "white",
          "plot_bgcolor": "#E5ECF6",
          "polar": {
           "angularaxis": {
            "gridcolor": "white",
            "linecolor": "white",
            "ticks": ""
           },
           "bgcolor": "#E5ECF6",
           "radialaxis": {
            "gridcolor": "white",
            "linecolor": "white",
            "ticks": ""
           }
          },
          "scene": {
           "xaxis": {
            "backgroundcolor": "#E5ECF6",
            "gridcolor": "white",
            "gridwidth": 2,
            "linecolor": "white",
            "showbackground": true,
            "ticks": "",
            "zerolinecolor": "white"
           },
           "yaxis": {
            "backgroundcolor": "#E5ECF6",
            "gridcolor": "white",
            "gridwidth": 2,
            "linecolor": "white",
            "showbackground": true,
            "ticks": "",
            "zerolinecolor": "white"
           },
           "zaxis": {
            "backgroundcolor": "#E5ECF6",
            "gridcolor": "white",
            "gridwidth": 2,
            "linecolor": "white",
            "showbackground": true,
            "ticks": "",
            "zerolinecolor": "white"
           }
          },
          "shapedefaults": {
           "line": {
            "color": "#2a3f5f"
           }
          },
          "ternary": {
           "aaxis": {
            "gridcolor": "white",
            "linecolor": "white",
            "ticks": ""
           },
           "baxis": {
            "gridcolor": "white",
            "linecolor": "white",
            "ticks": ""
           },
           "bgcolor": "#E5ECF6",
           "caxis": {
            "gridcolor": "white",
            "linecolor": "white",
            "ticks": ""
           }
          },
          "title": {
           "x": 0.05
          },
          "xaxis": {
           "automargin": true,
           "gridcolor": "white",
           "linecolor": "white",
           "ticks": "",
           "title": {
            "standoff": 15
           },
           "zerolinecolor": "white",
           "zerolinewidth": 2
          },
          "yaxis": {
           "automargin": true,
           "gridcolor": "white",
           "linecolor": "white",
           "ticks": "",
           "title": {
            "standoff": 15
           },
           "zerolinecolor": "white",
           "zerolinewidth": 2
          }
         }
        },
        "title": {
         "text": "Correlação entre variáveis numéricas"
        },
        "xaxis": {
         "dtick": 1,
         "gridcolor": "rgb(0, 0, 0)",
         "side": "top",
         "ticks": ""
        },
        "yaxis": {
         "dtick": 1,
         "ticks": "",
         "ticksuffix": "  "
        }
       }
      }
     },
     "metadata": {},
     "output_type": "display_data"
    }
   ],
   "source": [
    "# 4) Heatmap de correlação\n",
    "corr = df[\n",
    "    [\n",
    "        \"Hours_Studied\",\n",
    "        \"Attendance\",\n",
    "        \"Sleep_Hours\",\n",
    "        \"Previous_Scores\",\n",
    "        \"Tutoring_Sessions\",\n",
    "        \"Physical_Activity\",\n",
    "        \"Exam_Score\",\n",
    "    ]\n",
    "].corr()\n",
    "\n",
    "fig = ff.create_annotated_heatmap(\n",
    "    z=corr.values,\n",
    "    x=list(corr.columns),\n",
    "    y=list(corr.index),\n",
    "    annotation_text=corr.round(2).values,\n",
    "    colorscale=\"RdBu\",\n",
    "    showscale=True,\n",
    "    reversescale=True,\n",
    ")\n",
    "fig.update_layout(title=\"Correlação entre variáveis numéricas\")\n",
    "fig.show()"
   ]
  },
  {
   "cell_type": "markdown",
   "id": "1e8cbc12",
   "metadata": {},
   "source": [
    "## 6) Outliers e Anomalias"
   ]
  },
  {
   "cell_type": "code",
   "execution_count": 13,
   "id": "78aafb88",
   "metadata": {},
   "outputs": [],
   "source": [
    "# a) Existem outliers nos dados? (Boxplots podem ajudar a identificar)."
   ]
  },
  {
   "cell_type": "code",
   "execution_count": 14,
   "id": "ead2b2f0",
   "metadata": {},
   "outputs": [],
   "source": [
    "# b) Os dados apresentam alguma anomalia ou erro de coleta?"
   ]
  },
  {
   "cell_type": "markdown",
   "id": "ee02be46",
   "metadata": {},
   "source": [
    "## 7) Comparações e Segmentações"
   ]
  },
  {
   "cell_type": "code",
   "execution_count": 15,
   "id": "206ddcae",
   "metadata": {},
   "outputs": [],
   "source": [
    "# a) Os dados mostram diferenças entre grupos? (Exemplo: Salários médios por gênero)"
   ]
  },
  {
   "cell_type": "code",
   "execution_count": 16,
   "id": "33e7e62e",
   "metadata": {},
   "outputs": [],
   "source": [
    "# b) Como os dados se comportam ao longo do tempo? (Se houver uma variável temporal)"
   ]
  },
  {
   "cell_type": "code",
   "execution_count": 17,
   "id": "f24f3bb4",
   "metadata": {},
   "outputs": [],
   "source": [
    "# c) Quais insights podem ser extraídos para tomada de decisão?"
   ]
  },
  {
   "cell_type": "markdown",
   "id": "bd00b3d0",
   "metadata": {},
   "source": [
    "## 8) Contextualização e Aplicação"
   ]
  },
  {
   "cell_type": "code",
   "execution_count": 18,
   "id": "25a19e1a",
   "metadata": {},
   "outputs": [],
   "source": [
    "# a) Como os insights obtidos podem ser usados em ações concretas?"
   ]
  },
  {
   "cell_type": "code",
   "execution_count": 19,
   "id": "95c9da4a",
   "metadata": {},
   "outputs": [],
   "source": [
    "# b) Os dados analisados fazem sentido para o problema de negócio?"
   ]
  }
 ],
 "metadata": {
  "kernelspec": {
   "display_name": "GRAPH_NEURAL_NETWORK",
   "language": "python",
   "name": "python3"
  },
  "language_info": {
   "codemirror_mode": {
    "name": "ipython",
    "version": 3
   },
   "file_extension": ".py",
   "mimetype": "text/x-python",
   "name": "python",
   "nbconvert_exporter": "python",
   "pygments_lexer": "ipython3",
   "version": "3.12.3"
  }
 },
 "nbformat": 4,
 "nbformat_minor": 5
}
