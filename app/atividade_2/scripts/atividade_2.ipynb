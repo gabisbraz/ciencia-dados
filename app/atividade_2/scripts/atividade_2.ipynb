{
 "cells": [
  {
   "cell_type": "markdown",
   "id": "d0dd68a5",
   "metadata": {},
   "source": [
    "# Projeto Integrador Parte B – Preparação dos Dados\n",
    "\n",
    "Entregas: \n",
    "1) Faça um relatório respondendo cada pergunta separadamente. \n",
    "2) Link para a base utilizada. \n",
    "3) Código completo em Python.\n",
    "\n",
    "Dando continuidade ao Projeto Integrador - Parte A, faça uma análise dos mesmos dados utilizados anteriormente, respondendo às seguintes questões:\n"
   ]
  },
  {
   "cell_type": "code",
   "execution_count": 7,
   "id": "fcf7ebaf",
   "metadata": {},
   "outputs": [
    {
     "name": "stdout",
     "output_type": "stream",
     "text": [
      "Requirement already satisfied: pandas in c:\\users\\giovana\\onedrive\\área de trabalho\\ciênc comp mack\\8º semestre 2025\\ciência de dados\\projetointegrado\\projeto-parte-dois\\.venv\\lib\\site-packages (2.3.2)Note: you may need to restart the kernel to use updated packages.\n",
      "\n",
      "Requirement already satisfied: numpy in c:\\users\\giovana\\onedrive\\área de trabalho\\ciênc comp mack\\8º semestre 2025\\ciência de dados\\projetointegrado\\projeto-parte-dois\\.venv\\lib\\site-packages (2.2.6)\n",
      "Requirement already satisfied: python-dateutil>=2.8.2 in c:\\users\\giovana\\onedrive\\área de trabalho\\ciênc comp mack\\8º semestre 2025\\ciência de dados\\projetointegrado\\projeto-parte-dois\\.venv\\lib\\site-packages (from pandas) (2.9.0.post0)\n",
      "Requirement already satisfied: pytz>=2020.1 in c:\\users\\giovana\\onedrive\\área de trabalho\\ciênc comp mack\\8º semestre 2025\\ciência de dados\\projetointegrado\\projeto-parte-dois\\.venv\\lib\\site-packages (from pandas) (2025.2)\n",
      "Requirement already satisfied: tzdata>=2022.7 in c:\\users\\giovana\\onedrive\\área de trabalho\\ciênc comp mack\\8º semestre 2025\\ciência de dados\\projetointegrado\\projeto-parte-dois\\.venv\\lib\\site-packages (from pandas) (2025.2)\n",
      "Requirement already satisfied: six>=1.5 in c:\\users\\giovana\\onedrive\\área de trabalho\\ciênc comp mack\\8º semestre 2025\\ciência de dados\\projetointegrado\\projeto-parte-dois\\.venv\\lib\\site-packages (from python-dateutil>=2.8.2->pandas) (1.17.0)\n"
     ]
    }
   ],
   "source": [
    "%pip install pandas numpy\n",
    "\n",
    "import pandas as pd\n",
    "import numpy as np"
   ]
  },
  {
   "cell_type": "code",
   "execution_count": null,
   "id": "14fcf57c",
   "metadata": {},
   "outputs": [],
   "source": [
    "df = pd.read_csv(r\"C:\\Users\\Giovana\\OneDrive\\Área de Trabalho\\CIÊNC COMP MACK\\8º semestre 2025\\Ciência de Dados\\projetoIntegrado\\ciencia-dados\\app\\atividade_2\\data\\tb_1.csv\")"
   ]
  },
  {
   "cell_type": "markdown",
   "id": "0728e867",
   "metadata": {},
   "source": [
    "## Sobre a limpeza de dados"
   ]
  },
  {
   "cell_type": "code",
   "execution_count": 9,
   "id": "f5654a2c",
   "metadata": {},
   "outputs": [
    {
     "name": "stdout",
     "output_type": "stream",
     "text": [
      "Valores ausentes por coluna:\n",
      "gender                         0\n",
      "race_ethnicity                 0\n",
      "parental_level_of_education    0\n",
      "lunch                          0\n",
      "test_preparation_course        0\n",
      "math_score                     0\n",
      "reading_score                  0\n",
      "writing_score                  0\n",
      "dtype: int64\n"
     ]
    }
   ],
   "source": [
    "# a) Há valores ausentes no conjunto de dados? Como serão tratados?\n",
    "\n",
    "print(\"Valores ausentes por coluna:\")\n",
    "print(df.isnull().sum())\n"
   ]
  },
  {
   "cell_type": "code",
   "execution_count": 10,
   "id": "38add561",
   "metadata": {},
   "outputs": [
    {
     "name": "stdout",
     "output_type": "stream",
     "text": [
      "\n",
      "Número de linhas duplicadas: 0\n",
      "Número de linhas após remover duplicatas: 1000\n"
     ]
    }
   ],
   "source": [
    "# b) Existem valores duplicados?\n",
    "\n",
    "print(\"\\nNúmero de linhas duplicadas:\", df.duplicated().sum())\n",
    "df = df.drop_duplicates()\n",
    "print(\"Número de linhas após remover duplicatas:\", len(df))"
   ]
  },
  {
   "cell_type": "code",
   "execution_count": null,
   "id": "d89f4cd0",
   "metadata": {},
   "outputs": [
    {
     "name": "stdout",
     "output_type": "stream",
     "text": [
      "\n",
      "Coluna: math_score\n",
      "Limite inferior: 27.0, Limite superior: 107.0\n",
      "Número de outliers: 8\n",
      "\n",
      "Coluna: reading_score\n",
      "Limite inferior: 29.0, Limite superior: 109.0\n",
      "Número de outliers: 6\n",
      "\n",
      "Coluna: writing_score\n",
      "Limite inferior: 25.875, Limite superior: 110.875\n",
      "Número de outliers: 5\n"
     ]
    }
   ],
   "source": [
    "# c) Há outliers nos dados?\n",
    "\n",
    "numeric_cols = [\"math_score\", \"reading_score\", \"writing_score\"]\n",
    "\n",
    "for col in numeric_cols:\n",
    "    Q1 = df[col].quantile(0.25)  \n",
    "    Q3 = df[col].quantile(0.75)  \n",
    "    IQR = Q3 - Q1                \n",
    "\n",
    "    lower_bound = Q1 - 1.5 * IQR\n",
    "    upper_bound = Q3 + 1.5 * IQR\n",
    "\n",
    "    outliers = df[(df[col] < lower_bound) | (df[col] > upper_bound)]\n",
    "\n",
    "    print(f\"\\nColuna: {col}\")\n",
    "    print(f\"Limite inferior: {lower_bound}, Limite superior: {upper_bound}\")\n",
    "    print(f\"Número de outliers: {outliers.shape[0]}\")\n"
   ]
  },
  {
   "cell_type": "markdown",
   "id": "7f0f1877",
   "metadata": {},
   "source": [
    "## Transformação e Engenharia de Atributos\n"
   ]
  },
  {
   "cell_type": "code",
   "execution_count": 12,
   "id": "b966afa7",
   "metadata": {},
   "outputs": [
    {
     "name": "stdout",
     "output_type": "stream",
     "text": [
      "<class 'pandas.core.frame.DataFrame'>\n",
      "RangeIndex: 1000 entries, 0 to 999\n",
      "Data columns (total 8 columns):\n",
      " #   Column                       Non-Null Count  Dtype \n",
      "---  ------                       --------------  ----- \n",
      " 0   gender                       1000 non-null   object\n",
      " 1   race_ethnicity               1000 non-null   object\n",
      " 2   parental_level_of_education  1000 non-null   object\n",
      " 3   lunch                        1000 non-null   object\n",
      " 4   test_preparation_course      1000 non-null   object\n",
      " 5   math_score                   1000 non-null   int64 \n",
      " 6   reading_score                1000 non-null   int64 \n",
      " 7   writing_score                1000 non-null   int64 \n",
      "dtypes: int64(3), object(5)\n",
      "memory usage: 62.6+ KB\n"
     ]
    }
   ],
   "source": [
    "# a) Há dados que precisam ser transformados de categóricos para numéricos?\n",
    "\n",
    "df.info()"
   ]
  }
 ],
 "metadata": {
  "kernelspec": {
   "display_name": ".venv",
   "language": "python",
   "name": "python3"
  },
  "language_info": {
   "codemirror_mode": {
    "name": "ipython",
    "version": 3
   },
   "file_extension": ".py",
   "mimetype": "text/x-python",
   "name": "python",
   "nbconvert_exporter": "python",
   "pygments_lexer": "ipython3",
   "version": "3.10.11"
  }
 },
 "nbformat": 4,
 "nbformat_minor": 5
}
