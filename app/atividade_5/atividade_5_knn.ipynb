{
  "cells": [
    {
      "cell_type": "code",
      "execution_count": 1,
      "metadata": {
        "id": "QBXwNEyyjDTj"
      },
      "outputs": [],
      "source": [
        "# Importar bibliotecas necessárias\n",
        "from sklearn.model_selection import train_test_split\n",
        "from sklearn.neighbors import KNeighborsClassifier\n",
        "from sklearn.metrics import roc_auc_score, accuracy_score, precision_score, recall_score, f1_score, confusion_matrix\n",
        "import seaborn as sns\n",
        "import matplotlib.pyplot as plt\n",
        "import pandas as pd"
      ]
    },
    {
      "cell_type": "code",
      "execution_count": 2,
      "metadata": {},
      "outputs": [
        {
          "data": {
            "application/vnd.microsoft.datawrangler.viewer.v0+json": {
              "columns": [
                {
                  "name": "index",
                  "rawType": "object",
                  "type": "string"
                },
                {
                  "name": "0",
                  "rawType": "object",
                  "type": "unknown"
                }
              ],
              "ref": "3dc5aadf-8de1-4f3f-a79e-49b8261b9046",
              "rows": [
                [
                  "Pregnancies",
                  "int64"
                ],
                [
                  "Glucose",
                  "int64"
                ],
                [
                  "BloodPressure",
                  "int64"
                ],
                [
                  "SkinThickness",
                  "int64"
                ],
                [
                  "Insulin",
                  "int64"
                ],
                [
                  "BMI",
                  "float64"
                ],
                [
                  "DiabetesPedigreeFunction",
                  "float64"
                ],
                [
                  "Age",
                  "int64"
                ],
                [
                  "Outcome",
                  "int64"
                ]
              ],
              "shape": {
                "columns": 1,
                "rows": 9
              }
            },
            "text/plain": [
              "Pregnancies                   int64\n",
              "Glucose                       int64\n",
              "BloodPressure                 int64\n",
              "SkinThickness                 int64\n",
              "Insulin                       int64\n",
              "BMI                         float64\n",
              "DiabetesPedigreeFunction    float64\n",
              "Age                           int64\n",
              "Outcome                       int64\n",
              "dtype: object"
            ]
          },
          "execution_count": 2,
          "metadata": {},
          "output_type": "execute_result"
        }
      ],
      "source": [
        "# Carregar o dataset Iris\n",
        "df = pd.read_csv(\"app/atividade_5/data/diabetes.csv\")\n",
        "\n",
        "df.dtypes"
      ]
    },
    {
      "cell_type": "code",
      "execution_count": 3,
      "metadata": {},
      "outputs": [],
      "source": [
        "# Separar preditores e alvo\n",
        "X = df.drop(\"Outcome\", axis=1)\n",
        "y = df[\"Outcome\"]"
      ]
    },
    {
      "cell_type": "code",
      "execution_count": 4,
      "metadata": {},
      "outputs": [],
      "source": [
        "# Dividir em treino e teste\n",
        "X_train, X_test, y_train, y_test = train_test_split(\n",
        "    X, y, test_size=0.3, random_state=42\n",
        ")"
      ]
    },
    {
      "cell_type": "code",
      "execution_count": 5,
      "metadata": {},
      "outputs": [],
      "source": [
        "# Treinar modelo KNN\n",
        "knn = KNeighborsClassifier(n_neighbors=5)  # você pode ajustar n_neighbors (prof = 3)\n",
        "knn.fit(X_train, y_train)\n",
        "\n",
        "# Previsões\n",
        "y_pred = knn.predict(X_test)\n",
        "y_pred_proba = knn.predict_proba(X_test)[:, 1]  # probabilidade da classe \"1\" (Diabetes)"
      ]
    },
    {
      "cell_type": "code",
      "execution_count": 6,
      "metadata": {},
      "outputs": [
        {
          "name": "stdout",
          "output_type": "stream",
          "text": [
            "AUC-ROC Score: 0.7162\n",
            "Acurácia: 0.6883\n",
            "Precisão: 0.6902\n",
            "Recall: 0.6883\n",
            "F1-Score: 0.6892\n"
          ]
        }
      ],
      "source": [
        "# AUC-ROC (como é binário, podemos calcular diretamente)\n",
        "auc_roc = roc_auc_score(y_test, y_pred_proba)\n",
        "\n",
        "# Acurácia\n",
        "accuracy = accuracy_score(y_test, y_pred)\n",
        "# Precision\n",
        "precision = precision_score(y_test, y_pred, average=\"weighted\")\n",
        "# Recall\n",
        "recall = recall_score(y_test, y_pred, average=\"weighted\")\n",
        "# F1-Score\n",
        "f1 = f1_score(y_test, y_pred, average=\"weighted\")\n",
        "\n",
        "# Exibir resultados\n",
        "print(f\"AUC-ROC Score: {auc_roc:.4f}\")\n",
        "print(f\"Acurácia: {accuracy:.4f}\")\n",
        "print(f\"Precisão: {precision:.4f}\")\n",
        "print(f\"Recall: {recall:.4f}\")\n",
        "print(f\"F1-Score: {f1:.4f}\")"
      ]
    },
    {
      "cell_type": "code",
      "execution_count": 7,
      "metadata": {},
      "outputs": [
        {
          "data": {
            "image/png": "[encoded data removed]",
            "text/plain": [
              "<Figure size 600x500 with 2 Axes>"
            ]
          },
          "metadata": {},
          "output_type": "display_data"
        }
      ],
      "source": [
        "# Matriz de confusão\n",
        "cm = confusion_matrix(y_test, y_pred)\n",
        "\n",
        "plt.figure(figsize=(6, 5))\n",
        "sns.heatmap(\n",
        "    cm,\n",
        "    annot=True,\n",
        "    fmt=\"d\",\n",
        "    cmap=\"Blues\",\n",
        "    xticklabels=[\"Não diabetes\", \"Diabetes\"],\n",
        "    yticklabels=[\"Não diabetes\", \"Diabetes\"],\n",
        ")\n",
        "plt.title(\"Matriz de Confusão\")\n",
        "plt.xlabel(\"Previsão\")\n",
        "plt.ylabel(\"Classe Real\")\n",
        "plt.show()"
      ]
    },
    {
      "cell_type": "code",
      "execution_count": 8,
      "metadata": {},
      "outputs": [
        {
          "data": {
            "text/plain": [
              "array([[114,  37],\n",
              "       [ 35,  45]])"
            ]
          },
          "execution_count": 8,
          "metadata": {},
          "output_type": "execute_result"
        }
      ],
      "source": [
        "cm"
      ]
    }
  ],
  "metadata": {
    "colab": {
      "provenance": []
    },
    "kernelspec": {
      "display_name": "GRAPH_NEURAL_NETWORK",
      "language": "python",
      "name": "python3"
    },
    "language_info": {
      "codemirror_mode": {
        "name": "ipython",
        "version": 3
      },
      "file_extension": ".py",
      "mimetype": "text/x-python",
      "name": "python",
      "nbconvert_exporter": "python",
      "pygments_lexer": "ipython3",
      "version": "3.12.3"
    }
  },
  "nbformat": 4,
  "nbformat_minor": 0
}
