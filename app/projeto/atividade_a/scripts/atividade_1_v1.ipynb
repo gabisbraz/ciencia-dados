{
 "cells": [
  {
   "cell_type": "markdown",
   "id": "d0dd68a5",
   "metadata": {},
   "source": [
    "# Projeto Integrador – Análise Exploratória de Dados\n",
    "\n",
    "Entregas: \n",
    "1) Faça um relatório respondendo cada pergunta separadamente. \n",
    "2) Link para a base utilizada. \n",
    "3) Código completo em Python.\n",
    "\n",
    "\n"
   ]
  },
  {
   "cell_type": "markdown",
   "id": "dbcc3300",
   "metadata": {},
   "source": [
    "## 1) Escolha do Tema\n"
   ]
  },
  {
   "cell_type": "markdown",
   "id": "a54a5447",
   "metadata": {},
   "source": [
    "A base de dados utilizada reúne informações de estudantes do ensino médio, incluindo características demográficas e socioeconômicas, como gênero, grupo étnico, nível de escolaridade dos pais, tipo de almoço e participação em curso preparatório, além das notas obtidas em matemática, leitura e escrita (variáveis numéricas de 0 a 100)."
   ]
  },
  {
   "cell_type": "markdown",
   "id": "d0d27935",
   "metadata": {},
   "source": [
    "## 2) Escolha da Base"
   ]
  },
  {
   "cell_type": "markdown",
   "id": "93475cdd",
   "metadata": {},
   "source": [
    "https://www.kaggle.com/datasets/pankajsingh016/student-performance-dataset?resource=download"
   ]
  },
  {
   "cell_type": "markdown",
   "id": "428bd21d",
   "metadata": {},
   "source": [
    "## 3) Compreensão dos dados"
   ]
  },
  {
   "cell_type": "code",
   "execution_count": 1,
   "id": "c62083a0",
   "metadata": {},
   "outputs": [],
   "source": [
    "import pandas as pd\n",
    "import plotly.express as px\n",
    "import plotly.figure_factory as ff\n",
    "import plotly.io as pio"
   ]
  },
  {
   "cell_type": "code",
   "execution_count": null,
   "id": "150ce4f9",
   "metadata": {},
   "outputs": [],
   "source": [
    "df = pd.read_csv(\"data/tb_1.csv\")"
   ]
  },
  {
   "cell_type": "code",
   "execution_count": 3,
   "id": "465ffa0f",
   "metadata": {},
   "outputs": [
    {
     "name": "stdout",
     "output_type": "stream",
     "text": [
      "O dataset possui 1000 linhas e 8 colunas (Index(['gender', 'race_ethnicity', 'parental_level_of_education', 'lunch',\n",
      "       'test_preparation_course', 'math_score', 'reading_score',\n",
      "       'writing_score'],\n",
      "      dtype='object')).\n"
     ]
    }
   ],
   "source": [
    "# a) Qual é a estrutura do dataset? (Quantas linhas e colunas existem?)\n",
    "\n",
    "linhas = df.shape[0]\n",
    "colunas = df.shape[1]\n",
    "\n",
    "print(f\"O dataset possui {linhas} linhas e {colunas} colunas ({df.columns}).\")"
   ]
  },
  {
   "cell_type": "code",
   "execution_count": 4,
   "id": "065d8e0f",
   "metadata": {},
   "outputs": [
    {
     "name": "stdout",
     "output_type": "stream",
     "text": [
      "Tipos de variáveis presentes no dataset:\n",
      "object    5\n",
      "int64     3\n",
      "Name: count, dtype: int64\n"
     ]
    }
   ],
   "source": [
    "# b) Quais são os tipos de variáveis presentes? (Numéricas, categóricas, texto, etc.)\n",
    "\n",
    "tipos_variaveis = df.dtypes.value_counts()\n",
    "print(\"Tipos de variáveis presentes no dataset:\")\n",
    "print(tipos_variaveis)"
   ]
  },
  {
   "cell_type": "code",
   "execution_count": null,
   "id": "4987f7ae",
   "metadata": {},
   "outputs": [
    {
     "name": "stdout",
     "output_type": "stream",
     "text": [
      "Valores ausentes por coluna:\n",
      "gender                         0\n",
      "race_ethnicity                 0\n",
      "parental_level_of_education    0\n",
      "lunch                          0\n",
      "test_preparation_course        0\n",
      "math_score                     0\n",
      "reading_score                  0\n",
      "writing_score                  0\n",
      "dtype: int64\n"
     ]
    }
   ],
   "source": [
    "# c) Existe algum problema de valores ausentes no dataset? Como lidar com eles?\n",
    "\n",
    "valores_ausentes = df.isnull().sum()\n",
    "print(\"Valores ausentes por coluna:\")\n",
    "print(valores_ausentes)\n",
    "\n",
    "# Se houver valores ausentes, podemos optar por removê-los ou preenchê-los.        "
   ]
  },
  {
   "cell_type": "code",
   "execution_count": 6,
   "id": "2428a2c2",
   "metadata": {},
   "outputs": [
    {
     "name": "stdout",
     "output_type": "stream",
     "text": [
      "Número de valores duplicados no dataset: 0\n"
     ]
    }
   ],
   "source": [
    "# d) Existem valores duplicados ou inconsistências nos dados?\n",
    "\n",
    "valores_duplicados = df.duplicated().sum()\n",
    "print(f\"Número de valores duplicados no dataset: {valores_duplicados}\") "
   ]
  },
  {
   "cell_type": "markdown",
   "id": "95ac763b",
   "metadata": {},
   "source": [
    "## 4) Estatísticas Descritivas"
   ]
  },
  {
   "cell_type": "code",
   "execution_count": 7,
   "id": "6239142e",
   "metadata": {},
   "outputs": [
    {
     "name": "stdout",
     "output_type": "stream",
     "text": [
      "                Média  Mediana  Mínimo  Máximo  Desvio Padrão\n",
      "math_score     66.089     66.0     0.0   100.0      15.163080\n",
      "reading_score  69.169     70.0    17.0   100.0      14.600192\n",
      "writing_score  68.054     69.0    10.0   100.0      15.195657\n"
     ]
    }
   ],
   "source": [
    "# a) Quais são as estatísticas básicas das variáveis numéricas? (Média, mediana, mínimo, máximo, desvio padrão).\n",
    "\n",
    "df_calculado_estatistica = (\n",
    "    df[[\"math_score\", \"reading_score\", \"writing_score\"]]\n",
    "    .agg([\"mean\", \"median\", \"min\", \"max\", \"std\"])\n",
    "    .T\n",
    ")\n",
    "\n",
    "df_calculado_estatistica.rename(\n",
    "    columns={\n",
    "        \"mean\": \"Média\",\n",
    "        \"median\": \"Mediana\",\n",
    "        \"min\": \"Mínimo\",\n",
    "        \"max\": \"Máximo\",\n",
    "        \"std\": \"Desvio Padrão\",\n",
    "    },\n",
    "    inplace=True,\n",
    ")\n",
    "\n",
    "print(df_calculado_estatistica)"
   ]
  },
  {
   "cell_type": "markdown",
   "id": "15f6b2b1",
   "metadata": {},
   "source": [
    "## 5) Visualização e Padrões"
   ]
  },
  {
   "cell_type": "code",
   "execution_count": 8,
   "id": "30e62fd8",
   "metadata": {},
   "outputs": [
    {
     "name": "stdout",
     "output_type": "stream",
     "text": [
      "Matriz de correlação entre variáveis numéricas:\n",
      "               math_score  reading_score  writing_score\n",
      "math_score       1.000000       0.817580       0.802642\n",
      "reading_score    0.817580       1.000000       0.954598\n",
      "writing_score    0.802642       0.954598       1.000000\n"
     ]
    }
   ],
   "source": [
    "# a) Existe uma relação entre variáveis numéricas? (Correlação entre idade e salário, por exemplo).\n",
    "\n",
    "df_num = df[[\"math_score\", \"reading_score\", \"writing_score\"]]\n",
    "\n",
    "# calcula a matriz de correlação\n",
    "corr_matrix = df_num.corr()\n",
    "\n",
    "print(\"Matriz de correlação entre variáveis numéricas:\")\n",
    "print(corr_matrix)"
   ]
  },
  {
   "cell_type": "code",
   "execution_count": 9,
   "id": "f99af48f",
   "metadata": {},
   "outputs": [],
   "source": [
    "# 1) Histograma\n",
    "fig = px.histogram(\n",
    "    df, x=\"math_score\", nbins=20, title=\"Distribuição das notas de Matemática\"\n",
    ")\n",
    "fig.show()"
   ]
  },
  {
   "cell_type": "code",
   "execution_count": 10,
   "id": "c36d0eec",
   "metadata": {},
   "outputs": [],
   "source": [
    "# 2) Boxplot por categoria\n",
    "fig = px.box(df, x=\"gender\", y=\"math_score\", title=\"Notas de Matemática por Gênero\")\n",
    "fig.show()"
   ]
  },
  {
   "cell_type": "code",
   "execution_count": 11,
   "id": "f094a151",
   "metadata": {},
   "outputs": [],
   "source": [
    "# 3) Scatterplot (relação entre leitura e escrita)\n",
    "fig = px.scatter(\n",
    "    df,\n",
    "    x=\"reading_score\",\n",
    "    y=\"writing_score\",\n",
    "    color=\"gender\",\n",
    "    title=\"Relação entre Leitura e Escrita (por gênero)\",\n",
    ")\n",
    "fig.show()"
   ]
  },
  {
   "cell_type": "code",
   "execution_count": 12,
   "id": "9e826ce3",
   "metadata": {},
   "outputs": [],
   "source": [
    "# 4) Heatmap de correlação\n",
    "corr = df[[\"math_score\", \"reading_score\", \"writing_score\"]].corr()\n",
    "\n",
    "fig = ff.create_annotated_heatmap(\n",
    "    z=corr.values,\n",
    "    x=list(corr.columns),\n",
    "    y=list(corr.index),\n",
    "    annotation_text=corr.round(2).values,\n",
    "    colorscale=\"RdBu\",\n",
    "    showscale=True,\n",
    "    reversescale=True,\n",
    ")\n",
    "fig.update_layout(title=\"Correlação entre variáveis numéricas\")\n",
    "fig.show()"
   ]
  },
  {
   "cell_type": "markdown",
   "id": "1e8cbc12",
   "metadata": {},
   "source": [
    "## 6) Outliers e Anomalias"
   ]
  },
  {
   "cell_type": "code",
   "execution_count": 13,
   "id": "78aafb88",
   "metadata": {},
   "outputs": [],
   "source": [
    "# a) Existem outliers nos dados? (Boxplots podem ajudar a identificar).\n",
    "\n",
    "fig = px.box(\n",
    "    df,\n",
    "    y=[\"math_score\", \"reading_score\", \"writing_score\"],\n",
    "    title=\"Boxplot das Notas para Identificação de Outliers\"\n",
    ")\n",
    "fig.show()"
   ]
  },
  {
   "cell_type": "code",
   "execution_count": 14,
   "id": "ead2b2f0",
   "metadata": {},
   "outputs": [
    {
     "name": "stdout",
     "output_type": "stream",
     "text": [
      "Registros anômalos encontrados (fora de 0 a 100):\n",
      "Nenhuma anomalia encontrada.\n"
     ]
    }
   ],
   "source": [
    "# b) Os dados apresentam alguma anomalia ou erro de coleta?\n",
    "\n",
    "anomalias = df[\n",
    "    (df[\"math_score\"] < 0) | (df[\"math_score\"] > 100) |\n",
    "    (df[\"reading_score\"] < 0) | (df[\"reading_score\"] > 100) |\n",
    "    (df[\"writing_score\"] < 0) | (df[\"writing_score\"] > 100)\n",
    "]\n",
    "\n",
    "print(\"Registros anômalos encontrados (fora de 0 a 100):\")\n",
    "print(anomalias if not anomalias.empty else \"Nenhuma anomalia encontrada.\")"
   ]
  },
  {
   "cell_type": "markdown",
   "id": "ee02be46",
   "metadata": {},
   "source": [
    "## 7) Comparações e Segmentações"
   ]
  },
  {
   "cell_type": "code",
   "execution_count": 15,
   "id": "206ddcae",
   "metadata": {},
   "outputs": [
    {
     "name": "stdout",
     "output_type": "stream",
     "text": [
      "=== Média das notas por gênero ===\n",
      "        math_score  reading_score  writing_score\n",
      "gender                                          \n",
      "female   63.633205      72.608108      72.467181\n",
      "male     68.728216      65.473029      63.311203 \n",
      "\n"
     ]
    }
   ],
   "source": [
    "# a) Os dados mostram diferenças entre grupos? (Exemplo: Salários médios por gênero)\n",
    "\n",
    "media_por_genero = df.groupby(\"gender\")[[\"math_score\",\"reading_score\",\"writing_score\"]].mean()\n",
    "print(\"=== Média das notas por gênero ===\")\n",
    "print(media_por_genero, \"\\n\")\n",
    "\n",
    "fig = px.bar(\n",
    "    media_por_genero.reset_index(),\n",
    "    x=\"gender\",\n",
    "    y=[\"math_score\", \"reading_score\", \"writing_score\"],\n",
    "    barmode=\"group\",\n",
    "    title=\"Média das Notas por Gênero\"\n",
    ")\n",
    "fig.show()"
   ]
  },
  {
   "cell_type": "code",
   "execution_count": 16,
   "id": "33e7e62e",
   "metadata": {},
   "outputs": [
    {
     "name": "stdout",
     "output_type": "stream",
     "text": [
      "=== Média das notas por tipo de almoço ===\n",
      "              math_score  reading_score  writing_score\n",
      "lunch                                                 \n",
      "free/reduced   58.921127      64.653521      63.022535\n",
      "standard       70.034109      71.654264      70.823256 \n",
      "\n"
     ]
    }
   ],
   "source": [
    "# b) Como os dados se comportam ao longo do tempo? (Se houver uma variável temporal)\n",
    "\n",
    "media_por_almoço = df.groupby(\"lunch\")[[\"math_score\",\"reading_score\",\"writing_score\"]].mean()\n",
    "print(\"=== Média das notas por tipo de almoço ===\")\n",
    "print(media_por_almoço, \"\\n\")\n",
    "\n",
    "fig = px.bar(\n",
    "    media_por_almoço.reset_index(),\n",
    "    x=\"lunch\",\n",
    "    y=[\"math_score\", \"reading_score\", \"writing_score\"],\n",
    "    barmode=\"group\",\n",
    "    title=\"Média das Notas por Tipo de Almoço\"\n",
    ")\n",
    "fig.show()"
   ]
  },
  {
   "cell_type": "code",
   "execution_count": 17,
   "id": "f24f3bb4",
   "metadata": {},
   "outputs": [
    {
     "name": "stdout",
     "output_type": "stream",
     "text": [
      "=== Média das notas por nível de escolaridade dos pais ===\n",
      "                             math_score  reading_score  writing_score\n",
      "parental_level_of_education                                          \n",
      "associate's degree            67.882883      70.927928      69.896396\n",
      "bachelor's degree             69.389831      73.000000      73.381356\n",
      "high school                   62.137755      64.704082      62.448980\n",
      "master's degree               69.745763      75.372881      75.677966\n",
      "some college                  67.128319      69.460177      68.840708\n",
      "some high school              63.497207      66.938547      64.888268 \n",
      "\n"
     ]
    }
   ],
   "source": [
    "# c) Quais insights podem ser extraídos para tomada de decisão?\n",
    "\n",
    "media_por_escolaridade = df.groupby(\"parental_level_of_education\")[[\"math_score\",\"reading_score\",\"writing_score\"]].mean()\n",
    "print(\"=== Média das notas por nível de escolaridade dos pais ===\")\n",
    "print(media_por_escolaridade, \"\\n\")\n",
    "\n",
    "fig = px.bar(\n",
    "    media_por_escolaridade.reset_index(),\n",
    "    x=\"parental_level_of_education\",\n",
    "    y=[\"math_score\", \"reading_score\", \"writing_score\"],\n",
    "    barmode=\"group\",\n",
    "    title=\"Média das Notas por Escolaridade dos Pais\"\n",
    ")\n",
    "fig.show()"
   ]
  },
  {
   "cell_type": "markdown",
   "id": "bd00b3d0",
   "metadata": {},
   "source": [
    "## 8) Contextualização e Aplicação"
   ]
  },
  {
   "cell_type": "code",
   "execution_count": 18,
   "id": "25a19e1a",
   "metadata": {},
   "outputs": [],
   "source": [
    "# a) Como os insights obtidos podem ser usados em ações concretas?\n",
    "\n",
    "# Os dados mostram diferenças de desempenho entre alunos de diferentes gêneros, tipos de almoços e níveis de escolaridade dos pais. \n",
    "# Com base nisso, a escola pode adotar estratégias pedagógicas específicas, como reforço em leitura/escrita para meninos e em matemática para meninas, \n",
    "# garantir refeições mais nutritivas para alunos que recebem almoço gratuito ou reduzido e desenvolver programas de engajamento parental para apoiar alunos \n",
    "# cujos pais têm menor escolaridade. Essas ações podem contribuir para reduzir desigualdades e melhorar o desempenho acadêmico de todos os estudantes.\n"
   ]
  },
  {
   "cell_type": "code",
   "execution_count": 19,
   "id": "95c9da4a",
   "metadata": {},
   "outputs": [],
   "source": [
    "# b) Os dados analisados fazem sentido para o problema de negócio?\n",
    "\n",
    "# Sim. O objetivo é identificar fatores que influenciam o desempenho escolar, e os dados analisados fornecem informações consistentes sobre diferenças \n",
    "# de notas relacionadas a gênero, nutrição e escolaridade dos pais. \n",
    "# Esses insights permitem que gestores e professores tomem decisões baseadas em evidências, direcionando políticas e práticas educacionais que promovam \n",
    "# o aprendizado efetivo e equitativo."
   ]
  }
 ],
 "metadata": {
  "kernelspec": {
   "display_name": "GRAPH_NEURAL_NETWORK",
   "language": "python",
   "name": "python3"
  },
  "language_info": {
   "codemirror_mode": {
    "name": "ipython",
    "version": 3
   },
   "file_extension": ".py",
   "mimetype": "text/x-python",
   "name": "python",
   "nbconvert_exporter": "python",
   "pygments_lexer": "ipython3",
   "version": "3.12.3"
  }
 },
 "nbformat": 4,
 "nbformat_minor": 5
}
