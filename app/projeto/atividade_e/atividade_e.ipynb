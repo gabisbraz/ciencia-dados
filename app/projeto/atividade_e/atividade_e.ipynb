{
 "cells": [
  {
   "cell_type": "markdown",
   "id": "449168db",
   "metadata": {},
   "source": [
    "# Classificação com Naive Bayes, KNN e Árvore de Decisão\n",
    "Este notebook implementa três algoritmos de classificação:\n",
    "- Naive Bayes (GaussianNB)\n",
    "- KNN (k=5)\n",
    "- Árvore de decisão\n",
    "\n",
    "Também calcula as métricas: matriz de confusão, acurácia, precisão, recall, F1-score e curva ROC."
   ]
  },
  {
   "cell_type": "markdown",
   "id": "47daaf39",
   "metadata": {},
   "source": [
    "### ALUNAS\n",
    "- Gabriella Braz\n",
    "- Giovana Ribeiro"
   ]
  },
  {
   "cell_type": "code",
   "execution_count": 48,
   "id": "c2d17b2f",
   "metadata": {},
   "outputs": [],
   "source": [
    "\n",
    "import pandas as pd\n",
    "import numpy as np\n",
    "from pathlib import Path\n",
    "import matplotlib.pyplot as plt\n",
    "\n",
    "from sklearn.model_selection import train_test_split\n",
    "from sklearn.preprocessing import LabelEncoder, StandardScaler, label_binarize\n",
    "from sklearn.naive_bayes import GaussianNB\n",
    "from sklearn.neighbors import KNeighborsClassifier\n",
    "from sklearn.tree import DecisionTreeClassifier\n",
    "from sklearn.metrics import (confusion_matrix, accuracy_score, precision_score,\n",
    "                             recall_score, f1_score, roc_auc_score, roc_curve)\n"
   ]
  },
  {
   "cell_type": "code",
   "execution_count": 49,
   "id": "6b51b2ca",
   "metadata": {},
   "outputs": [
    {
     "name": "stdout",
     "output_type": "stream",
     "text": [
      "Dimensão do dataset: (1000, 8)\n"
     ]
    },
    {
     "data": {
      "text/html": [
       "<div>\n",
       "<style scoped>\n",
       "    .dataframe tbody tr th:only-of-type {\n",
       "        vertical-align: middle;\n",
       "    }\n",
       "\n",
       "    .dataframe tbody tr th {\n",
       "        vertical-align: top;\n",
       "    }\n",
       "\n",
       "    .dataframe thead th {\n",
       "        text-align: right;\n",
       "    }\n",
       "</style>\n",
       "<table border=\"1\" class=\"dataframe\">\n",
       "  <thead>\n",
       "    <tr style=\"text-align: right;\">\n",
       "      <th></th>\n",
       "      <th>gender</th>\n",
       "      <th>race_ethnicity</th>\n",
       "      <th>parental_level_of_education</th>\n",
       "      <th>lunch</th>\n",
       "      <th>test_preparation_course</th>\n",
       "      <th>math_score</th>\n",
       "      <th>reading_score</th>\n",
       "      <th>writing_score</th>\n",
       "    </tr>\n",
       "  </thead>\n",
       "  <tbody>\n",
       "    <tr>\n",
       "      <th>0</th>\n",
       "      <td>female</td>\n",
       "      <td>group B</td>\n",
       "      <td>bachelor's degree</td>\n",
       "      <td>standard</td>\n",
       "      <td>none</td>\n",
       "      <td>72</td>\n",
       "      <td>72</td>\n",
       "      <td>74</td>\n",
       "    </tr>\n",
       "    <tr>\n",
       "      <th>1</th>\n",
       "      <td>female</td>\n",
       "      <td>group C</td>\n",
       "      <td>some college</td>\n",
       "      <td>standard</td>\n",
       "      <td>completed</td>\n",
       "      <td>69</td>\n",
       "      <td>90</td>\n",
       "      <td>88</td>\n",
       "    </tr>\n",
       "    <tr>\n",
       "      <th>2</th>\n",
       "      <td>female</td>\n",
       "      <td>group B</td>\n",
       "      <td>master's degree</td>\n",
       "      <td>standard</td>\n",
       "      <td>none</td>\n",
       "      <td>90</td>\n",
       "      <td>95</td>\n",
       "      <td>93</td>\n",
       "    </tr>\n",
       "    <tr>\n",
       "      <th>3</th>\n",
       "      <td>male</td>\n",
       "      <td>group A</td>\n",
       "      <td>associate's degree</td>\n",
       "      <td>free/reduced</td>\n",
       "      <td>none</td>\n",
       "      <td>47</td>\n",
       "      <td>57</td>\n",
       "      <td>44</td>\n",
       "    </tr>\n",
       "    <tr>\n",
       "      <th>4</th>\n",
       "      <td>male</td>\n",
       "      <td>group C</td>\n",
       "      <td>some college</td>\n",
       "      <td>standard</td>\n",
       "      <td>none</td>\n",
       "      <td>76</td>\n",
       "      <td>78</td>\n",
       "      <td>75</td>\n",
       "    </tr>\n",
       "  </tbody>\n",
       "</table>\n",
       "</div>"
      ],
      "text/plain": [
       "   gender race_ethnicity parental_level_of_education         lunch  \\\n",
       "0  female        group B           bachelor's degree      standard   \n",
       "1  female        group C                some college      standard   \n",
       "2  female        group B             master's degree      standard   \n",
       "3    male        group A          associate's degree  free/reduced   \n",
       "4    male        group C                some college      standard   \n",
       "\n",
       "  test_preparation_course  math_score  reading_score  writing_score  \n",
       "0                    none          72             72             74  \n",
       "1               completed          69             90             88  \n",
       "2                    none          90             95             93  \n",
       "3                    none          47             57             44  \n",
       "4                    none          76             78             75  "
      ]
     },
     "execution_count": 49,
     "metadata": {},
     "output_type": "execute_result"
    }
   ],
   "source": [
    "\n",
    "data_path = Path(\"../../../data/tb_1.csv\")\n",
    "df = pd.read_csv(data_path)\n",
    "\n",
    "print(\"Dimensão do dataset:\", df.shape)\n",
    "df.head()\n"
   ]
  },
  {
   "cell_type": "code",
   "execution_count": 50,
   "id": "04848f82",
   "metadata": {},
   "outputs": [
    {
     "name": "stdout",
     "output_type": "stream",
     "text": [
      "Classes: [np.int64(10), np.int64(15), np.int64(19), np.int64(22), np.int64(23), np.int64(27), np.int64(28), np.int64(30), np.int64(32), np.int64(33), np.int64(34), np.int64(35), np.int64(36), np.int64(37), np.int64(38), np.int64(39), np.int64(40), np.int64(41), np.int64(42), np.int64(43), np.int64(44), np.int64(45), np.int64(46), np.int64(47), np.int64(48), np.int64(49), np.int64(50), np.int64(51), np.int64(52), np.int64(53), np.int64(54), np.int64(55), np.int64(56), np.int64(57), np.int64(58), np.int64(59), np.int64(60), np.int64(61), np.int64(62), np.int64(63), np.int64(64), np.int64(65), np.int64(66), np.int64(67), np.int64(68), np.int64(69), np.int64(70), np.int64(71), np.int64(72), np.int64(73), np.int64(74), np.int64(75), np.int64(76), np.int64(77), np.int64(78), np.int64(79), np.int64(80), np.int64(81), np.int64(82), np.int64(83), np.int64(84), np.int64(85), np.int64(86), np.int64(87), np.int64(88), np.int64(89), np.int64(90), np.int64(91), np.int64(92), np.int64(93), np.int64(94), np.int64(95), np.int64(96), np.int64(97), np.int64(98), np.int64(99), np.int64(100)]\n",
      "Aviso: existe(m) classe(s) com apenas 1 amostra(s). Não será usado 'stratify'.\n"
     ]
    }
   ],
   "source": [
    "\n",
    "# Última coluna é o target\n",
    "target_col = df.columns[-1]\n",
    "X = df.drop(columns=[target_col])\n",
    "y = df[target_col].copy()\n",
    "\n",
    "# One-hot encoding para variáveis categóricas\n",
    "X = pd.get_dummies(X, drop_first=True)\n",
    "\n",
    "# Encode do target\n",
    "le = LabelEncoder()\n",
    "y_enc = le.fit_transform(y)\n",
    "class_names = list(le.classes_)\n",
    "print(\"Classes:\", class_names)\n",
    "\n",
    "# Divisão treino/teste\n",
    "min_count = pd.Series(y_enc).value_counts().min()\n",
    "if min_count < 2:\n",
    "    strat = None\n",
    "    print(f\"Aviso: existe(m) classe(s) com apenas {min_count} amostra(s). Não será usado 'stratify'.\")\n",
    "else:\n",
    "    strat = y_enc\n",
    "\n",
    "X_train, X_test, y_train, y_test = train_test_split(X, y_enc, test_size=0.25, random_state=42, stratify=strat)\n",
    "\n",
    "# Normalização\n",
    "scaler = StandardScaler()\n",
    "X_train_scaled = scaler.fit_transform(X_train)\n",
    "X_test_scaled = scaler.transform(X_test)\n"
   ]
  },
  {
   "cell_type": "code",
   "execution_count": 51,
   "id": "4e59935f",
   "metadata": {},
   "outputs": [
    {
     "name": "stdout",
     "output_type": "stream",
     "text": [
      "Treinando Naive Bayes...\n",
      "Naive Bayes treinado!\n"
     ]
    }
   ],
   "source": [
    "# 1. NAIVE BAYES\n",
    "print(\"Treinando Naive Bayes...\")\n",
    "nb_model = GaussianNB()\n",
    "nb_model.fit(X_train_scaled, y_train)\n",
    "nb_pred = nb_model.predict(X_test_scaled)\n",
    "nb_prob = nb_model.predict_proba(X_test_scaled)\n",
    "print(\"Naive Bayes treinado!\")"
   ]
  },
  {
   "cell_type": "code",
   "execution_count": 52,
   "id": "8d3bf287",
   "metadata": {},
   "outputs": [
    {
     "name": "stdout",
     "output_type": "stream",
     "text": [
      "Treinando KNN...\n",
      "KNN treinado!\n"
     ]
    }
   ],
   "source": [
    "# 2. KNN\n",
    "print(\"Treinando KNN...\")\n",
    "knn_model = KNeighborsClassifier(n_neighbors=5)\n",
    "knn_model.fit(X_train_scaled, y_train)\n",
    "knn_pred = knn_model.predict(X_test_scaled)\n",
    "knn_prob = knn_model.predict_proba(X_test_scaled)\n",
    "print(\"KNN treinado!\")"
   ]
  },
  {
   "cell_type": "code",
   "execution_count": 53,
   "id": "985c77cc",
   "metadata": {},
   "outputs": [
    {
     "name": "stdout",
     "output_type": "stream",
     "text": [
      "Treinando Árvore de Decisão...\n",
      "Árvore de Decisão treinada!\n"
     ]
    }
   ],
   "source": [
    "# 3. ÁRVORE DE DECISÃO\n",
    "print(\"Treinando Árvore de Decisão...\")\n",
    "dt_model = DecisionTreeClassifier(random_state=42)\n",
    "dt_model.fit(X_train_scaled, y_train)\n",
    "dt_pred = dt_model.predict(X_test_scaled)\n",
    "dt_prob = dt_model.predict_proba(X_test_scaled)\n",
    "print(\"Árvore de Decisão treinada!\")"
   ]
  },
  {
   "cell_type": "code",
   "execution_count": 54,
   "id": "b8da162a",
   "metadata": {},
   "outputs": [],
   "source": [
    "from sklearn.metrics import (\n",
    "    confusion_matrix, accuracy_score, precision_score,\n",
    "    recall_score, f1_score, roc_auc_score, roc_curve\n",
    ")\n",
    "\n",
    "def evaluate_model(y_test, y_pred, y_prob, model_name):\n",
    "    print(f\"\\n===== {model_name} =====\")\n",
    "    cm = confusion_matrix(y_test, y_pred)\n",
    "    acc = accuracy_score(y_test, y_pred)\n",
    "    prec = precision_score(y_test, y_pred, average='weighted', zero_division=0)\n",
    "    rec = recall_score(y_test, y_pred, average='weighted', zero_division=0)\n",
    "    f1 = f1_score(y_test, y_pred, average='weighted', zero_division=0)\n",
    "\n",
    "    print(\"Matriz de Confusão:\\n\", cm)\n",
    "    print(f\"Acurácia: {acc:.4f}\")\n",
    "    print(f\"Precisão: {prec:.4f}\")\n",
    "    print(f\"Recall: {rec:.4f}\")\n",
    "    print(f\"F1-Score: {f1:.4f}\")\n",
    "\n",
    "    # Verifica se é binário para calcular ROC\n",
    "    if len(set(y_test)) == 2 and y_prob is not None:\n",
    "        try:\n",
    "            roc_auc = roc_auc_score(y_test, y_prob[:, 1])\n",
    "            print(f\"Área sob a curva ROC: {roc_auc:.4f}\")\n",
    "        except Exception as e:\n",
    "            print(\"Não foi possível calcular a curva ROC:\", e)\n",
    "    else:\n",
    "        print(\"Curva ROC não aplicável (problema multiclasse).\")\n"
   ]
  },
  {
   "cell_type": "code",
   "execution_count": 55,
   "id": "3fb6dd30",
   "metadata": {},
   "outputs": [
    {
     "name": "stdout",
     "output_type": "stream",
     "text": [
      "Função de cálculo de métricas definida!\n"
     ]
    }
   ],
   "source": [
    "def calculate_all_metrics(y_test, y_pred, y_prob, class_names):\n",
    "    \"\"\"Calcula todas as métricas para um modelo\"\"\"\n",
    "    metrics = {}\n",
    "    \n",
    "    # Métricas básicas\n",
    "    metrics['confusion_matrix'] = confusion_matrix(y_test, y_pred)\n",
    "    metrics['accuracy'] = accuracy_score(y_test, y_pred)\n",
    "    metrics['precision_macro'] = precision_score(y_test, y_pred, average='macro', zero_division=0)\n",
    "    metrics['recall_macro'] = recall_score(y_test, y_pred, average='macro', zero_division=0)\n",
    "    metrics['f1_macro'] = f1_score(y_test, y_pred, average='macro', zero_division=0)\n",
    "    \n",
    "    # ROC AUC\n",
    "    try:\n",
    "        if len(class_names) == 2:  # Binário\n",
    "            metrics['roc_auc'] = roc_auc_score(y_test, y_prob[:, 1])\n",
    "        else:  # Multiclasse\n",
    "            # Binarizar para multiclasse\n",
    "            y_test_bin = label_binarize(y_test, classes=range(len(class_names)))\n",
    "            metrics['roc_auc'] = roc_auc_score(y_test_bin, y_prob, multi_class='ovr', average='macro')\n",
    "    except:\n",
    "        metrics['roc_auc'] = \"N/A\"\n",
    "    \n",
    "    return metrics\n",
    "\n",
    "print(\"Função de cálculo de métricas definida!\")"
   ]
  },
  {
   "cell_type": "code",
   "execution_count": 56,
   "id": "d2c71f64",
   "metadata": {},
   "outputs": [
    {
     "name": "stderr",
     "output_type": "stream",
     "text": [
      "C:\\Users\\Giovana\\AppData\\Local\\Packages\\PythonSoftwareFoundation.Python.3.10_qbz5n2kfra8p0\\LocalCache\\local-packages\\Python310\\site-packages\\sklearn\\metrics\\_ranking.py:379: UndefinedMetricWarning: Only one class is present in y_true. ROC AUC score is not defined in that case.\n",
      "  warnings.warn(\n",
      "C:\\Users\\Giovana\\AppData\\Local\\Packages\\PythonSoftwareFoundation.Python.3.10_qbz5n2kfra8p0\\LocalCache\\local-packages\\Python310\\site-packages\\sklearn\\metrics\\_ranking.py:379: UndefinedMetricWarning: Only one class is present in y_true. ROC AUC score is not defined in that case.\n",
      "  warnings.warn(\n",
      "C:\\Users\\Giovana\\AppData\\Local\\Packages\\PythonSoftwareFoundation.Python.3.10_qbz5n2kfra8p0\\LocalCache\\local-packages\\Python310\\site-packages\\sklearn\\metrics\\_ranking.py:379: UndefinedMetricWarning: Only one class is present in y_true. ROC AUC score is not defined in that case.\n",
      "  warnings.warn(\n",
      "C:\\Users\\Giovana\\AppData\\Local\\Packages\\PythonSoftwareFoundation.Python.3.10_qbz5n2kfra8p0\\LocalCache\\local-packages\\Python310\\site-packages\\sklearn\\metrics\\_ranking.py:379: UndefinedMetricWarning: Only one class is present in y_true. ROC AUC score is not defined in that case.\n",
      "  warnings.warn(\n",
      "C:\\Users\\Giovana\\AppData\\Local\\Packages\\PythonSoftwareFoundation.Python.3.10_qbz5n2kfra8p0\\LocalCache\\local-packages\\Python310\\site-packages\\sklearn\\metrics\\_ranking.py:379: UndefinedMetricWarning: Only one class is present in y_true. ROC AUC score is not defined in that case.\n",
      "  warnings.warn(\n",
      "C:\\Users\\Giovana\\AppData\\Local\\Packages\\PythonSoftwareFoundation.Python.3.10_qbz5n2kfra8p0\\LocalCache\\local-packages\\Python310\\site-packages\\sklearn\\metrics\\_ranking.py:379: UndefinedMetricWarning: Only one class is present in y_true. ROC AUC score is not defined in that case.\n",
      "  warnings.warn(\n",
      "C:\\Users\\Giovana\\AppData\\Local\\Packages\\PythonSoftwareFoundation.Python.3.10_qbz5n2kfra8p0\\LocalCache\\local-packages\\Python310\\site-packages\\sklearn\\metrics\\_ranking.py:379: UndefinedMetricWarning: Only one class is present in y_true. ROC AUC score is not defined in that case.\n",
      "  warnings.warn(\n",
      "C:\\Users\\Giovana\\AppData\\Local\\Packages\\PythonSoftwareFoundation.Python.3.10_qbz5n2kfra8p0\\LocalCache\\local-packages\\Python310\\site-packages\\sklearn\\metrics\\_ranking.py:379: UndefinedMetricWarning: Only one class is present in y_true. ROC AUC score is not defined in that case.\n",
      "  warnings.warn(\n",
      "C:\\Users\\Giovana\\AppData\\Local\\Packages\\PythonSoftwareFoundation.Python.3.10_qbz5n2kfra8p0\\LocalCache\\local-packages\\Python310\\site-packages\\sklearn\\metrics\\_ranking.py:379: UndefinedMetricWarning: Only one class is present in y_true. ROC AUC score is not defined in that case.\n",
      "  warnings.warn(\n",
      "C:\\Users\\Giovana\\AppData\\Local\\Packages\\PythonSoftwareFoundation.Python.3.10_qbz5n2kfra8p0\\LocalCache\\local-packages\\Python310\\site-packages\\sklearn\\metrics\\_ranking.py:379: UndefinedMetricWarning: Only one class is present in y_true. ROC AUC score is not defined in that case.\n",
      "  warnings.warn(\n"
     ]
    },
    {
     "name": "stdout",
     "output_type": "stream",
     "text": [
      "Métricas calculadas e dados ROC preparados!\n"
     ]
    },
    {
     "name": "stderr",
     "output_type": "stream",
     "text": [
      "C:\\Users\\Giovana\\AppData\\Local\\Packages\\PythonSoftwareFoundation.Python.3.10_qbz5n2kfra8p0\\LocalCache\\local-packages\\Python310\\site-packages\\sklearn\\metrics\\_ranking.py:379: UndefinedMetricWarning: Only one class is present in y_true. ROC AUC score is not defined in that case.\n",
      "  warnings.warn(\n",
      "C:\\Users\\Giovana\\AppData\\Local\\Packages\\PythonSoftwareFoundation.Python.3.10_qbz5n2kfra8p0\\LocalCache\\local-packages\\Python310\\site-packages\\sklearn\\metrics\\_ranking.py:379: UndefinedMetricWarning: Only one class is present in y_true. ROC AUC score is not defined in that case.\n",
      "  warnings.warn(\n",
      "C:\\Users\\Giovana\\AppData\\Local\\Packages\\PythonSoftwareFoundation.Python.3.10_qbz5n2kfra8p0\\LocalCache\\local-packages\\Python310\\site-packages\\sklearn\\metrics\\_ranking.py:379: UndefinedMetricWarning: Only one class is present in y_true. ROC AUC score is not defined in that case.\n",
      "  warnings.warn(\n",
      "C:\\Users\\Giovana\\AppData\\Local\\Packages\\PythonSoftwareFoundation.Python.3.10_qbz5n2kfra8p0\\LocalCache\\local-packages\\Python310\\site-packages\\sklearn\\metrics\\_ranking.py:379: UndefinedMetricWarning: Only one class is present in y_true. ROC AUC score is not defined in that case.\n",
      "  warnings.warn(\n",
      "C:\\Users\\Giovana\\AppData\\Local\\Packages\\PythonSoftwareFoundation.Python.3.10_qbz5n2kfra8p0\\LocalCache\\local-packages\\Python310\\site-packages\\sklearn\\metrics\\_ranking.py:379: UndefinedMetricWarning: Only one class is present in y_true. ROC AUC score is not defined in that case.\n",
      "  warnings.warn(\n"
     ]
    }
   ],
   "source": [
    "# Calcular métricas para todos os modelos\n",
    "results = {\n",
    "    \"Naive Bayes\": calculate_all_metrics(y_test, nb_pred, nb_prob, class_names),\n",
    "    \"KNN\": calculate_all_metrics(y_test, knn_pred, knn_prob, class_names),\n",
    "    \"Árvore de Decisão\": calculate_all_metrics(y_test, dt_pred, dt_prob, class_names)\n",
    "}\n",
    "\n",
    "# Preparar dados para curvas ROC\n",
    "def prepare_roc_data(y_test, y_prob, class_names):\n",
    "    \"\"\"Prepara dados para curva ROC\"\"\"\n",
    "    if len(class_names) == 2:  # Problema binário\n",
    "        fpr, tpr, _ = roc_curve(y_test, y_prob[:, 1])\n",
    "        return fpr, tpr\n",
    "    else:  # Problema multiclasse - usar macro average\n",
    "        try:\n",
    "            y_test_bin = label_binarize(y_test, classes=range(len(class_names)))\n",
    "            fpr, tpr, _ = roc_curve(y_test_bin.ravel(), y_prob.ravel())\n",
    "            return fpr, tpr\n",
    "        except:\n",
    "            return None, None\n",
    "\n",
    "y_probas = {\n",
    "    \"Naive Bayes\": prepare_roc_data(y_test, nb_prob, class_names),\n",
    "    \"KNN\": prepare_roc_data(y_test, knn_prob, class_names),\n",
    "    \"Árvore de Decisão\": prepare_roc_data(y_test, dt_prob, class_names)\n",
    "}\n",
    "\n",
    "print(\"Métricas calculadas e dados ROC preparados!\")"
   ]
  },
  {
   "cell_type": "code",
   "execution_count": 57,
   "id": "92b7faa0",
   "metadata": {},
   "outputs": [
    {
     "name": "stdout",
     "output_type": "stream",
     "text": [
      "\n",
      "== Naive Bayes ==\n",
      "Matriz de confusão:\n",
      " [[0 0 0 ... 0 0 0]\n",
      " [0 0 0 ... 0 0 0]\n",
      " [0 0 0 ... 0 0 0]\n",
      " ...\n",
      " [0 0 0 ... 0 0 0]\n",
      " [0 0 0 ... 0 0 0]\n",
      " [0 0 0 ... 0 1 0]]\n",
      "Acurácia: 0.0200\n",
      "Precisão (macro): 0.0067\n",
      "Recall (macro): 0.0173\n",
      "F1-score (macro): 0.0094\n",
      "ROC AUC: nan\n",
      "\n",
      "== KNN ==\n",
      "Matriz de confusão:\n",
      " [[0 0 0 ... 0 0 0]\n",
      " [0 0 0 ... 0 0 0]\n",
      " [0 0 0 ... 0 0 0]\n",
      " ...\n",
      " [0 0 0 ... 0 0 0]\n",
      " [0 0 0 ... 0 0 0]\n",
      " [0 0 0 ... 0 0 1]]\n",
      "Acurácia: 0.0320\n",
      "Precisão (macro): 0.0266\n",
      "Recall (macro): 0.0268\n",
      "F1-score (macro): 0.0228\n",
      "ROC AUC: nan\n",
      "\n",
      "== Árvore de Decisão ==\n",
      "Matriz de confusão:\n",
      " [[0 0 0 ... 0 0 0]\n",
      " [0 0 0 ... 0 0 0]\n",
      " [0 0 0 ... 0 0 0]\n",
      " ...\n",
      " [0 0 0 ... 0 0 0]\n",
      " [0 0 0 ... 0 0 0]\n",
      " [0 0 0 ... 0 1 0]]\n",
      "Acurácia: 0.0640\n",
      "Precisão (macro): 0.0376\n",
      "Recall (macro): 0.0484\n",
      "F1-score (macro): 0.0358\n",
      "ROC AUC: nan\n"
     ]
    }
   ],
   "source": [
    "\n",
    "for name, metrics in results.items():\n",
    "    print(f\"\\n== {name} ==\")\n",
    "    print(\"Matriz de confusão:\\n\", metrics[\"confusion_matrix\"])\n",
    "    print(f\"Acurácia: {metrics['accuracy']:.4f}\")\n",
    "    print(f\"Precisão (macro): {metrics['precision_macro']:.4f}\")\n",
    "    print(f\"Recall (macro): {metrics['recall_macro']:.4f}\")\n",
    "    print(f\"F1-score (macro): {metrics['f1_macro']:.4f}\")\n",
    "    print(f\"ROC AUC: {metrics['roc_auc']}\")\n"
   ]
  },
  {
   "cell_type": "code",
   "execution_count": 58,
   "id": "dbfa19dc",
   "metadata": {},
   "outputs": [
    {
     "name": "stderr",
     "output_type": "stream",
     "text": [
      "C:\\Users\\Giovana\\AppData\\Local\\Temp\\ipykernel_47836\\2853814614.py:9: UserWarning: No artists with labels found to put in legend.  Note that artists whose label start with an underscore are ignored when legend() is called with no argument.\n",
      "  plt.legend()\n"
     ]
    },
    {
     "data": {
      "image/png": "[encoded data removed]",
      "text/plain": [
       "<Figure size 504x432 with 1 Axes>"
      ]
     },
     "metadata": {
      "needs_background": "light"
     },
     "output_type": "display_data"
    }
   ],
   "source": [
    "\n",
    "plt.figure(figsize=(7,6))\n",
    "for name, (fpr, tpr) in y_probas.items():\n",
    "    if fpr is not None:\n",
    "        plt.plot(fpr, tpr, label=f\"{name} (AUC={results[name]['roc_auc']:.3f})\")\n",
    "plt.plot([0,1],[0,1],'--')\n",
    "plt.xlabel(\"False Positive Rate\")\n",
    "plt.ylabel(\"True Positive Rate\")\n",
    "plt.title(\"Curvas ROC\")\n",
    "plt.legend()\n",
    "plt.show()\n"
   ]
  },
  {
   "cell_type": "code",
   "execution_count": 59,
   "id": "dea6f04f",
   "metadata": {},
   "outputs": [
    {
     "data": {
      "image/png": "[encoded data removed]",
      "text/plain": [
       "<Figure size 864x432 with 1 Axes>"
      ]
     },
     "metadata": {
      "needs_background": "light"
     },
     "output_type": "display_data"
    },
    {
     "name": "stdout",
     "output_type": "stream",
     "text": [
      "Análise completa finalizada!\n"
     ]
    }
   ],
   "source": [
    "# Comparação visual das métricas\n",
    "models = list(results.keys())\n",
    "accuracies = [results[model]['accuracy'] for model in models]\n",
    "precisions = [results[model]['precision_macro'] for model in models]\n",
    "recalls = [results[model]['recall_macro'] for model in models]\n",
    "f1_scores = [results[model]['f1_macro'] for model in models]\n",
    "\n",
    "x = np.arange(len(models))\n",
    "width = 0.2\n",
    "\n",
    "fig, ax = plt.subplots(figsize=(12, 6))\n",
    "ax.bar(x - 1.5*width, accuracies, width, label='Acurácia', alpha=0.8)\n",
    "ax.bar(x - 0.5*width, precisions, width, label='Precisão', alpha=0.8)\n",
    "ax.bar(x + 0.5*width, recalls, width, label='Recall', alpha=0.8)\n",
    "ax.bar(x + 1.5*width, f1_scores, width, label='F1-Score', alpha=0.8)\n",
    "\n",
    "ax.set_xlabel('Modelos')\n",
    "ax.set_ylabel('Scores')\n",
    "ax.set_title('Comparação de Métricas dos Algoritmos')\n",
    "ax.set_xticks(x)\n",
    "ax.set_xticklabels(models)\n",
    "ax.legend()\n",
    "ax.grid(True, alpha=0.3)\n",
    "\n",
    "# Adicionar valores nas barras\n",
    "for i, model in enumerate(models):\n",
    "    ax.text(i - 1.5*width, accuracies[i] + 0.01, f'{accuracies[i]:.3f}', \n",
    "            ha='center', va='bottom', fontsize=9)\n",
    "    ax.text(i - 0.5*width, precisions[i] + 0.01, f'{precisions[i]:.3f}', \n",
    "            ha='center', va='bottom', fontsize=9)\n",
    "    ax.text(i + 0.5*width, recalls[i] + 0.01, f'{recalls[i]:.3f}', \n",
    "            ha='center', va='bottom', fontsize=9)\n",
    "    ax.text(i + 1.5*width, f1_scores[i] + 0.01, f'{f1_scores[i]:.3f}', \n",
    "            ha='center', va='bottom', fontsize=9)\n",
    "\n",
    "plt.tight_layout()\n",
    "plt.show()\n",
    "\n",
    "print(\"Análise completa finalizada!\")"
   ]
  }
 ],
 "metadata": {
  "kernelspec": {
   "display_name": "Python 3",
   "language": "python",
   "name": "python3"
  },
  "language_info": {
   "codemirror_mode": {
    "name": "ipython",
    "version": 3
   },
   "file_extension": ".py",
   "mimetype": "text/x-python",
   "name": "python",
   "nbconvert_exporter": "python",
   "pygments_lexer": "ipython3",
   "version": "3.10.11"
  }
 },
 "nbformat": 4,
 "nbformat_minor": 5
}
