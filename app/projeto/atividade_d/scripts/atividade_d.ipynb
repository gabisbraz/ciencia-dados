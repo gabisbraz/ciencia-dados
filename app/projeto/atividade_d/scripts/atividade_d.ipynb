{
 "cells": [
  {
   "cell_type": "markdown",
   "id": "d0dd68a5",
   "metadata": {},
   "source": [
    "# Projeto Integrador Parte D\n",
    "\n",
    "Entregas: \n",
    "1) Faça um relatório respondendo cada pergunta separadamente. \n",
    "2) Link para a base utilizada. \n",
    "3) Código completo em Python.\n",
    "\n",
    "Dando continuidade ao Projeto Integrador - Parte A, faça uma análise dos mesmos dados utilizados anteriormente, respondendo às seguintes questões:\n"
   ]
  },
  {
   "cell_type": "markdown",
   "id": "44b4149a",
   "metadata": {},
   "source": [
    "### ALUNAS\n",
    "- Gabriella Braz\n",
    "- Giovana Ribeiro"
   ]
  },
  {
   "cell_type": "code",
   "execution_count": 24,
   "id": "fcf7ebaf",
   "metadata": {},
   "outputs": [],
   "source": [
    "# Importar bibliotecas necessárias\n",
    "from sklearn.model_selection import train_test_split\n",
    "from sklearn.neighbors import KNeighborsClassifier\n",
    "from sklearn.metrics import (\n",
    "    roc_auc_score,\n",
    "    accuracy_score,\n",
    "    precision_score,\n",
    "    recall_score,\n",
    "    f1_score,\n",
    "    confusion_matrix,\n",
    ")\n",
    "import seaborn as sns\n",
    "import matplotlib.pyplot as plt\n",
    "import pandas as pd"
   ]
  },
  {
   "cell_type": "code",
   "execution_count": 25,
   "id": "e8c4d6de",
   "metadata": {},
   "outputs": [
    {
     "name": "stdout",
     "output_type": "stream",
     "text": [
      "gender                         object\n",
      "race_ethnicity                 object\n",
      "parental_level_of_education    object\n",
      "lunch                          object\n",
      "test_preparation_course        object\n",
      "math_score                      int64\n",
      "reading_score                   int64\n",
      "writing_score                   int64\n",
      "dtype: object\n"
     ]
    }
   ],
   "source": [
    "df = pd.read_csv(\"data/tb_1.csv\")\n",
    "print(df.dtypes)"
   ]
  },
  {
   "cell_type": "code",
   "execution_count": 26,
   "id": "004f6742",
   "metadata": {},
   "outputs": [],
   "source": [
    "df[\"target\"] = (\n",
    "    (df[\"math_score\"] + df[\"reading_score\"] + df[\"writing_score\"]) / 3 >= 60\n",
    ").astype(int)"
   ]
  },
  {
   "cell_type": "code",
   "execution_count": 27,
   "id": "6f365af8",
   "metadata": {},
   "outputs": [],
   "source": [
    "# Separar preditores e alvo\n",
    "X = df.drop(\"target\", axis=1)\n",
    "y = df[\"target\"]"
   ]
  },
  {
   "cell_type": "code",
   "execution_count": 28,
   "id": "9fdc54ac",
   "metadata": {},
   "outputs": [],
   "source": [
    "# Transformar variáveis categóricas em dummies\n",
    "X = pd.get_dummies(X, drop_first=True)"
   ]
  },
  {
   "cell_type": "code",
   "execution_count": 29,
   "id": "23e31e33",
   "metadata": {},
   "outputs": [],
   "source": [
    "# Dividir em treino e teste\n",
    "X_train, X_test, y_train, y_test = train_test_split(\n",
    "    X, y, test_size=0.3, random_state=42\n",
    ")"
   ]
  },
  {
   "cell_type": "code",
   "execution_count": 30,
   "id": "077dc6a1",
   "metadata": {},
   "outputs": [],
   "source": [
    "# Treinar modelo KNN\n",
    "knn = KNeighborsClassifier(n_neighbors=5)\n",
    "knn.fit(X_train, y_train)\n",
    "\n",
    "# Previsões\n",
    "y_pred = knn.predict(X_test)\n",
    "y_pred_proba = knn.predict_proba(X_test)[:, 1]"
   ]
  },
  {
   "cell_type": "code",
   "execution_count": 31,
   "id": "0da018ed",
   "metadata": {},
   "outputs": [
    {
     "name": "stdout",
     "output_type": "stream",
     "text": [
      "AUC-ROC Score: 0.9995\n",
      "Acurácia: 0.9833\n",
      "Precisão: 0.9834\n",
      "Recall: 0.9833\n",
      "F1-Score: 0.9834\n"
     ]
    }
   ],
   "source": [
    "# AUC-ROC (como é binário, podemos calcular diretamente)\n",
    "auc_roc = roc_auc_score(y_test, y_pred_proba)\n",
    "\n",
    "# Acurácia\n",
    "accuracy = accuracy_score(y_test, y_pred)\n",
    "# Precision\n",
    "precision = precision_score(y_test, y_pred, average=\"weighted\")\n",
    "# Recall\n",
    "recall = recall_score(y_test, y_pred, average=\"weighted\")\n",
    "# F1-Score\n",
    "f1 = f1_score(y_test, y_pred, average=\"weighted\")\n",
    "\n",
    "# Exibir resultados\n",
    "print(f\"AUC-ROC Score: {auc_roc:.4f}\")\n",
    "print(f\"Acurácia: {accuracy:.4f}\")\n",
    "print(f\"Precisão: {precision:.4f}\")\n",
    "print(f\"Recall: {recall:.4f}\")\n",
    "print(f\"F1-Score: {f1:.4f}\")"
   ]
  },
  {
   "cell_type": "code",
   "execution_count": 32,
   "id": "ee332c1d",
   "metadata": {},
   "outputs": [
    {
     "data": {
      "image/png": "[encoded data removed]",
      "text/plain": [
       "<Figure size 600x500 with 2 Axes>"
      ]
     },
     "metadata": {},
     "output_type": "display_data"
    }
   ],
   "source": [
    "# Matriz de confusão\n",
    "cm = confusion_matrix(y_test, y_pred)\n",
    "\n",
    "plt.figure(figsize=(6, 5))\n",
    "sns.heatmap(\n",
    "    cm,\n",
    "    annot=True,\n",
    "    fmt=\"d\",\n",
    "    cmap=\"Blues\",\n",
    "    xticklabels=[\"Reprovado\", \"Aprovado\"],\n",
    "    yticklabels=[\"Reprovado\", \"Aprovado\"],\n",
    ")\n",
    "plt.title(\"Matriz de Confusão\")\n",
    "plt.xlabel(\"Previsão\")\n",
    "plt.ylabel(\"Classe Real\")\n",
    "plt.show()"
   ]
  }
 ],
 "metadata": {
  "kernelspec": {
   "display_name": "GRAPH_NEURAL_NETWORK",
   "language": "python",
   "name": "python3"
  },
  "language_info": {
   "codemirror_mode": {
    "name": "ipython",
    "version": 3
   },
   "file_extension": ".py",
   "mimetype": "text/x-python",
   "name": "python",
   "nbconvert_exporter": "python",
   "pygments_lexer": "ipython3",
   "version": "3.12.3"
  }
 },
 "nbformat": 4,
 "nbformat_minor": 5
}
